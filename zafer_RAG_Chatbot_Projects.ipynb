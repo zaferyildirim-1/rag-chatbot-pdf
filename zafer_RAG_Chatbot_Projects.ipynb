{
 "cells": [
  {
   "cell_type": "markdown",
   "metadata": {
    "id": "DxOaSxtJWV1G"
   },
   "source": [
    "# WELCOME\n",
    "\n",
    "This notebook will guide you through two increasingly significant applications in the realm of Generative AI: RAG (Retrieval Augmented Generation) chatbots and text summarization for big text.\n",
    "\n",
    "Through two distinct projects, you will explore these technologies and enhance your skills. Detailed descriptions of the projects are provided below."
   ]
  },
  {
   "cell_type": "markdown",
   "metadata": {
    "id": "MaCz7nhxKI9R"
   },
   "source": [
    "## Project 1: Building a Chatbot with a PDF Document (RAG)\n",
    "\n",
    "In this project, you will develop a chatbot using a provided PDF document from web page. You will utilize the Langchain framework along with a large language model (LLM) such as GPT or Gemini. The chatbot will leverage the Retrieval Augmented Generation (RAG) technique to comprehend the document's content and respond to user queries effectively.\n",
    "\n",
    "### **Project Steps:**\n",
    "\n",
    "- **1.PDF Document Upload:** Upload the provided PDF document from web page (https://aclanthology.org/N19-1423.pdf) (BERT: Pre-training of Deep Bidirectional Transformers for Language Understanding).\n",
    "\n",
    "- **2.Chunking:** Divide the uploaded PDF document into smaller segments (chunks). This facilitates more efficient information processing by the LLM.\n",
    "\n",
    "- **3.ChromaDB Setup:**\n",
    "  - Save ChromaDB to your Google Drive.\n",
    "\n",
    "  - Retrieve ChromaDB from your Drive to begin using it in your project.\n",
    "\n",
    "  - ChromaDB serves as a vector database to store embedding vectors generated from your document.\n",
    "\n",
    "- **4.Embedding Vectors Creation:**\n",
    "  - Convert the chunked document into embedding vectors. You can use either GPT or Gemini embedding models for this purpose.\n",
    "\n",
    "  - If you choose the Gemini embedding model, set \"task_type\" to \"retrieval_document\" when converting the chunked document.\n",
    "\n",
    "- **5.Chatbot Development:**\n",
    "  - Utilize the **load_qa_chain** function from the Langchain library to build the chatbot.\n",
    "\n",
    "  - This function will interpret user queries, retrieve relevant information from **ChromaDB**, and generate responses accordingly.\n",
    "\n"
   ]
  },
  {
   "cell_type": "markdown",
   "metadata": {
    "id": "_eoQWi-uN0dx"
   },
   "source": [
    "### Install Libraries"
   ]
  },
  {
   "cell_type": "code",
   "execution_count": 1,
   "metadata": {
    "colab": {
     "base_uri": "https://localhost:8080/"
    },
    "id": "ezzzEQSpPOq5",
    "outputId": "2855ad95-b6ea-4b83-d2d6-37b47a2d960b"
   },
   "outputs": [
    {
     "name": "stdout",
     "output_type": "stream",
     "text": [
      "··········\n"
     ]
    }
   ],
   "source": [
    " #inspect what exactly is going on inside your chain or agent. The best way to do this is with LangSmith.\n",
    "\n",
    "import getpass\n",
    "import os\n",
    "\n",
    "os.environ[\"LANGSMITH_TRACING\"] = \"true\"\n",
    "os.environ[\"LANGSMITH_API_KEY\"] = getpass.getpass()\n",
    "\n",
    "# https://smith.langchain.com/o/b249c21a-9672-4a8d-8cc6-c968dbdc2fef/projects/p/4e4bb92c-e1bf-4c57-b0a2-55976ce9d2e7?timeModel=%7B%22duration%22%3A%227d%22%7D&searchModel=%7B%22filter%22%3A%22%22%7D"
   ]
  },
  {
   "cell_type": "code",
   "execution_count": 16,
   "metadata": {
    "id": "wU8dEnoIriy5"
   },
   "outputs": [],
   "source": [
    "!pip install -qU langchain-community # access the tools and components (like DocumentLoaders, TextSplitters, VectorStores, and Retrievers)\n",
    "\n",
    "!pip install -qU langchain-openai # utilize OpenAI's models for the \"Generation\" part\n",
    "\n",
    "# !pip install -qU langchain-google-community        # Google's LLMs for the \"Generation\" part\n",
    "\n",
    "\n",
    "!pip install -qU langchain-chroma # the \"Store\" step of the \"Indexing\" pipeline\n",
    "\n",
    "!pip install -qU pypdfium2 #  the \"Load\" step of the \"Indexing\" pipeline, DocumentLoader to effectively extract text from PDF documents"
   ]
  },
  {
   "cell_type": "markdown",
   "metadata": {
    "id": "FuLllnCl2yfe"
   },
   "source": [
    "### Access Google Drive"
   ]
  },
  {
   "cell_type": "code",
   "execution_count": 17,
   "metadata": {
    "colab": {
     "base_uri": "https://localhost:8080/"
    },
    "id": "WvK9xdKk4lJx",
    "outputId": "6c6ea1c5-b801-437f-8318-a7dfa67f853a"
   },
   "outputs": [
    {
     "name": "stdout",
     "output_type": "stream",
     "text": [
      "Drive already mounted at /content/drive; to attempt to forcibly remount, call drive.mount(\"/content/drive\", force_remount=True).\n"
     ]
    }
   ],
   "source": [
    "from google.colab import drive\n",
    "drive.mount('/content/drive')"
   ]
  },
  {
   "cell_type": "markdown",
   "metadata": {
    "id": "0uR9bJp_0MyF"
   },
   "source": [
    "### Entering Your OpenAI or Google Gemini API Key."
   ]
  },
  {
   "cell_type": "code",
   "execution_count": 18,
   "metadata": {
    "id": "PAIPmAKBzR6X"
   },
   "outputs": [],
   "source": [
    "import os\n",
    "from google.colab import userdata\n",
    "os.environ['OPENAI_API_KEY']=userdata.get('OPENAI_API_KEY')"
   ]
  },
  {
   "cell_type": "markdown",
   "metadata": {
    "id": "OV9rG-0PN8p0"
   },
   "source": [
    "### Loading PDF Document"
   ]
  },
  {
   "cell_type": "code",
   "execution_count": 19,
   "metadata": {
    "id": "5H6eQyYyauxP"
   },
   "outputs": [],
   "source": [
    "\n",
    "# PDF reader function\n",
    "# It reads PDFs page by page and outputs Document objects (LangChain’s standard format). Returning a List[Document] → perfect, because the next step (chunking with RecursiveCharacterTextSplitter) expects this format\n",
    "from langchain_community.document_loaders import PyPDFium2Loader\n",
    "\n",
    "def read_doc(file_path: str):\n",
    "    \"\"\"\n",
    "    Reads a PDF file and returns its pages as LangChain Document objects.\n",
    "    Args:\n",
    "        file_path (str): Path to the PDF file.\n",
    "    Returns:\n",
    "        List[Document]: A list of Document objects, one per page.\n",
    "    \"\"\"\n",
    "\n",
    "    loader = PyPDFium2Loader(file_path)\n",
    "    pdf_documents = loader.load()          # Reads PDF page by page\n",
    "    return pdf_documents"
   ]
  },
  {
   "cell_type": "code",
   "execution_count": 20,
   "metadata": {
    "colab": {
     "base_uri": "https://localhost:8080/"
    },
    "id": "n_kXJZ5Taupv",
    "outputId": "aac0ddff-15e9-408a-cb6d-5bc5df0caf11"
   },
   "outputs": [
    {
     "name": "stdout",
     "output_type": "stream",
     "text": [
      "-------------------------------------------------------\n",
      "The pdf file has 16 pages.\n"
     ]
    }
   ],
   "source": [
    "pdf = read_doc('/content/drive/MyDrive/nlp/bert_article.pdf')\n",
    "\n",
    "print(f\"-\" * 55)\n",
    "\n",
    "print(f\"The pdf file has {len(pdf)} pages.\")\n",
    "\n"
   ]
  },
  {
   "cell_type": "code",
   "execution_count": 21,
   "metadata": {
    "colab": {
     "base_uri": "https://localhost:8080/"
    },
    "collapsed": true,
    "id": "nu0Z1XUQzdVq",
    "jupyter": {
     "outputs_hidden": true
    },
    "outputId": "635d29e4-6100-4402-a482-6c1368057f83"
   },
   "outputs": [
    {
     "data": {
      "text/plain": [
       "[Document(metadata={'producer': 'pdfTeX-1.40.18', 'creator': 'LaTeX with hyperref package', 'creationdate': '2019-04-29T17:36:03+00:00', 'title': 'BERT: Pre-training of Deep Bidirectional Transformers for Language Understanding', 'author': 'Jacob Devlin ; Ming-Wei Chang ; Kenton Lee ; Kristina Toutanova', 'subject': 'N19-1 2019', 'keywords': '', 'moddate': '2019-04-29T17:36:03+00:00', 'source': '/content/drive/MyDrive/nlp/bert_article.pdf', 'total_pages': 16, 'page': 0}, page_content='Proceedings of NAACL-HLT 2019, pages 4171–4186\\nMinneapolis, Minnesota, June 2 - June 7, 2019. \\nc 2019 Association for Computational Linguistics\\n4171\\nBERT: Pre-training of Deep Bidirectional Transformers for\\nLanguage Understanding\\nJacob Devlin Ming-Wei Chang Kenton Lee Kristina Toutanova\\nGoogle AI Language\\n{jacobdevlin,mingweichang,kentonl,kristout}@google.com\\nAbstract\\nWe introduce a new language representa\\x02tion model called BERT, which stands for\\nBidirectional Encoder Representations from\\nTransformers. Unlike recent language repre\\x02sentation models (Peters et al., 2018a; Rad\\x02ford et al., 2018), BERT is designed to pre\\x02train deep bidirectional representations from\\nunlabeled text by jointly conditioning on both\\nleft and right context in all layers. As a re\\x02sult, the pre-trained BERT model can be fine\\x02tuned with just one additional output layer\\nto create state-of-the-art models for a wide\\nrange of tasks, such as question answering and\\nlanguage inference, without substantial task\\x02specific architecture modifications.\\nBERT is conceptually simple and empirically\\npowerful. It obtains new state-of-the-art re\\x02sults on eleven natural language processing\\ntasks, including pushing the GLUE score to\\n80.5% (7.7% point absolute improvement),\\nMultiNLI accuracy to 86.7% (4.6% absolute\\nimprovement), SQuAD v1.1 question answer\\x02ing Test F1 to 93.2 (1.5 point absolute im\\x02provement) and SQuAD v2.0 Test F1 to 83.1\\n(5.1 point absolute improvement).\\n1 Introduction\\nLanguage model pre-training has been shown to\\nbe effective for improving many natural language\\nprocessing tasks (Dai and Le, 2015; Peters et al.,\\n2018a; Radford et al., 2018; Howard and Ruder,\\n2018). These include sentence-level tasks such as\\nnatural language inference (Bowman et al., 2015;\\nWilliams et al., 2018) and paraphrasing (Dolan\\nand Brockett, 2005), which aim to predict the re\\x02lationships between sentences by analyzing them\\nholistically, as well as token-level tasks such as\\nnamed entity recognition and question answering,\\nwhere models are required to produce fine-grained\\noutput at the token level (Tjong Kim Sang and\\nDe Meulder, 2003; Rajpurkar et al., 2016).\\nThere are two existing strategies for apply\\x02ing pre-trained language representations to down\\x02stream tasks: feature-based and fine-tuning. The\\nfeature-based approach, such as ELMo (Peters\\net al., 2018a), uses task-specific architectures that\\ninclude the pre-trained representations as addi\\x02tional features. The fine-tuning approach, such as\\nthe Generative Pre-trained Transformer (OpenAI\\nGPT) (Radford et al., 2018), introduces minimal\\ntask-specific parameters, and is trained on the\\ndownstream tasks by simply fine-tuning all pre\\x02trained parameters. The two approaches share the\\nsame objective function during pre-training, where\\nthey use unidirectional language models to learn\\ngeneral language representations.\\nWe argue that current techniques restrict the\\npower of the pre-trained representations, espe\\x02cially for the fine-tuning approaches. The ma\\x02jor limitation is that standard language models are\\nunidirectional, and this limits the choice of archi\\x02tectures that can be used during pre-training. For\\nexample, in OpenAI GPT, the authors use a left-to\\x02right architecture, where every token can only at\\x02tend to previous tokens in the self-attention layers\\nof the Transformer (Vaswani et al., 2017). Such re\\x02strictions are sub-optimal for sentence-level tasks,\\nand could be very harmful when applying fine\\x02tuning based approaches to token-level tasks such\\nas question answering, where it is crucial to incor\\x02porate context from both directions.\\nIn this paper, we improve the fine-tuning based\\napproaches by proposing BERT: Bidirectional\\nEncoder Representations from Transformers.\\nBERT alleviates the previously mentioned unidi\\x02rectionality constraint by using a “masked lan\\x02guage model” (MLM) pre-training objective, in\\x02spired by the Cloze task (Taylor, 1953). The\\nmasked language model randomly masks some of\\nthe tokens from the input, and the objective is to\\npredict the original vocabulary id of the masked\\n'),\n",
       " Document(metadata={'producer': 'pdfTeX-1.40.18', 'creator': 'LaTeX with hyperref package', 'creationdate': '2019-04-29T17:36:03+00:00', 'title': 'BERT: Pre-training of Deep Bidirectional Transformers for Language Understanding', 'author': 'Jacob Devlin ; Ming-Wei Chang ; Kenton Lee ; Kristina Toutanova', 'subject': 'N19-1 2019', 'keywords': '', 'moddate': '2019-04-29T17:36:03+00:00', 'source': '/content/drive/MyDrive/nlp/bert_article.pdf', 'total_pages': 16, 'page': 1}, page_content='4172\\nword based only on its context. Unlike left-to\\x02right language model pre-training, the MLM ob\\x02jective enables the representation to fuse the left\\nand the right context, which allows us to pre\\x02train a deep bidirectional Transformer. In addi\\x02tion to the masked language model, we also use\\na “next sentence prediction” task that jointly pre\\x02trains text-pair representations. The contributions\\nof our paper are as follows:\\n• We demonstrate the importance of bidirectional\\npre-training for language representations. Un\\x02like Radford et al. (2018), which uses unidirec\\x02tional language models for pre-training, BERT\\nuses masked language models to enable pre\\x02trained deep bidirectional representations. This\\nis also in contrast to Peters et al. (2018a), which\\nuses a shallow concatenation of independently\\ntrained left-to-right and right-to-left LMs.\\n• We show that pre-trained representations reduce\\nthe need for many heavily-engineered task\\x02specific architectures. BERT is the first fine\\x02tuning based representation model that achieves\\nstate-of-the-art performance on a large suite\\nof sentence-level and token-level tasks, outper\\x02forming many task-specific architectures.\\n• BERT advances the state of the art for eleven\\nNLP tasks. The code and pre-trained mod\\x02els are available at https://github.com/\\ngoogle-research/bert.\\n2 Related Work\\nThere is a long history of pre-training general lan\\x02guage representations, and we briefly review the\\nmost widely-used approaches in this section.\\n2.1 Unsupervised Feature-based Approaches\\nLearning widely applicable representations of\\nwords has been an active area of research for\\ndecades, including non-neural (Brown et al., 1992;\\nAndo and Zhang, 2005; Blitzer et al., 2006) and\\nneural (Mikolov et al., 2013; Pennington et al.,\\n2014) methods. Pre-trained word embeddings\\nare an integral part of modern NLP systems, of\\x02fering significant improvements over embeddings\\nlearned from scratch (Turian et al., 2010). To pre\\x02train word embedding vectors, left-to-right lan\\x02guage modeling objectives have been used (Mnih\\nand Hinton, 2009), as well as objectives to dis\\x02criminate correct from incorrect words in left and\\nright context (Mikolov et al., 2013).\\nThese approaches have been generalized to\\ncoarser granularities, such as sentence embed\\x02dings (Kiros et al., 2015; Logeswaran and Lee,\\n2018) or paragraph embeddings (Le and Mikolov,\\n2014). To train sentence representations, prior\\nwork has used objectives to rank candidate next\\nsentences (Jernite et al., 2017; Logeswaran and\\nLee, 2018), left-to-right generation of next sen\\x02tence words given a representation of the previous\\nsentence (Kiros et al., 2015), or denoising auto\\x02encoder derived objectives (Hill et al., 2016).\\nELMo and its predecessor (Peters et al., 2017,\\n2018a) generalize traditional word embedding re\\x02search along a different dimension. They extract\\ncontext-sensitive features from a left-to-right and a\\nright-to-left language model. The contextual rep\\x02resentation of each token is the concatenation of\\nthe left-to-right and right-to-left representations.\\nWhen integrating contextual word embeddings\\nwith existing task-specific architectures, ELMo\\nadvances the state of the art for several major NLP\\nbenchmarks (Peters et al., 2018a) including ques\\x02tion answering (Rajpurkar et al., 2016), sentiment\\nanalysis (Socher et al., 2013), and named entity\\nrecognition (Tjong Kim Sang and De Meulder,\\n2003). Melamud et al. (2016) proposed learning\\ncontextual representations through a task to pre\\x02dict a single word from both left and right context\\nusing LSTMs. Similar to ELMo, their model is\\nfeature-based and not deeply bidirectional. Fedus\\net al. (2018) shows that the cloze task can be used\\nto improve the robustness of text generation mod\\x02els.\\n2.2 Unsupervised Fine-tuning Approaches\\nAs with the feature-based approaches, the first\\nworks in this direction only pre-trained word em\\x02bedding parameters from unlabeled text (Col\\x02lobert and Weston, 2008).\\nMore recently, sentence or document encoders\\nwhich produce contextual token representations\\nhave been pre-trained from unlabeled text and\\nfine-tuned for a supervised downstream task (Dai\\nand Le, 2015; Howard and Ruder, 2018; Radford\\net al., 2018). The advantage of these approaches\\nis that few parameters need to be learned from\\nscratch. At least partly due to this advantage,\\nOpenAI GPT (Radford et al., 2018) achieved pre\\x02viously state-of-the-art results on many sentence\\x02level tasks from the GLUE benchmark (Wang\\net al., 2018a). Left-to-right language model-\\n'),\n",
       " Document(metadata={'producer': 'pdfTeX-1.40.18', 'creator': 'LaTeX with hyperref package', 'creationdate': '2019-04-29T17:36:03+00:00', 'title': 'BERT: Pre-training of Deep Bidirectional Transformers for Language Understanding', 'author': 'Jacob Devlin ; Ming-Wei Chang ; Kenton Lee ; Kristina Toutanova', 'subject': 'N19-1 2019', 'keywords': '', 'moddate': '2019-04-29T17:36:03+00:00', 'source': '/content/drive/MyDrive/nlp/bert_article.pdf', 'total_pages': 16, 'page': 2}, page_content='4173\\nBERT BERT\\nE[CLS] E1\\n E[SEP] ... EN\\nE1’ ... EM’\\nC T1 T[SEP] ... TN\\nT1’ ... TM’\\n[CLS] Tok 1 [SEP] ... Tok N Tok 1 ... TokM\\nQuestion Paragraph\\nStart/End Span\\nBERT\\nE[CLS] E1\\n E[SEP] ... EN\\nE1’ ... EM’\\nC T1 T[SEP] ... TN\\nT1’ ... TM’\\n[CLS] Tok 1 [SEP] ... Tok N Tok 1 ... TokM\\nMasked Sentence A Masked Sentence B\\nPre-training Fine-Tuning\\nNSP Mask LM Mask LM\\nUnlabeled Sentence A and B Pair \\nSQuAD\\nQuestion Answer Pair\\nMNLI NER\\nFigure 1: Overall pre-training and fine-tuning procedures for BERT. Apart from output layers, the same architec\\x02tures are used in both pre-training and fine-tuning. The same pre-trained model parameters are used to initialize\\nmodels for different down-stream tasks. During fine-tuning, all parameters are fine-tuned. [CLS] is a special\\nsymbol added in front of every input example, and [SEP] is a special separator token (e.g. separating ques\\x02tions/answers).\\ning and auto-encoder objectives have been used\\nfor pre-training such models (Howard and Ruder,\\n2018; Radford et al., 2018; Dai and Le, 2015).\\n2.3 Transfer Learning from Supervised Data\\nThere has also been work showing effective trans\\x02fer from supervised tasks with large datasets, such\\nas natural language inference (Conneau et al.,\\n2017) and machine translation (McCann et al.,\\n2017). Computer vision research has also demon\\x02strated the importance of transfer learning from\\nlarge pre-trained models, where an effective recipe\\nis to fine-tune models pre-trained with Ima\\x02geNet (Deng et al., 2009; Yosinski et al., 2014).\\n3 BERT\\nWe introduce BERT and its detailed implementa\\x02tion in this section. There are two steps in our\\nframework: pre-training and fine-tuning. Dur\\x02ing pre-training, the model is trained on unlabeled\\ndata over different pre-training tasks. For fine\\x02tuning, the BERT model is first initialized with\\nthe pre-trained parameters, and all of the param\\x02eters are fine-tuned using labeled data from the\\ndownstream tasks. Each downstream task has sep\\x02arate fine-tuned models, even though they are ini\\x02tialized with the same pre-trained parameters. The\\nquestion-answering example in Figure 1 will serve\\nas a running example for this section.\\nA distinctive feature of BERT is its unified ar\\x02chitecture across different tasks. There is mini\\x02mal difference between the pre-trained architec\\x02ture and the final downstream architecture.\\nModel Architecture BERT’s model architec\\x02ture is a multi-layer bidirectional Transformer en\\x02coder based on the original implementation de\\x02scribed in Vaswani et al. (2017) and released in\\nthe tensor2tensor library.1 Because the use\\nof Transformers has become common and our im\\x02plementation is almost identical to the original,\\nwe will omit an exhaustive background descrip\\x02tion of the model architecture and refer readers to\\nVaswani et al. (2017) as well as excellent guides\\nsuch as “The Annotated Transformer.”2\\nIn this work, we denote the number of layers\\n(i.e., Transformer blocks) as L, the hidden size as\\nH, and the number of self-attention heads as A.\\n3\\nWe primarily report results on two model sizes:\\nBERTBASE (L=12, H=768, A=12, Total Param\\x02eters=110M) and BERTLARGE (L=24, H=1024,\\nA=16, Total Parameters=340M).\\nBERTBASE was chosen to have the same model\\nsize as OpenAI GPT for comparison purposes.\\nCritically, however, the BERT Transformer uses\\nbidirectional self-attention, while the GPT Trans\\x02former uses constrained self-attention where every\\ntoken can only attend to context to its left.4\\n1\\nhttps://github.com/tensorflow/tensor2tensor\\n2\\nhttp://nlp.seas.harvard.edu/2018/04/03/attention.html\\n3\\nIn all cases we set the feed-forward/filter size to be 4H,\\ni.e., 3072 for the H = 768 and 4096 for the H = 1024.\\n4We note that in the literature the bidirectional Trans-\\n'),\n",
       " Document(metadata={'producer': 'pdfTeX-1.40.18', 'creator': 'LaTeX with hyperref package', 'creationdate': '2019-04-29T17:36:03+00:00', 'title': 'BERT: Pre-training of Deep Bidirectional Transformers for Language Understanding', 'author': 'Jacob Devlin ; Ming-Wei Chang ; Kenton Lee ; Kristina Toutanova', 'subject': 'N19-1 2019', 'keywords': '', 'moddate': '2019-04-29T17:36:03+00:00', 'source': '/content/drive/MyDrive/nlp/bert_article.pdf', 'total_pages': 16, 'page': 3}, page_content='4174\\nInput/Output Representations To make BERT\\nhandle a variety of down-stream tasks, our input\\nrepresentation is able to unambiguously represent\\nboth a single sentence and a pair of sentences\\n(e.g., h Question, Answeri) in one token sequence.\\nThroughout this work, a “sentence” can be an arbi\\x02trary span of contiguous text, rather than an actual\\nlinguistic sentence. A “sequence” refers to the in\\x02put token sequence to BERT, which may be a sin\\x02gle sentence or two sentences packed together.\\nWe use WordPiece embeddings (Wu et al.,\\n2016) with a 30,000 token vocabulary. The first\\ntoken of every sequence is always a special clas\\x02sification token ([CLS]). The final hidden state\\ncorresponding to this token is used as the ag\\x02gregate sequence representation for classification\\ntasks. Sentence pairs are packed together into a\\nsingle sequence. We differentiate the sentences in\\ntwo ways. First, we separate them with a special\\ntoken ([SEP]). Second, we add a learned embed\\x02ding to every token indicating whether it belongs\\nto sentence A or sentence B. As shown in Figure 1,\\nwe denote input embedding as E, the final hidden\\nvector of the special [CLS] token as C ∈ R\\nH,\\nand the final hidden vector for the i\\nth input token\\nas Ti ∈ R\\nH.\\nFor a given token, its input representation is\\nconstructed by summing the corresponding token,\\nsegment, and position embeddings. A visualiza\\x02tion of this construction can be seen in Figure 2.\\n3.1 Pre-training BERT\\nUnlike Peters et al. (2018a) and Radford et al.\\n(2018), we do not use traditional left-to-right or\\nright-to-left language models to pre-train BERT.\\nInstead, we pre-train BERT using two unsuper\\x02vised tasks, described in this section. This step\\nis presented in the left part of Figure 1.\\nTask #1: Masked LM Intuitively, it is reason\\x02able to believe that a deep bidirectional model is\\nstrictly more powerful than either a left-to-right\\nmodel or the shallow concatenation of a left-to\\x02right and a right-to-left model. Unfortunately,\\nstandard conditional language models can only be\\ntrained left-to-right or right-to-left, since bidirec\\x02tional conditioning would allow each word to in\\x02directly “see itself”, and the model could trivially\\npredict the target word in a multi-layered context.\\nformer is often referred to as a “Transformer encoder” while\\nthe left-context-only version is referred to as a “Transformer\\ndecoder” since it can be used for text generation.\\nIn order to train a deep bidirectional representa\\x02tion, we simply mask some percentage of the input\\ntokens at random, and then predict those masked\\ntokens. We refer to this procedure as a “masked\\nLM” (MLM), although it is often referred to as a\\nCloze task in the literature (Taylor, 1953). In this\\ncase, the final hidden vectors corresponding to the\\nmask tokens are fed into an output softmax over\\nthe vocabulary, as in a standard LM. In all of our\\nexperiments, we mask 15% of all WordPiece to\\x02kens in each sequence at random. In contrast to\\ndenoising auto-encoders (Vincent et al., 2008), we\\nonly predict the masked words rather than recon\\x02structing the entire input.\\nAlthough this allows us to obtain a bidirec\\x02tional pre-trained model, a downside is that we\\nare creating a mismatch between pre-training and\\nfine-tuning, since the [MASK] token does not ap\\x02pear during fine-tuning. To mitigate this, we do\\nnot always replace “masked” words with the ac\\x02tual [MASK] token. The training data generator\\nchooses 15% of the token positions at random for\\nprediction. If the i-th token is chosen, we replace\\nthe i-th token with (1) the [MASK] token 80% of\\nthe time (2) a random token 10% of the time (3)\\nthe unchanged i-th token 10% of the time. Then,\\nTi will be used to predict the original token with\\ncross entropy loss. We compare variations of this\\nprocedure in Appendix C.2.\\nTask #2: Next Sentence Prediction (NSP)\\nMany important downstream tasks such as Ques\\x02tion Answering (QA) and Natural Language Infer\\x02ence (NLI) are based on understanding the rela\\x02tionship between two sentences, which is not di\\x02rectly captured by language modeling. In order\\nto train a model that understands sentence rela\\x02tionships, we pre-train for a binarized next sen\\x02tence prediction task that can be trivially gener\\x02ated from any monolingual corpus. Specifically,\\nwhen choosing the sentences A and B for each pre\\x02training example, 50% of the time B is the actual\\nnext sentence that follows A (labeled as IsNext),\\nand 50% of the time it is a random sentence from\\nthe corpus (labeled as NotNext). As we show\\nin Figure 1, C is used for next sentence predic\\x02tion (NSP).5 Despite its simplicity, we demon\\x02strate in Section 5.1 that pre-training towards this\\ntask is very beneficial to both QA and NLI. 6\\n5The final model achieves 97%-98% accuracy on NSP.\\n6The vector C is not a meaningful sentence representation\\nwithout fine-tuning, since it was trained with NSP.\\n'),\n",
       " Document(metadata={'producer': 'pdfTeX-1.40.18', 'creator': 'LaTeX with hyperref package', 'creationdate': '2019-04-29T17:36:03+00:00', 'title': 'BERT: Pre-training of Deep Bidirectional Transformers for Language Understanding', 'author': 'Jacob Devlin ; Ming-Wei Chang ; Kenton Lee ; Kristina Toutanova', 'subject': 'N19-1 2019', 'keywords': '', 'moddate': '2019-04-29T17:36:03+00:00', 'source': '/content/drive/MyDrive/nlp/bert_article.pdf', 'total_pages': 16, 'page': 4}, page_content='4175\\n[CLS] my dog is cute [SEP] he likes play ##ing [SEP] Input\\nE[CLS] Ehe Elikes Eplay E##ing E[SEP] Emy Edog Eis Ecute E[SEP]\\nToken\\nEmbeddings\\nEAEBEBEBEBEBEAEAEAEAEA\\nSegment\\nEmbeddings\\nE0 E6E7E8E9E10 E1E2E3E4E5\\nPosition\\nEmbeddings\\nFigure 2: BERT input representation. The input embeddings are the sum of the token embeddings, the segmenta\\x02tion embeddings and the position embeddings.\\nThe NSP task is closely related to representation\\x02learning objectives used in Jernite et al. (2017) and\\nLogeswaran and Lee (2018). However, in prior\\nwork, only sentence embeddings are transferred to\\ndown-stream tasks, where BERT transfers all pa\\x02rameters to initialize end-task model parameters.\\nPre-training data The pre-training procedure\\nlargely follows the existing literature on language\\nmodel pre-training. For the pre-training corpus we\\nuse the BooksCorpus (800M words) (Zhu et al.,\\n2015) and English Wikipedia (2,500M words).\\nFor Wikipedia we extract only the text passages\\nand ignore lists, tables, and headers. It is criti\\x02cal to use a document-level corpus rather than a\\nshuffled sentence-level corpus such as the Billion\\nWord Benchmark (Chelba et al., 2013) in order to\\nextract long contiguous sequences.\\n3.2 Fine-tuning BERT\\nFine-tuning is straightforward since the self\\x02attention mechanism in the Transformer al\\x02lows BERT to model many downstream tasks—\\nwhether they involve single text or text pairs—by\\nswapping out the appropriate inputs and outputs.\\nFor applications involving text pairs, a common\\npattern is to independently encode text pairs be\\x02fore applying bidirectional cross attention, such\\nas Parikh et al. (2016); Seo et al. (2017). BERT\\ninstead uses the self-attention mechanism to unify\\nthese two stages, as encoding a concatenated text\\npair with self-attention effectively includes bidi\\x02rectional cross attention between two sentences.\\nFor each task, we simply plug in the task\\x02specific inputs and outputs into BERT and fine\\x02tune all the parameters end-to-end. At the in\\x02put, sentence A and sentence B from pre-training\\nare analogous to (1) sentence pairs in paraphras\\x02ing, (2) hypothesis-premise pairs in entailment, (3)\\nquestion-passage pairs in question answering, and\\n(4) a degenerate text-∅ pair in text classification\\nor sequence tagging. At the output, the token rep\\x02resentations are fed into an output layer for token\\x02level tasks, such as sequence tagging or question\\nanswering, and the [CLS] representation is fed\\ninto an output layer for classification, such as en\\x02tailment or sentiment analysis.\\nCompared to pre-training, fine-tuning is rela\\x02tively inexpensive. All of the results in the pa\\x02per can be replicated in at most 1 hour on a sin\\x02gle Cloud TPU, or a few hours on a GPU, starting\\nfrom the exact same pre-trained model.7 We de\\x02scribe the task-specific details in the correspond\\x02ing subsections of Section 4. More details can be\\nfound in Appendix A.5.\\n4 Experiments\\nIn this section, we present BERT fine-tuning re\\x02sults on 11 NLP tasks.\\n4.1 GLUE\\nThe General Language Understanding Evaluation\\n(GLUE) benchmark (Wang et al., 2018a) is a col\\x02lection of diverse natural language understanding\\ntasks. Detailed descriptions of GLUE datasets are\\nincluded in Appendix B.1.\\nTo fine-tune on GLUE, we represent the input\\nsequence (for single sentence or sentence pairs)\\nas described in Section 3, and use the final hid\\x02den vector C ∈ R\\nH corresponding to the first\\ninput token ([CLS]) as the aggregate representa\\x02tion. The only new parameters introduced during\\nfine-tuning are classification layer weights W ∈\\nR\\nK×H, where K is the number of labels. We com\\x02pute a standard classification loss with C and W,\\ni.e., log(softmax(CWT)).\\n7\\nFor example, the BERT SQuAD model can be trained in\\naround 30 minutes on a single Cloud TPU to achieve a Dev\\nF1 score of 91.0%.\\n8\\nSee (10) in https://gluebenchmark.com/faq.\\n'),\n",
       " Document(metadata={'producer': 'pdfTeX-1.40.18', 'creator': 'LaTeX with hyperref package', 'creationdate': '2019-04-29T17:36:03+00:00', 'title': 'BERT: Pre-training of Deep Bidirectional Transformers for Language Understanding', 'author': 'Jacob Devlin ; Ming-Wei Chang ; Kenton Lee ; Kristina Toutanova', 'subject': 'N19-1 2019', 'keywords': '', 'moddate': '2019-04-29T17:36:03+00:00', 'source': '/content/drive/MyDrive/nlp/bert_article.pdf', 'total_pages': 16, 'page': 5}, page_content='4176\\nSystem MNLI-(m/mm) QQP QNLI SST-2 CoLA STS-B MRPC RTE Average\\n392k 363k 108k 67k 8.5k 5.7k 3.5k 2.5k -\\nPre-OpenAI SOTA 80.6/80.1 66.1 82.3 93.2 35.0 81.0 86.0 61.7 74.0\\nBiLSTM+ELMo+Attn 76.4/76.1 64.8 79.8 90.4 36.0 73.3 84.9 56.8 71.0\\nOpenAI GPT 82.1/81.4 70.3 87.4 91.3 45.4 80.0 82.3 56.0 75.1\\nBERTBASE 84.6/83.4 71.2 90.5 93.5 52.1 85.8 88.9 66.4 79.6\\nBERTLARGE 86.7/85.9 72.1 92.7 94.9 60.5 86.5 89.3 70.1 82.1\\nTable 1: GLUE Test results, scored by the evaluation server (https://gluebenchmark.com/leaderboard).\\nThe number below each task denotes the number of training examples. The “Average” column is slightly different\\nthan the official GLUE score, since we exclude the problematic WNLI set.8 BERT and OpenAI GPT are single\\x02model, single task. F1 scores are reported for QQP and MRPC, Spearman correlations are reported for STS-B, and\\naccuracy scores are reported for the other tasks. We exclude entries that use BERT as one of their components.\\nWe use a batch size of 32 and fine-tune for 3\\nepochs over the data for all GLUE tasks. For each\\ntask, we selected the best fine-tuning learning rate\\n(among 5e-5, 4e-5, 3e-5, and 2e-5) on the Dev set.\\nAdditionally, for BERTLARGE we found that fine\\x02tuning was sometimes unstable on small datasets,\\nso we ran several random restarts and selected the\\nbest model on the Dev set. With random restarts,\\nwe use the same pre-trained checkpoint but per\\x02form different fine-tuning data shuffling and clas\\x02sifier layer initialization.9\\nResults are presented in Table 1. Both\\nBERTBASE and BERTLARGE outperform all sys\\x02tems on all tasks by a substantial margin, obtaining\\n4.5% and 7.0% respective average accuracy im\\x02provement over the prior state of the art. Note that\\nBERTBASE and OpenAI GPT are nearly identical\\nin terms of model architecture apart from the at\\x02tention masking. For the largest and most widely\\nreported GLUE task, MNLI, BERT obtains a 4.6%\\nabsolute accuracy improvement. On the official\\nGLUE leaderboard10, BERTLARGE obtains a score\\nof 80.5, compared to OpenAI GPT, which obtains\\n72.8 as of the date of writing.\\nWe find that BERTLARGE significantly outper\\x02forms BERTBASE across all tasks, especially those\\nwith very little training data. The effect of model\\nsize is explored more thoroughly in Section 5.2.\\n4.2 SQuAD v1.1\\nThe Stanford Question Answering Dataset\\n(SQuAD v1.1) is a collection of 100k crowd\\x02sourced question/answer pairs (Rajpurkar et al.,\\n2016). Given a question and a passage from\\n9The GLUE data set distribution does not include the Test\\nlabels, and we only made a single GLUE evaluation server\\nsubmission for each of BERTBASE and BERTLARGE.\\n10https://gluebenchmark.com/leaderboard\\nWikipedia containing the answer, the task is to\\npredict the answer text span in the passage.\\nAs shown in Figure 1, in the question answer\\x02ing task, we represent the input question and pas\\x02sage as a single packed sequence, with the ques\\x02tion using the A embedding and the passage using\\nthe B embedding. We only introduce a start vec\\x02tor S ∈ R\\nH and an end vector E ∈ RH during\\nfine-tuning. The probability of word i being the\\nstart of the answer span is computed as a dot prod\\x02uct between Ti and S followed by a softmax over\\nall of the words in the paragraph: Pi =\\ne\\nS·Ti P\\nj\\ne\\nS·Tj\\n.\\nThe analogous formula is used for the end of the\\nanswer span. The score of a candidate span from\\nposition i to position j is defined as S·Ti + E·Tj ,\\nand the maximum scoring span where j ≥ i is\\nused as a prediction. The training objective is the\\nsum of the log-likelihoods of the correct start and\\nend positions. We fine-tune for 3 epochs with a\\nlearning rate of 5e-5 and a batch size of 32.\\nTable 2 shows top leaderboard entries as well\\nas results from top published systems (Seo et al.,\\n2017; Clark and Gardner, 2018; Peters et al.,\\n2018a; Hu et al., 2018). The top results from the\\nSQuAD leaderboard do not have up-to-date public\\nsystem descriptions available,11 and are allowed to\\nuse any public data when training their systems.\\nWe therefore use modest data augmentation in\\nour system by first fine-tuning on TriviaQA (Joshi\\net al., 2017) befor fine-tuning on SQuAD.\\nOur best performing system outperforms the top\\nleaderboard system by +1.5 F1 in ensembling and\\n+1.3 F1 as a single system. In fact, our single\\nBERT model outperforms the top ensemble sys\\x02tem in terms of F1 score. Without TriviaQA fine\\x0211QANet is described in Yu et al. (2018), but the system\\nhas improved substantially after publication.\\n'),\n",
       " Document(metadata={'producer': 'pdfTeX-1.40.18', 'creator': 'LaTeX with hyperref package', 'creationdate': '2019-04-29T17:36:03+00:00', 'title': 'BERT: Pre-training of Deep Bidirectional Transformers for Language Understanding', 'author': 'Jacob Devlin ; Ming-Wei Chang ; Kenton Lee ; Kristina Toutanova', 'subject': 'N19-1 2019', 'keywords': '', 'moddate': '2019-04-29T17:36:03+00:00', 'source': '/content/drive/MyDrive/nlp/bert_article.pdf', 'total_pages': 16, 'page': 6}, page_content='4177\\nSystem Dev Test\\nEM F1 EM F1\\nTop Leaderboard Systems (Dec 10th, 2018)\\nHuman - - 82.3 91.2\\n#1 Ensemble - nlnet - - 86.0 91.7\\n#2 Ensemble - QANet - - 84.5 90.5\\nPublished\\nBiDAF+ELMo (Single) - 85.6 - 85.8\\nR.M. Reader (Ensemble) 81.2 87.9 82.3 88.5\\nOurs\\nBERTBASE (Single) 80.8 88.5 - -\\nBERTLARGE (Single) 84.1 90.9 - -\\nBERTLARGE (Ensemble) 85.8 91.8 - -\\nBERTLARGE (Sgl.+TriviaQA) 84.2 91.1 85.1 91.8\\nBERTLARGE (Ens.+TriviaQA) 86.2 92.2 87.4 93.2\\nTable 2: SQuAD 1.1 results. The BERT ensemble\\nis 7x systems which use different pre-training check\\x02points and fine-tuning seeds.\\nSystem Dev Test\\nEM F1 EM F1\\nTop Leaderboard Systems (Dec 10th, 2018)\\nHuman 86.3 89.0 86.9 89.5\\n#1 Single - MIR-MRC (F-Net) - - 74.8 78.0\\n#2 Single - nlnet - - 74.2 77.1\\nPublished\\nunet (Ensemble) - - 71.4 74.9\\nSLQA+ (Single) - 71.4 74.4\\nOurs\\nBERTLARGE (Single) 78.7 81.9 80.0 83.1\\nTable 3: SQuAD 2.0 results. We exclude entries that\\nuse BERT as one of their components.\\ntuning data, we only lose 0.1-0.4 F1, still outper\\x02forming all existing systems by a wide margin.12\\n4.3 SQuAD v2.0\\nThe SQuAD 2.0 task extends the SQuAD 1.1\\nproblem definition by allowing for the possibility\\nthat no short answer exists in the provided para\\x02graph, making the problem more realistic.\\nWe use a simple approach to extend the SQuAD\\nv1.1 BERT model for this task. We treat ques\\x02tions that do not have an answer as having an an\\x02swer span with start and end at the [CLS] to\\x02ken. The probability space for the start and end\\nanswer span positions is extended to include the\\nposition of the [CLS] token. For prediction, we\\ncompare the score of the no-answer span: snull =\\nS·C + E·C to the score of the best non-null span\\n12The TriviaQA data we used consists of paragraphs from\\nTriviaQA-Wiki formed of the first 400 tokens in documents,\\nthat contain at least one of the provided possible answers.\\nSystem Dev Test\\nESIM+GloVe 51.9 52.7\\nESIM+ELMo 59.1 59.2\\nOpenAI GPT - 78.0\\nBERTBASE 81.6 -\\nBERTLARGE 86.6 86.3\\nHuman (expert)†- 85.0\\nHuman (5 annotations)†- 88.0\\nTable 4: SWAG Dev and Test accuracies. †Human per\\x02formance is measured with 100 samples, as reported in\\nthe SWAG paper.\\nsˆi,j = maxj≥iS·Ti + E·Tj . We predict a non-null\\nanswer when sˆi,j > snull + τ , where the thresh\\x02old τ is selected on the dev set to maximize F1.\\nWe did not use TriviaQA data for this model. We\\nfine-tuned for 2 epochs with a learning rate of 5e-5\\nand a batch size of 48.\\nThe results compared to prior leaderboard en\\x02tries and top published work (Sun et al., 2018;\\nWang et al., 2018b) are shown in Table 3, exclud\\x02ing systems that use BERT as one of their com\\x02ponents. We observe a +5.1 F1 improvement over\\nthe previous best system.\\n4.4 SWAG\\nThe Situations With Adversarial Generations\\n(SWAG) dataset contains 113k sentence-pair com\\x02pletion examples that evaluate grounded common\\x02sense inference (Zellers et al., 2018). Given a sen\\x02tence, the task is to choose the most plausible con\\x02tinuation among four choices.\\nWhen fine-tuning on the SWAG dataset, we\\nconstruct four input sequences, each containing\\nthe concatenation of the given sentence (sentence\\nA) and a possible continuation (sentence B). The\\nonly task-specific parameters introduced is a vec\\x02tor whose dot product with the [CLS] token rep\\x02resentation C denotes a score for each choice\\nwhich is normalized with a softmax layer.\\nWe fine-tune the model for 3 epochs with a\\nlearning rate of 2e-5 and a batch size of 16. Re\\x02sults are presented in Table 4. BERTLARGE out\\x02performs the authors’ baseline ESIM+ELMo sys\\x02tem by +27.1% and OpenAI GPT by 8.3%.\\n5 Ablation Studies\\nIn this section, we perform ablation experiments\\nover a number of facets of BERT in order to better\\nunderstand their relative importance. Additional\\n'),\n",
       " Document(metadata={'producer': 'pdfTeX-1.40.18', 'creator': 'LaTeX with hyperref package', 'creationdate': '2019-04-29T17:36:03+00:00', 'title': 'BERT: Pre-training of Deep Bidirectional Transformers for Language Understanding', 'author': 'Jacob Devlin ; Ming-Wei Chang ; Kenton Lee ; Kristina Toutanova', 'subject': 'N19-1 2019', 'keywords': '', 'moddate': '2019-04-29T17:36:03+00:00', 'source': '/content/drive/MyDrive/nlp/bert_article.pdf', 'total_pages': 16, 'page': 7}, page_content='4178\\nDev Set\\nTasks MNLI-m QNLI MRPC SST-2 SQuAD\\n(Acc) (Acc) (Acc) (Acc) (F1)\\nBERTBASE 84.4 88.4 86.7 92.7 88.5\\nNo NSP 83.9 84.9 86.5 92.6 87.9\\nLTR & No NSP 82.1 84.3 77.5 92.1 77.8\\n+ BiLSTM 82.1 84.1 75.7 91.6 84.9\\nTable 5: Ablation over the pre-training tasks using the\\nBERTBASE architecture. “No NSP” is trained without\\nthe next sentence prediction task. “LTR & No NSP” is\\ntrained as a left-to-right LM without the next sentence\\nprediction, like OpenAI GPT. “+ BiLSTM” adds a ran\\x02domly initialized BiLSTM on top of the “LTR + No\\nNSP” model during fine-tuning.\\nablation studies can be found in Appendix C.\\n5.1 Effect of Pre-training Tasks\\nWe demonstrate the importance of the deep bidi\\x02rectionality of BERT by evaluating two pre\\x02training objectives using exactly the same pre\\x02training data, fine-tuning scheme, and hyperpa\\x02rameters as BERTBASE:\\nNo NSP: A bidirectional model which is trained\\nusing the “masked LM” (MLM) but without the\\n“next sentence prediction” (NSP) task.\\nLTR & No NSP: A left-context-only model which\\nis trained using a standard Left-to-Right (LTR)\\nLM, rather than an MLM. The left-only constraint\\nwas also applied at fine-tuning, because removing\\nit introduced a pre-train/fine-tune mismatch that\\ndegraded downstream performance. Additionally,\\nthis model was pre-trained without the NSP task.\\nThis is directly comparable to OpenAI GPT, but\\nusing our larger training dataset, our input repre\\x02sentation, and our fine-tuning scheme.\\nWe first examine the impact brought by the NSP\\ntask. In Table 5, we show that removing NSP\\nhurts performance significantly on QNLI, MNLI,\\nand SQuAD 1.1. Next, we evaluate the impact\\nof training bidirectional representations by com\\x02paring “No NSP” to “LTR & No NSP”. The LTR\\nmodel performs worse than the MLM model on all\\ntasks, with large drops on MRPC and SQuAD.\\nFor SQuAD it is intuitively clear that a LTR\\nmodel will perform poorly at token predictions,\\nsince the token-level hidden states have no right\\x02side context. In order to make a good faith at\\x02tempt at strengthening the LTR system, we added\\na randomly initialized BiLSTM on top. This does\\nsignificantly improve results on SQuAD, but the\\nresults are still far worse than those of the pre\\x02trained bidirectional models. The BiLSTM hurts\\nperformance on the GLUE tasks.\\nWe recognize that it would also be possible to\\ntrain separate LTR and RTL models and represent\\neach token as the concatenation of the two mod\\x02els, as ELMo does. However: (a) this is twice as\\nexpensive as a single bidirectional model; (b) this\\nis non-intuitive for tasks like QA, since the RTL\\nmodel would not be able to condition the answer\\non the question; (c) this it is strictly less powerful\\nthan a deep bidirectional model, since it can use\\nboth left and right context at every layer.\\n5.2 Effect of Model Size\\nIn this section, we explore the effect of model size\\non fine-tuning task accuracy. We trained a number\\nof BERT models with a differing number of layers,\\nhidden units, and attention heads, while otherwise\\nusing the same hyperparameters and training pro\\x02cedure as described previously.\\nResults on selected GLUE tasks are shown in\\nTable 6. In this table, we report the average Dev\\nSet accuracy from 5 random restarts of fine-tuning.\\nWe can see that larger models lead to a strict ac\\x02curacy improvement across all four datasets, even\\nfor MRPC which only has 3,600 labeled train\\x02ing examples, and is substantially different from\\nthe pre-training tasks. It is also perhaps surpris\\x02ing that we are able to achieve such significant\\nimprovements on top of models which are al\\x02ready quite large relative to the existing literature.\\nFor example, the largest Transformer explored in\\nVaswani et al. (2017) is (L=6, H=1024, A=16)\\nwith 100M parameters for the encoder, and the\\nlargest Transformer we have found in the literature\\nis (L=64, H=512, A=2) with 235M parameters\\n(Al-Rfou et al., 2018). By contrast, BERTBASE\\ncontains 110M parameters and BERTLARGE con\\x02tains 340M parameters.\\nIt has long been known that increasing the\\nmodel size will lead to continual improvements\\non large-scale tasks such as machine translation\\nand language modeling, which is demonstrated\\nby the LM perplexity of held-out training data\\nshown in Table 6. However, we believe that\\nthis is the first work to demonstrate convinc\\x02ingly that scaling to extreme model sizes also\\nleads to large improvements on very small scale\\ntasks, provided that the model has been suffi\\x02ciently pre-trained. Peters et al. (2018b) presented\\n'),\n",
       " Document(metadata={'producer': 'pdfTeX-1.40.18', 'creator': 'LaTeX with hyperref package', 'creationdate': '2019-04-29T17:36:03+00:00', 'title': 'BERT: Pre-training of Deep Bidirectional Transformers for Language Understanding', 'author': 'Jacob Devlin ; Ming-Wei Chang ; Kenton Lee ; Kristina Toutanova', 'subject': 'N19-1 2019', 'keywords': '', 'moddate': '2019-04-29T17:36:03+00:00', 'source': '/content/drive/MyDrive/nlp/bert_article.pdf', 'total_pages': 16, 'page': 8}, page_content='4179\\nmixed results on the downstream task impact of\\nincreasing the pre-trained bi-LM size from two\\nto four layers and Melamud et al. (2016) men\\x02tioned in passing that increasing hidden dimen\\x02sion size from 200 to 600 helped, but increasing\\nfurther to 1,000 did not bring further improve\\x02ments. Both of these prior works used a feature\\x02based approach — we hypothesize that when the\\nmodel is fine-tuned directly on the downstream\\ntasks and uses only a very small number of ran\\x02domly initialized additional parameters, the task\\x02specific models can benefit from the larger, more\\nexpressive pre-trained representations even when\\ndownstream task data is very small.\\n5.3 Feature-based Approach with BERT\\nAll of the BERT results presented so far have used\\nthe fine-tuning approach, where a simple classifi\\x02cation layer is added to the pre-trained model, and\\nall parameters are jointly fine-tuned on a down\\x02stream task. However, the feature-based approach,\\nwhere fixed features are extracted from the pre\\x02trained model, has certain advantages. First, not\\nall tasks can be easily represented by a Trans\\x02former encoder architecture, and therefore require\\na task-specific model architecture to be added.\\nSecond, there are major computational benefits\\nto pre-compute an expensive representation of the\\ntraining data once and then run many experiments\\nwith cheaper models on top of this representation.\\nIn this section, we compare the two approaches\\nby applying BERT to the CoNLL-2003 Named\\nEntity Recognition (NER) task (Tjong Kim Sang\\nand De Meulder, 2003). In the input to BERT, we\\nuse a case-preserving WordPiece model, and we\\ninclude the maximal document context provided\\nby the data. Following standard practice, we for\\x02mulate this as a tagging task but do not use a CRF\\nHyperparams Dev Set Accuracy\\n#L #H #A LM (ppl) MNLI-m MRPC SST-2\\n3 768 12 5.84 77.9 79.8 88.4\\n6 768 3 5.24 80.6 82.2 90.7\\n6 768 12 4.68 81.9 84.8 91.3\\n12 768 12 3.99 84.4 86.7 92.9\\n12 1024 16 3.54 85.7 86.9 93.3\\n24 1024 16 3.23 86.6 87.8 93.7\\nTable 6: Ablation over BERT model size. #L = the\\nnumber of layers; #H = hidden size; #A = number of at\\x02tention heads. “LM (ppl)” is the masked LM perplexity\\nof held-out training data.\\nSystem Dev F1 Test F1\\nELMo (Peters et al., 2018a) 95.7 92.2\\nCVT (Clark et al., 2018) - 92.6\\nCSE (Akbik et al., 2018) - 93.1\\nFine-tuning approach\\nBERTLARGE 96.6 92.8\\nBERTBASE 96.4 92.4\\nFeature-based approach (BERTBASE)\\nEmbeddings 91.0 -\\nSecond-to-Last Hidden 95.6 -\\nLast Hidden 94.9 -\\nWeighted Sum Last Four Hidden 95.9 -\\nConcat Last Four Hidden 96.1 -\\nWeighted Sum All 12 Layers 95.5 -\\nTable 7: CoNLL-2003 Named Entity Recognition re\\x02sults. Hyperparameters were selected using the Dev\\nset. The reported Dev and Test scores are averaged over\\n5 random restarts using those hyperparameters.\\nlayer in the output. We use the representation of\\nthe first sub-token as the input to the token-level\\nclassifier over the NER label set.\\nTo ablate the fine-tuning approach, we apply the\\nfeature-based approach by extracting the activa\\x02tions from one or more layers without fine-tuning\\nany parameters of BERT. These contextual em\\x02beddings are used as input to a randomly initial\\x02ized two-layer 768-dimensional BiLSTM before\\nthe classification layer.\\nResults are presented in Table 7. BERTLARGE\\nperforms competitively with state-of-the-art meth\\x02ods. The best performing method concatenates the\\ntoken representations from the top four hidden lay\\x02ers of the pre-trained Transformer, which is only\\n0.3 F1 behind fine-tuning the entire model. This\\ndemonstrates that BERT is effective for both fine\\x02tuning and feature-based approaches.\\n6 Conclusion\\nRecent empirical improvements due to transfer\\nlearning with language models have demonstrated\\nthat rich, unsupervised pre-training is an integral\\npart of many language understanding systems. In\\nparticular, these results enable even low-resource\\ntasks to benefit from deep unidirectional architec\\x02tures. Our major contribution is further general\\x02izing these findings to deep bidirectional architec\\x02tures, allowing the same pre-trained model to suc\\x02cessfully tackle a broad set of NLP tasks.\\n'),\n",
       " Document(metadata={'producer': 'pdfTeX-1.40.18', 'creator': 'LaTeX with hyperref package', 'creationdate': '2019-04-29T17:36:03+00:00', 'title': 'BERT: Pre-training of Deep Bidirectional Transformers for Language Understanding', 'author': 'Jacob Devlin ; Ming-Wei Chang ; Kenton Lee ; Kristina Toutanova', 'subject': 'N19-1 2019', 'keywords': '', 'moddate': '2019-04-29T17:36:03+00:00', 'source': '/content/drive/MyDrive/nlp/bert_article.pdf', 'total_pages': 16, 'page': 9}, page_content='4180\\nReferences\\nAlan Akbik, Duncan Blythe, and Roland Vollgraf.\\n2018. Contextual string embeddings for sequence\\nlabeling. In Proceedings of the 27th International\\nConference on Computational Linguistics, pages\\n1638–1649.\\nRami Al-Rfou, Dokook Choe, Noah Constant, Mandy\\nGuo, and Llion Jones. 2018. Character-level lan\\x02guage modeling with deeper self-attention. arXiv\\npreprint arXiv:1808.04444.\\nRie Kubota Ando and Tong Zhang. 2005. A framework\\nfor learning predictive structures from multiple tasks\\nand unlabeled data. Journal of Machine Learning\\nResearch, 6(Nov):1817–1853.\\nLuisa Bentivogli, Bernardo Magnini, Ido Dagan,\\nHoa Trang Dang, and Danilo Giampiccolo. 2009.\\nThe fifth PASCAL recognizing textual entailment\\nchallenge. In TAC. NIST.\\nJohn Blitzer, Ryan McDonald, and Fernando Pereira.\\n2006. Domain adaptation with structural correspon\\x02dence learning. In Proceedings of the 2006 confer\\x02ence on empirical methods in natural language pro\\x02cessing, pages 120–128. Association for Computa\\x02tional Linguistics.\\nSamuel R. Bowman, Gabor Angeli, Christopher Potts,\\nand Christopher D. Manning. 2015. A large anno\\x02tated corpus for learning natural language inference.\\nIn EMNLP. Association for Computational Linguis\\x02tics.\\nPeter F Brown, Peter V Desouza, Robert L Mercer,\\nVincent J Della Pietra, and Jenifer C Lai. 1992.\\nClass-based n-gram models of natural language.\\nComputational linguistics, 18(4):467–479.\\nDaniel Cer, Mona Diab, Eneko Agirre, Inigo Lopez\\x02Gazpio, and Lucia Specia. 2017. Semeval-2017\\ntask 1: Semantic textual similarity multilingual and\\ncrosslingual focused evaluation. In Proceedings\\nof the 11th International Workshop on Semantic\\nEvaluation (SemEval-2017), pages 1–14, Vancou\\x02ver, Canada. Association for Computational Lin\\x02guistics.\\nCiprian Chelba, Tomas Mikolov, Mike Schuster, Qi Ge,\\nThorsten Brants, Phillipp Koehn, and Tony Robin\\x02son. 2013. One billion word benchmark for measur\\x02ing progress in statistical language modeling. arXiv\\npreprint arXiv:1312.3005.\\nZ. Chen, H. Zhang, X. Zhang, and L. Zhao. 2018.\\nQuora question pairs.\\nChristopher Clark and Matt Gardner. 2018. Simple\\nand effective multi-paragraph reading comprehen\\x02sion. In ACL.\\nKevin Clark, Minh-Thang Luong, Christopher D Man\\x02ning, and Quoc Le. 2018. Semi-supervised se\\x02quence modeling with cross-view training. In Pro\\x02ceedings of the 2018 Conference on Empirical Meth\\x02ods in Natural Language Processing, pages 1914–\\n1925.\\nRonan Collobert and Jason Weston. 2008. A unified\\narchitecture for natural language processing: Deep\\nneural networks with multitask learning. In Pro\\x02ceedings of the 25th international conference on\\nMachine learning, pages 160–167. ACM.\\nAlexis Conneau, Douwe Kiela, Holger Schwenk, Lo¨ıc\\nBarrault, and Antoine Bordes. 2017. Supervised\\nlearning of universal sentence representations from\\nnatural language inference data. In Proceedings of\\nthe 2017 Conference on Empirical Methods in Nat\\x02ural Language Processing, pages 670–680, Copen\\x02hagen, Denmark. Association for Computational\\nLinguistics.\\nAndrew M Dai and Quoc V Le. 2015. Semi-supervised\\nsequence learning. In Advances in neural informa\\x02tion processing systems, pages 3079–3087.\\nJ. Deng, W. Dong, R. Socher, L.-J. Li, K. Li, and L. Fei\\x02Fei. 2009. ImageNet: A Large-Scale Hierarchical\\nImage Database. In CVPR09.\\nWilliam B Dolan and Chris Brockett. 2005. Automati\\x02cally constructing a corpus of sentential paraphrases.\\nIn Proceedings of the Third International Workshop\\non Paraphrasing (IWP2005).\\nWilliam Fedus, Ian Goodfellow, and Andrew M Dai.\\n2018. Maskgan: Better text generation via filling in\\nthe . arXiv preprint arXiv:1801.07736.\\nDan Hendrycks and Kevin Gimpel. 2016. Bridging\\nnonlinearities and stochastic regularizers with gaus\\x02sian error linear units. CoRR, abs/1606.08415.\\nFelix Hill, Kyunghyun Cho, and Anna Korhonen. 2016.\\nLearning distributed representations of sentences\\nfrom unlabelled data. In Proceedings of the 2016\\nConference of the North American Chapter of the\\nAssociation for Computational Linguistics: Human\\nLanguage Technologies. Association for Computa\\x02tional Linguistics.\\nJeremy Howard and Sebastian Ruder. 2018. Universal\\nlanguage model fine-tuning for text classification. In\\nACL. Association for Computational Linguistics.\\nMinghao Hu, Yuxing Peng, Zhen Huang, Xipeng Qiu,\\nFuru Wei, and Ming Zhou. 2018. Reinforced\\nmnemonic reader for machine reading comprehen\\x02sion. In IJCAI.\\nYacine Jernite, Samuel R. Bowman, and David Son\\x02tag. 2017. Discourse-based objectives for fast un\\x02supervised sentence representation learning. CoRR,\\nabs/1705.00557.\\n'),\n",
       " Document(metadata={'producer': 'pdfTeX-1.40.18', 'creator': 'LaTeX with hyperref package', 'creationdate': '2019-04-29T17:36:03+00:00', 'title': 'BERT: Pre-training of Deep Bidirectional Transformers for Language Understanding', 'author': 'Jacob Devlin ; Ming-Wei Chang ; Kenton Lee ; Kristina Toutanova', 'subject': 'N19-1 2019', 'keywords': '', 'moddate': '2019-04-29T17:36:03+00:00', 'source': '/content/drive/MyDrive/nlp/bert_article.pdf', 'total_pages': 16, 'page': 10}, page_content='4181\\nMandar Joshi, Eunsol Choi, Daniel S Weld, and Luke\\nZettlemoyer. 2017. Triviaqa: A large scale distantly\\nsupervised challenge dataset for reading comprehen\\x02sion. In ACL.\\nRyan Kiros, Yukun Zhu, Ruslan R Salakhutdinov,\\nRichard Zemel, Raquel Urtasun, Antonio Torralba,\\nand Sanja Fidler. 2015. Skip-thought vectors. In\\nAdvances in neural information processing systems,\\npages 3294–3302.\\nQuoc Le and Tomas Mikolov. 2014. Distributed rep\\x02resentations of sentences and documents. In Inter\\x02national Conference on Machine Learning, pages\\n1188–1196.\\nHector J Levesque, Ernest Davis, and Leora Morgen\\x02stern. 2011. The winograd schema challenge. In\\nAaai spring symposium: Logical formalizations of\\ncommonsense reasoning, volume 46, page 47.\\nLajanugen Logeswaran and Honglak Lee. 2018. An\\nefficient framework for learning sentence represen\\x02tations. In International Conference on Learning\\nRepresentations.\\nBryan McCann, James Bradbury, Caiming Xiong, and\\nRichard Socher. 2017. Learned in translation: Con\\x02textualized word vectors. In NIPS.\\nOren Melamud, Jacob Goldberger, and Ido Dagan.\\n2016. context2vec: Learning generic context em\\x02bedding with bidirectional LSTM. In CoNLL.\\nTomas Mikolov, Ilya Sutskever, Kai Chen, Greg S Cor\\x02rado, and Jeff Dean. 2013. Distributed representa\\x02tions of words and phrases and their compositional\\x02ity. In Advances in Neural Information Processing\\nSystems 26, pages 3111–3119. Curran Associates,\\nInc.\\nAndriy Mnih and Geoffrey E Hinton. 2009. A scal\\x02able hierarchical distributed language model. In\\nD. Koller, D. Schuurmans, Y. Bengio, and L. Bot\\x02tou, editors, Advances in Neural Information Pro\\x02cessing Systems 21, pages 1081–1088. Curran As\\x02sociates, Inc.\\nAnkur P Parikh, Oscar Tackstr ¨ om, Dipanjan Das, and ¨\\nJakob Uszkoreit. 2016. A decomposable attention\\nmodel for natural language inference. In EMNLP.\\nJeffrey Pennington, Richard Socher, and Christo\\x02pher D. Manning. 2014. Glove: Global vectors for\\nword representation. In Empirical Methods in Nat\\x02ural Language Processing (EMNLP), pages 1532–\\n1543.\\nMatthew Peters, Waleed Ammar, Chandra Bhagavat\\x02ula, and Russell Power. 2017. Semi-supervised se\\x02quence tagging with bidirectional language models.\\nIn ACL.\\nMatthew Peters, Mark Neumann, Mohit Iyyer, Matt\\nGardner, Christopher Clark, Kenton Lee, and Luke\\nZettlemoyer. 2018a. Deep contextualized word rep\\x02resentations. In NAACL.\\nMatthew Peters, Mark Neumann, Luke Zettlemoyer,\\nand Wen-tau Yih. 2018b. Dissecting contextual\\nword embeddings: Architecture and representation.\\nIn Proceedings of the 2018 Conference on Empiri\\x02cal Methods in Natural Language Processing, pages\\n1499–1509.\\nAlec Radford, Karthik Narasimhan, Tim Salimans, and\\nIlya Sutskever. 2018. Improving language under\\x02standing with unsupervised learning. Technical re\\x02port, OpenAI.\\nPranav Rajpurkar, Jian Zhang, Konstantin Lopyrev, and\\nPercy Liang. 2016. Squad: 100,000+ questions for\\nmachine comprehension of text. In Proceedings of\\nthe 2016 Conference on Empirical Methods in Nat\\x02ural Language Processing, pages 2383–2392.\\nMinjoon Seo, Aniruddha Kembhavi, Ali Farhadi, and\\nHannaneh Hajishirzi. 2017. Bidirectional attention\\nflow for machine comprehension. In ICLR.\\nRichard Socher, Alex Perelygin, Jean Wu, Jason\\nChuang, Christopher D Manning, Andrew Ng, and\\nChristopher Potts. 2013. Recursive deep models\\nfor semantic compositionality over a sentiment tree\\x02bank. In Proceedings of the 2013 conference on\\nempirical methods in natural language processing,\\npages 1631–1642.\\nFu Sun, Linyang Li, Xipeng Qiu, and Yang Liu.\\n2018. U-net: Machine reading comprehension\\nwith unanswerable questions. arXiv preprint\\narXiv:1810.06638.\\nWilson L Taylor. 1953. Cloze procedure: A new\\ntool for measuring readability. Journalism Bulletin,\\n30(4):415–433.\\nErik F Tjong Kim Sang and Fien De Meulder.\\n2003. Introduction to the conll-2003 shared task:\\nLanguage-independent named entity recognition. In\\nCoNLL.\\nJoseph Turian, Lev Ratinov, and Yoshua Bengio. 2010.\\nWord representations: A simple and general method\\nfor semi-supervised learning. In Proceedings of the\\n48th Annual Meeting of the Association for Compu\\x02tational Linguistics, ACL ’10, pages 384–394.\\nAshish Vaswani, Noam Shazeer, Niki Parmar, Jakob\\nUszkoreit, Llion Jones, Aidan N Gomez, Lukasz\\nKaiser, and Illia Polosukhin. 2017. Attention is all\\nyou need. In Advances in Neural Information Pro\\x02cessing Systems, pages 6000–6010.\\nPascal Vincent, Hugo Larochelle, Yoshua Bengio, and\\nPierre-Antoine Manzagol. 2008. Extracting and\\ncomposing robust features with denoising autoen\\x02coders. In Proceedings of the 25th international\\nconference on Machine learning, pages 1096–1103.\\nACM.\\nAlex Wang, Amanpreet Singh, Julian Michael, Fe\\x02lix Hill, Omer Levy, and Samuel Bowman. 2018a.\\nGlue: A multi-task benchmark and analysis platform\\n'),\n",
       " Document(metadata={'producer': 'pdfTeX-1.40.18', 'creator': 'LaTeX with hyperref package', 'creationdate': '2019-04-29T17:36:03+00:00', 'title': 'BERT: Pre-training of Deep Bidirectional Transformers for Language Understanding', 'author': 'Jacob Devlin ; Ming-Wei Chang ; Kenton Lee ; Kristina Toutanova', 'subject': 'N19-1 2019', 'keywords': '', 'moddate': '2019-04-29T17:36:03+00:00', 'source': '/content/drive/MyDrive/nlp/bert_article.pdf', 'total_pages': 16, 'page': 11}, page_content='4182\\nfor natural language understanding. In Proceedings\\nof the 2018 EMNLP Workshop BlackboxNLP: An\\x02alyzing and Interpreting Neural Networks for NLP,\\npages 353–355.\\nWei Wang, Ming Yan, and Chen Wu. 2018b. Multi\\x02granularity hierarchical attention fusion networks\\nfor reading comprehension and question answering.\\nIn Proceedings of the 56th Annual Meeting of the As\\x02sociation for Computational Linguistics (Volume 1:\\nLong Papers). Association for Computational Lin\\x02guistics.\\nAlex Warstadt, Amanpreet Singh, and Samuel R Bow\\x02man. 2018. Neural network acceptability judg\\x02ments. arXiv preprint arXiv:1805.12471.\\nAdina Williams, Nikita Nangia, and Samuel R Bow\\x02man. 2018. A broad-coverage challenge corpus\\nfor sentence understanding through inference. In\\nNAACL.\\nYonghui Wu, Mike Schuster, Zhifeng Chen, Quoc V\\nLe, Mohammad Norouzi, Wolfgang Macherey,\\nMaxim Krikun, Yuan Cao, Qin Gao, Klaus\\nMacherey, et al. 2016. Google’s neural ma\\x02chine translation system: Bridging the gap between\\nhuman and machine translation. arXiv preprint\\narXiv:1609.08144.\\nJason Yosinski, Jeff Clune, Yoshua Bengio, and Hod\\nLipson. 2014. How transferable are features in deep\\nneural networks? In Advances in neural information\\nprocessing systems, pages 3320–3328.\\nAdams Wei Yu, David Dohan, Minh-Thang Luong, Rui\\nZhao, Kai Chen, Mohammad Norouzi, and Quoc V\\nLe. 2018. QANet: Combining local convolution\\nwith global self-attention for reading comprehen\\x02sion. In ICLR.\\nRowan Zellers, Yonatan Bisk, Roy Schwartz, and Yejin\\nChoi. 2018. Swag: A large-scale adversarial dataset\\nfor grounded commonsense inference. In Proceed\\x02ings of the 2018 Conference on Empirical Methods\\nin Natural Language Processing (EMNLP).\\nYukun Zhu, Ryan Kiros, Rich Zemel, Ruslan Salakhut\\x02dinov, Raquel Urtasun, Antonio Torralba, and Sanja\\nFidler. 2015. Aligning books and movies: Towards\\nstory-like visual explanations by watching movies\\nand reading books. In Proceedings of the IEEE\\ninternational conference on computer vision, pages\\n19–27.\\nAppendix for “BERT: Pre-training of\\nDeep Bidirectional Transformers for\\nLanguage Understanding”\\nWe organize the appendix into three sections:\\n• Additional implementation details for BERT\\nare presented in Appendix A;\\n• Additional details for our experiments are\\npresented in Appendix B; and\\n• Additional ablation studies are presented in\\nAppendix C.\\nWe present additional ablation studies for\\nBERT including:\\n– Effect of Number of Training Steps; and\\n– Ablation for Different Masking Proce\\x02dures.\\nA Additional Details for BERT\\nA.1 Illustration of the Pre-training Tasks\\nWe provide examples of the pre-training tasks in\\nthe following.\\nMasked LM and the Masking Procedure As\\x02suming the unlabeled sentence is my dog is\\nhairy, and during the random masking procedure\\nwe chose the 4-th token (which corresponding to\\nhairy), our masking procedure can be further il\\x02lustrated by\\n• 80% of the time: Replace the word with the\\n[MASK] token, e.g., my dog is hairy →\\nmy dog is [MASK]\\n• 10% of the time: Replace the word with a\\nrandom word, e.g., my dog is hairy → my\\ndog is apple\\n• 10% of the time: Keep the word un\\x02changed, e.g., my dog is hairy → my dog\\nis hairy. The purpose of this is to bias the\\nrepresentation towards the actual observed\\nword.\\nThe advantage of this procedure is that the\\nTransformer encoder does not know which words\\nit will be asked to predict or which have been re\\x02placed by random words, so it is forced to keep\\na distributional contextual representation of ev\\x02ery input token. Additionally, because random\\nreplacement only occurs for 1.5% of all tokens\\n(i.e., 10% of 15%), this does not seem to harm\\nthe model’s language understanding capability. In\\nSection C.2, we evaluate the impact this proce\\x02dure.\\nCompared to standard langauge model training,\\nthe masked LM only make predictions on 15% of\\ntokens in each batch, which suggests that more\\npre-training steps may be required for the model\\n'),\n",
       " Document(metadata={'producer': 'pdfTeX-1.40.18', 'creator': 'LaTeX with hyperref package', 'creationdate': '2019-04-29T17:36:03+00:00', 'title': 'BERT: Pre-training of Deep Bidirectional Transformers for Language Understanding', 'author': 'Jacob Devlin ; Ming-Wei Chang ; Kenton Lee ; Kristina Toutanova', 'subject': 'N19-1 2019', 'keywords': '', 'moddate': '2019-04-29T17:36:03+00:00', 'source': '/content/drive/MyDrive/nlp/bert_article.pdf', 'total_pages': 16, 'page': 12}, page_content='4183\\nBERT (Ours)\\nTrm Trm Trm\\nTrm Trm Trm\\n...\\n...\\nTrm Trm Trm\\nTrm Trm Trm\\n...\\n...\\nOpenAI GPT\\nLstm\\nELMo\\nLstm Lstm\\nLstm Lstm Lstm\\nLstm Lstm Lstm\\nLstm Lstm Lstm\\n T1 T2\\n TN\\n...\\n...\\n...\\n...\\n...\\n E1 E2\\n EN\\n...\\n T1 T2 TN\\n...\\n E1 E2\\n E ... N\\n T1 T2\\n TN\\n...\\n E1 E2\\n EN\\n...\\nFigure 3: Differences in pre-training model architectures. BERT uses a bidirectional Transformer. OpenAI GPT\\nuses a left-to-right Transformer. ELMo uses the concatenation of independently trained left-to-right and right-to\\x02left LSTMs to generate features for downstream tasks. Among the three, only BERT representations are jointly\\nconditioned on both left and right context in all layers. In addition to the architecture differences, BERT and\\nOpenAI GPT are fine-tuning approaches, while ELMo is a feature-based approach.\\nto converge. In Section C.1 we demonstrate that\\nMLM does converge marginally slower than a left\\x02to-right model (which predicts every token), but\\nthe empirical improvements of the MLM model\\nfar outweigh the increased training cost.\\nNext Sentence Prediction The next sentence\\nprediction task can be illustrated in the following\\nexamples.\\nInput = [CLS] the man went to [MASK] store [SEP]\\nhe bought a gallon [MASK] milk [SEP]\\nLabel = IsNext\\nInput = [CLS] the man [MASK] to the store [SEP]\\npenguin [MASK] are flight ##less birds [SEP]\\nLabel = NotNext\\nA.2 Pre-training Procedure\\nTo generate each training input sequence, we sam\\x02ple two spans of text from the corpus, which we\\nrefer to as “sentences” even though they are typ\\x02ically much longer than single sentences (but can\\nbe shorter also). The first sentence receives the A\\nembedding and the second receives the B embed\\x02ding. 50% of the time B is the actual next sentence\\nthat follows A and 50% of the time it is a random\\nsentence, which is done for the “next sentence pre\\x02diction” task. They are sampled such that the com\\x02bined length is ≤ 512 tokens. The LM masking is\\napplied after WordPiece tokenization with a uni\\x02form masking rate of 15%, and no special consid\\x02eration given to partial word pieces.\\nWe train with batch size of 256 sequences (256\\nsequences * 512 tokens = 128,000 tokens/batch)\\nfor 1,000,000 steps, which is approximately 40\\nepochs over the 3.3 billion word corpus. We\\nuse Adam with learning rate of 1e-4, β1 = 0.9,\\nβ2 = 0.999, L2 weight decay of 0.01, learning\\nrate warmup over the first 10,000 steps, and linear\\ndecay of the learning rate. We use a dropout prob\\x02ability of 0.1 on all layers. We use a gelu acti\\x02vation (Hendrycks and Gimpel, 2016) rather than\\nthe standard relu, following OpenAI GPT. The\\ntraining loss is the sum of the mean masked LM\\nlikelihood and the mean next sentence prediction\\nlikelihood.\\nTraining of BERTBASE was performed on 4\\nCloud TPUs in Pod configuration (16 TPU chips\\ntotal).13 Training of BERTLARGE was performed\\non 16 Cloud TPUs (64 TPU chips total). Each pre\\x02training took 4 days to complete.\\nLonger sequences are disproportionately expen\\x02sive because attention is quadratic to the sequence\\nlength. To speed up pretraing in our experiments,\\nwe pre-train the model with sequence length of\\n128 for 90% of the steps. Then, we train the rest\\n10% of the steps of sequence of 512 to learn the\\npositional embeddings.\\nA.3 Fine-tuning Procedure\\nFor fine-tuning, most model hyperparameters are\\nthe same as in pre-training, with the exception of\\nthe batch size, learning rate, and number of train\\x02ing epochs. The dropout probability was always\\nkept at 0.1. The optimal hyperparameter values\\nare task-specific, but we found the following range\\nof possible values to work well across all tasks:\\n• Batch size: 16, 32\\n13https://cloudplatform.googleblog.com/2018/06/Cloud\\x02TPU-now-offers-preemptible-pricing-and-global\\x02availability.html\\n'),\n",
       " Document(metadata={'producer': 'pdfTeX-1.40.18', 'creator': 'LaTeX with hyperref package', 'creationdate': '2019-04-29T17:36:03+00:00', 'title': 'BERT: Pre-training of Deep Bidirectional Transformers for Language Understanding', 'author': 'Jacob Devlin ; Ming-Wei Chang ; Kenton Lee ; Kristina Toutanova', 'subject': 'N19-1 2019', 'keywords': '', 'moddate': '2019-04-29T17:36:03+00:00', 'source': '/content/drive/MyDrive/nlp/bert_article.pdf', 'total_pages': 16, 'page': 13}, page_content='4184\\n• Learning rate (Adam): 5e-5, 3e-5, 2e-5\\n• Number of epochs: 2, 3, 4\\nWe also observed that large data sets (e.g.,\\n100k+ labeled training examples) were far less\\nsensitive to hyperparameter choice than small data\\nsets. Fine-tuning is typically very fast, so it is rea\\x02sonable to simply run an exhaustive search over\\nthe above parameters and choose the model that\\nperforms best on the development set.\\nA.4 Comparison of BERT, ELMo ,and\\nOpenAI GPT\\nHere we studies the differences in recent popular\\nrepresentation learning models including ELMo,\\nOpenAI GPT and BERT. The comparisons be\\x02tween the model architectures are shown visually\\nin Figure 3. Note that in addition to the architec\\x02ture differences, BERT and OpenAI GPT are fine\\x02tuning approaches, while ELMo is a feature-based\\napproach.\\nThe most comparable existing pre-training\\nmethod to BERT is OpenAI GPT, which trains a\\nleft-to-right Transformer LM on a large text cor\\x02pus. In fact, many of the design decisions in BERT\\nwere intentionally made to make it as close to\\nGPT as possible so that the two methods could be\\nminimally compared. The core argument of this\\nwork is that the bi-directionality and the two pre\\x02training tasks presented in Section 3.1 account for\\nthe majority of the empirical improvements, but\\nwe do note that there are several other differences\\nbetween how BERT and GPT were trained:\\n• GPT is trained on the BooksCorpus (800M\\nwords); BERT is trained on the BooksCor\\x02pus (800M words) and Wikipedia (2,500M\\nwords).\\n• GPT uses a sentence separator ([SEP]) and\\nclassifier token ([CLS]) which are only in\\x02troduced at fine-tuning time; BERT learns\\n[SEP], [CLS] and sentence A/B embed\\x02dings during pre-training.\\n• GPT was trained for 1M steps with a batch\\nsize of 32,000 words; BERT was trained for\\n1M steps with a batch size of 128,000 words.\\n• GPT used the same learning rate of 5e-5 for\\nall fine-tuning experiments; BERT chooses a\\ntask-specific fine-tuning learning rate which\\nperforms the best on the development set.\\nTo isolate the effect of these differences, we per\\x02form ablation experiments in Section 5.1 which\\ndemonstrate that the majority of the improvements\\nare in fact coming from the two pre-training tasks\\nand the bidirectionality they enable.\\nA.5 Illustrations of Fine-tuning on Different\\nTasks\\nThe illustration of fine-tuning BERT on different\\ntasks can be seen in Figure 4. Our task-specific\\nmodels are formed by incorporating BERT with\\none additional output layer, so a minimal num\\x02ber of parameters need to be learned from scratch.\\nAmong the tasks, (a) and (b) are sequence-level\\ntasks while (c) and (d) are token-level tasks. In\\nthe figure, E represents the input embedding, Ti\\nrepresents the contextual representation of token i,\\n[CLS] is the special symbol for classification out\\x02put, and [SEP] is the special symbol to separate\\nnon-consecutive token sequences.\\nB Detailed Experimental Setup\\nB.1 Detailed Descriptions for the GLUE\\nBenchmark Experiments.\\nThe GLUE benchmark includes the following\\ndatasets, the descriptions of which were originally\\nsummarized in Wang et al. (2018a):\\nMNLI Multi-Genre Natural Language Inference\\nis a large-scale, crowdsourced entailment classifi\\x02cation task (Williams et al., 2018). Given a pair of\\nsentences, the goal is to predict whether the sec\\x02ond sentence is an entailment, contradiction, or\\nneutral with respect to the first one.\\nQQP Quora Question Pairs is a binary classifi\\x02cation task where the goal is to determine if two\\nquestions asked on Quora are semantically equiv\\x02alent (Chen et al., 2018).\\nQNLI Question Natural Language Inference is\\na version of the Stanford Question Answering\\nDataset (Rajpurkar et al., 2016) which has been\\nconverted to a binary classification task (Wang\\net al., 2018a). The positive examples are (ques\\x02tion, sentence) pairs which do contain the correct\\nanswer, and the negative examples are (question,\\nsentence) from the same paragraph which do not\\ncontain the answer.\\nSST-2 The Stanford Sentiment Treebank is a\\nbinary single-sentence classification task consist\\x02ing of sentences extracted from movie reviews\\n'),\n",
       " Document(metadata={'producer': 'pdfTeX-1.40.18', 'creator': 'LaTeX with hyperref package', 'creationdate': '2019-04-29T17:36:03+00:00', 'title': 'BERT: Pre-training of Deep Bidirectional Transformers for Language Understanding', 'author': 'Jacob Devlin ; Ming-Wei Chang ; Kenton Lee ; Kristina Toutanova', 'subject': 'N19-1 2019', 'keywords': '', 'moddate': '2019-04-29T17:36:03+00:00', 'source': '/content/drive/MyDrive/nlp/bert_article.pdf', 'total_pages': 16, 'page': 14}, page_content='4185\\nBERT\\nE[CLS] E1\\n E[SEP] ... EN\\nE1’ ... EM’\\nC T1 T[SEP] ... TN\\nT1’ ... TM’\\n[CLS] Tok \\n1\\n... [SEP] Tok \\nN\\nTok \\n1\\n... Tok\\nM\\nQuestion Paragraph\\nBERT\\nE[CLS] E1 E2\\n EN\\nC T1 T2\\n TN\\nSingle Sentence \\n...\\n...\\nBERT\\n[CLS] Tok 1 Tok 2 ... Tok N\\nE[CLS] E1 E2\\n EN\\nC T1 T2\\n TN\\nSingle Sentence \\nO B-PER O\\n...\\nE ... [CLS] E1\\n E[SEP]\\nClass \\nLabel\\n... EN\\nE1’ ... EM’\\nC T1 T[SEP] ... TN\\nT1’ ... TM’\\nStart/End Span\\nClass \\nLabel\\nBERT\\n[CLS] Tok [CLS] Tok 1 Tok 2 ... Tok N\\n1\\n... [SEP] Tok \\nN\\nTok \\n1\\n... Tok\\nM\\nSentence 1\\n...\\nSentence 2\\nFigure 4: Illustrations of Fine-tuning BERT on Different Tasks.\\nwith human annotations of their sentiment (Socher\\net al., 2013).\\nCoLA The Corpus of Linguistic Acceptability is\\na binary single-sentence classification task, where\\nthe goal is to predict whether an English sentence\\nis linguistically “acceptable” or not (Warstadt\\net al., 2018).\\nSTS-B The Semantic Textual Similarity Bench\\x02mark is a collection of sentence pairs drawn from\\nnews headlines and other sources (Cer et al.,\\n2017). They were annotated with a score from 1\\nto 5 denoting how similar the two sentences are in\\nterms of semantic meaning.\\nMRPC Microsoft Research Paraphrase Corpus\\nconsists of sentence pairs automatically extracted\\nfrom online news sources, with human annotations\\nfor whether the sentences in the pair are semanti\\x02cally equivalent (Dolan and Brockett, 2005).\\nRTE Recognizing Textual Entailment is a bi\\x02nary entailment task similar to MNLI, but with\\nmuch less training data (Bentivogli et al., 2009).14\\nWNLI Winograd NLI is a small natural lan\\x02guage inference dataset (Levesque et al., 2011).\\nThe GLUE webpage notes that there are issues\\nwith the construction of this dataset, 15 and every\\ntrained system that’s been submitted to GLUE has\\nperformed worse than the 65.1 baseline accuracy\\nof predicting the majority class. We therefore ex\\x02clude this set to be fair to OpenAI GPT. For our\\nGLUE submission, we always predicted the ma\\x02jority class.\\n14Note that we only report single-task fine-tuning results\\nin this paper. A multitask fine-tuning approach could poten\\x02tially push the performance even further. For example, we\\ndid observe substantial improvements on RTE from multi\\x02task training with MNLI.\\n15https://gluebenchmark.com/faq\\n'),\n",
       " Document(metadata={'producer': 'pdfTeX-1.40.18', 'creator': 'LaTeX with hyperref package', 'creationdate': '2019-04-29T17:36:03+00:00', 'title': 'BERT: Pre-training of Deep Bidirectional Transformers for Language Understanding', 'author': 'Jacob Devlin ; Ming-Wei Chang ; Kenton Lee ; Kristina Toutanova', 'subject': 'N19-1 2019', 'keywords': '', 'moddate': '2019-04-29T17:36:03+00:00', 'source': '/content/drive/MyDrive/nlp/bert_article.pdf', 'total_pages': 16, 'page': 15}, page_content='4186\\nC Additional Ablation Studies\\nC.1 Effect of Number of Training Steps\\nFigure 5 presents MNLI Dev accuracy after fine\\x02tuning from a checkpoint that has been pre-trained\\nfor k steps. This allows us to answer the following\\nquestions:\\n1. Question: Does BERT really need such\\na large amount of pre-training (128,000\\nwords/batch * 1,000,000 steps) to achieve\\nhigh fine-tuning accuracy?\\nAnswer: Yes, BERTBASE achieves almost\\n1.0% additional accuracy on MNLI when\\ntrained on 1M steps compared to 500k steps.\\n2. Question: Does MLM pre-training converge\\nslower than LTR pre-training, since only 15%\\nof words are predicted in each batch rather\\nthan every word?\\nAnswer: The MLM model does converge\\nslightly slower than the LTR model. How\\x02ever, in terms of absolute accuracy the MLM\\nmodel begins to outperform the LTR model\\nalmost immediately.\\nC.2 Ablation for Different Masking\\nProcedures\\nIn Section 3.1, we mention that BERT uses a\\nmixed strategy for masking the target tokens when\\npre-training with the masked language model\\n(MLM) objective. The following is an ablation\\nstudy to evaluate the effect of different masking\\nstrategies.\\nNote that the purpose of the masking strategies\\nis to reduce the mismatch between pre-training\\n200 400 600 800 1,000\\n76\\n78\\n80\\n82\\n84\\nPre-training Steps (Thousands)\\nMNLI Dev Accuracy\\nBERTBASE (Masked LM)\\nBERTBASE (Left-to-Right)\\nFigure 5: Ablation over number of training steps. This\\nshows the MNLI accuracy after fine-tuning, starting\\nfrom model parameters that have been pre-trained for\\nk steps. The x-axis is the value of k.\\nand fine-tuning, as the [MASK] symbol never ap\\x02pears during the fine-tuning stage. We report the\\nDev results for both MNLI and NER. For NER,\\nwe report both fine-tuning and feature-based ap\\x02proaches, as we expect the mismatch will be am\\x02plified for the feature-based approach as the model\\nwill not have the chance to adjust the representa\\x02tions.\\nMasking Rates Dev Set Results\\nMASK SAME RND MNLI NER\\nFine-tune Fine-tune Feature-based\\n80% 10% 10% 84.2 95.4 94.9\\n100% 0% 0% 84.3 94.9 94.0\\n80% 0% 20% 84.1 95.2 94.6\\n80% 20% 0% 84.4 95.2 94.7\\n0% 20% 80% 83.7 94.8 94.6\\n0% 0% 100% 83.6 94.9 94.6\\nTable 8: Ablation over different masking strategies.\\nThe results are presented in Table 8. In the table,\\nMASK means that we replace the target token with\\nthe [MASK] symbol for MLM; SAME means that\\nwe keep the target token as is; RND means that\\nwe replace the target token with another random\\ntoken.\\nThe numbers in the left part of the table repre\\x02sent the probabilities of the specific strategies used\\nduring MLM pre-training (BERT uses 80%, 10%,\\n10%). The right part of the paper represents the\\nDev set results. For the feature-based approach,\\nwe concatenate the last 4 layers of BERT as the\\nfeatures, which was shown to be the best approach\\nin Section 5.3.\\nFrom the table it can be seen that fine-tuning is\\nsurprisingly robust to different masking strategies.\\nHowever, as expected, using only the MASK strat\\x02egy was problematic when applying the feature\\x02based approach to NER. Interestingly, using only\\nthe RND strategy performs much worse than our\\nstrategy as well.\\n')]"
      ]
     },
     "execution_count": 21,
     "metadata": {},
     "output_type": "execute_result"
    }
   ],
   "source": [
    "pdf"
   ]
  },
  {
   "cell_type": "code",
   "execution_count": 22,
   "metadata": {
    "colab": {
     "base_uri": "https://localhost:8080/",
     "height": 139
    },
    "id": "Gjdt3RuGzdSj",
    "outputId": "f0ca2c2b-4742-4e8a-efd4-4b1f9db49261"
   },
   "outputs": [
    {
     "data": {
      "application/vnd.google.colaboratory.intrinsic+json": {
       "type": "string"
      },
      "text/plain": [
       "'Proceedings of NAACL-HLT 2019, pages 4171–4186\\nMinneapolis, Minnesota, June 2 - June 7, 2019. \\nc 2019 Association for Computational Linguistics\\n4171\\nBERT: Pre-training of Deep Bidirectional Transformers for\\nLanguage Understanding\\nJacob Devlin Ming-Wei Chang Kenton Lee Kristina Toutanova\\nGoogle AI Language\\n{jacobdevlin,mingweichang,kentonl,kristout}@google.com\\nAbstract\\nWe introduce a new language representa\\x02tion model called BERT, which stands for\\nBidirectional Encoder Representations from\\nTransformers. Unlike recent language repre\\x02sentation models (Peters et al., 2018a; Rad\\x02ford et al., 2018), BERT is designed to pre\\x02train deep bidirectional representations from\\nunlabeled text by jointly conditioning on both\\nleft and right context in all layers. As a re\\x02sult, the pre-trained BERT model can be fine\\x02tuned with just one additional output layer\\nto create state-of-the-art models for a wide\\nrange of tasks, such as question answering and\\nlanguage inference, without substantial task\\x02specific architecture modifications.\\nBERT is conceptually simple and empirically\\npowerful. It obtains new state-of-the-art re\\x02sults on eleven natural language processing\\ntasks, including pushing the GLUE score to\\n80.5% (7.7% point absolute improvement),\\nMultiNLI accuracy to 86.7% (4.6% absolute\\nimprovement), SQuAD v1.1 question answer\\x02ing Test F1 to 93.2 (1.5 point absolute im\\x02provement) and SQuAD v2.0 Test F1 to 83.1\\n(5.1 point absolute improvement).\\n1 Introduction\\nLanguage model pre-training has been shown to\\nbe effective for improving many natural language\\nprocessing tasks (Dai and Le, 2015; Peters et al.,\\n2018a; Radford et al., 2018; Howard and Ruder,\\n2018). These include sentence-level tasks such as\\nnatural language inference (Bowman et al., 2015;\\nWilliams et al., 2018) and paraphrasing (Dolan\\nand Brockett, 2005), which aim to predict the re\\x02lationships between sentences by analyzing them\\nholistically, as well as token-level tasks such as\\nnamed entity recognition and question answering,\\nwhere models are required to produce fine-grained\\noutput at the token level (Tjong Kim Sang and\\nDe Meulder, 2003; Rajpurkar et al., 2016).\\nThere are two existing strategies for apply\\x02ing pre-trained language representations to down\\x02stream tasks: feature-based and fine-tuning. The\\nfeature-based approach, such as ELMo (Peters\\net al., 2018a), uses task-specific architectures that\\ninclude the pre-trained representations as addi\\x02tional features. The fine-tuning approach, such as\\nthe Generative Pre-trained Transformer (OpenAI\\nGPT) (Radford et al., 2018), introduces minimal\\ntask-specific parameters, and is trained on the\\ndownstream tasks by simply fine-tuning all pre\\x02trained parameters. The two approaches share the\\nsame objective function during pre-training, where\\nthey use unidirectional language models to learn\\ngeneral language representations.\\nWe argue that current techniques restrict the\\npower of the pre-trained representations, espe\\x02cially for the fine-tuning approaches. The ma\\x02jor limitation is that standard language models are\\nunidirectional, and this limits the choice of archi\\x02tectures that can be used during pre-training. For\\nexample, in OpenAI GPT, the authors use a left-to\\x02right architecture, where every token can only at\\x02tend to previous tokens in the self-attention layers\\nof the Transformer (Vaswani et al., 2017). Such re\\x02strictions are sub-optimal for sentence-level tasks,\\nand could be very harmful when applying fine\\x02tuning based approaches to token-level tasks such\\nas question answering, where it is crucial to incor\\x02porate context from both directions.\\nIn this paper, we improve the fine-tuning based\\napproaches by proposing BERT: Bidirectional\\nEncoder Representations from Transformers.\\nBERT alleviates the previously mentioned unidi\\x02rectionality constraint by using a “masked lan\\x02guage model” (MLM) pre-training objective, in\\x02spired by the Cloze task (Taylor, 1953). The\\nmasked language model randomly masks some of\\nthe tokens from the input, and the objective is to\\npredict the original vocabulary id of the masked\\n'"
      ]
     },
     "execution_count": 22,
     "metadata": {},
     "output_type": "execute_result"
    }
   ],
   "source": [
    "pdf[0].page_content   # text of first page\n"
   ]
  },
  {
   "cell_type": "code",
   "execution_count": 23,
   "metadata": {
    "colab": {
     "base_uri": "https://localhost:8080/"
    },
    "id": "WPUPvdxWTQ_X",
    "outputId": "3b7feeb6-c0e0-4ab1-f9d2-5cec9c9316f9"
   },
   "outputs": [
    {
     "name": "stdout",
     "output_type": "stream",
     "text": [
      "Proceedings of NAACL-HLT 2019, pages 4171–4186\n",
      "Minneapolis, Minnesota, June 2 - June 7, 2019. \n",
      "c 2019 Association for Computational Linguistics\n",
      "4171\n",
      "BERT: Pre-training of Deep Bidirectional Transformers for\n",
      "Language Understanding\n",
      "Jacob Devlin Ming-Wei Chang Kenton Lee Kristina Toutanova\n",
      "Google AI Language\n",
      "{jacobdevlin,mingweichang,kentonl,kristout}@google.com\n",
      "Abstract\n",
      "We introduce a new language representa\u0002tion model called BERT, which stands for\n",
      "Bidirectional Encoder Representations from\n",
      "Transformers. Unlike recent language repre\u0002sentation models (Peters et al., 2018a; Rad\u0002ford et al., 2018), BERT is designed to pre\u0002train deep bidirectional representations from\n",
      "unlabeled text by jointly conditioning on both\n",
      "left and right context in all layers. As a re\u0002sult, the pre-trained BERT model can be fine\u0002tuned with just one additional output layer\n",
      "to create state-of-the-art models for a wide\n",
      "range of tasks, such as question answering and\n",
      "language inference, without substantial task\u0002specific architecture modifications.\n",
      "BERT is conceptually simple and empirically\n",
      "powerful. It obtains new state-of-the-art re\u0002sults on eleven natural language processing\n",
      "tasks, including pushing the GLUE score to\n",
      "80.5% (7.7% point absolute improvement),\n",
      "MultiN\n"
     ]
    }
   ],
   "source": [
    "print(pdf[0].page_content[:1250])"
   ]
  },
  {
   "cell_type": "code",
   "execution_count": 24,
   "metadata": {
    "colab": {
     "base_uri": "https://localhost:8080/",
     "height": 141
    },
    "id": "qDezY8hp_w-z",
    "outputId": "544ea807-a1a3-41a1-aacc-7179dc71929f"
   },
   "outputs": [
    {
     "ename": "NameError",
     "evalue": "name 'Markdown' is not defined",
     "output_type": "error",
     "traceback": [
      "\u001b[0;31m---------------------------------------------------------------------------\u001b[0m",
      "\u001b[0;31mNameError\u001b[0m                                 Traceback (most recent call last)",
      "\u001b[0;32m/tmp/ipython-input-2376128944.py\u001b[0m in \u001b[0;36m<cell line: 0>\u001b[0;34m()\u001b[0m\n\u001b[0;32m----> 1\u001b[0;31m \u001b[0mMarkdown\u001b[0m\u001b[0;34m(\u001b[0m\u001b[0mpdf\u001b[0m\u001b[0;34m[\u001b[0m\u001b[0;36m1\u001b[0m\u001b[0;34m]\u001b[0m\u001b[0;34m.\u001b[0m\u001b[0mpage_content\u001b[0m\u001b[0;34m)\u001b[0m\u001b[0;34m\u001b[0m\u001b[0;34m\u001b[0m\u001b[0m\n\u001b[0m",
      "\u001b[0;31mNameError\u001b[0m: name 'Markdown' is not defined"
     ]
    }
   ],
   "source": []
  },
  {
   "cell_type": "code",
   "execution_count": 28,
   "metadata": {
    "colab": {
     "base_uri": "https://localhost:8080/",
     "height": 446
    },
    "id": "0BEka61szdPJ",
    "outputId": "6d7bcd0b-16f6-4e9a-9689-96260251d8d6"
   },
   "outputs": [
    {
     "data": {
      "text/markdown": [
       "4173\n",
       "BERT BERT\n",
       "E[CLS] E1\n",
       " E[SEP] ... EN\n",
       "E1’ ... EM’\n",
       "C T1 T[SEP] ... TN\n",
       "T1’ ... TM’\n",
       "[CLS] Tok 1 [SEP] ... Tok N Tok 1 ... TokM\n",
       "Question Paragraph\n",
       "Start/End Span\n",
       "BERT\n",
       "E[CLS] E1\n",
       " E[SEP] ... EN\n",
       "E1’ ... EM’\n",
       "C T1 T[SEP] ... TN\n",
       "T1’ ... TM’\n",
       "[CLS] Tok 1 [SEP] ... Tok N Tok 1 ... TokM\n",
       "Masked Sentence A Masked Sentence B\n",
       "Pre-training Fine-Tuning\n",
       "NSP Mask LM Mask LM\n",
       "Unlabeled Sentence A and B Pair \n",
       "SQuAD\n",
       "Question Answer Pair\n",
       "MNLI NER\n",
       "Figure 1: Overall pre-training and fine-tuning procedures for BERT. Apart from output layers, the same architec\u0002tures are used in both pre-training and fine-tuning. The same pre-trained model parameters are used to initialize\n",
       "models for different down-stream tasks. During fine-tuning, all parameters are fine-tuned. [CLS] is a special\n",
       "symbol added in front of every input example, and [SEP] is a special separator token (e.g. separating ques\u0002tions/answers).\n",
       "ing and auto-encoder objectives have been used\n",
       "for pre-training such models (Howard and Ruder,\n",
       "2018; Radford et al., 2018; Dai and Le, 2015).\n",
       "2.3 Transfer Learning from Supervised Data\n",
       "There has also been work showing effective trans\u0002fer from supervised tasks with large datasets, such\n",
       "as natural language inference (Conneau et al.,\n",
       "2017) and machine translation (McCann et al.,\n",
       "2017). Computer vision research has also demon\u0002strated the importance of transfer learning from\n",
       "large pre-trained models, where an effective recipe\n",
       "is to fine-tune models pre-trained with Ima\u0002geNet (Deng et al., 2009; Yosinski et al., 2014).\n",
       "3 BERT\n",
       "We introduce BERT and its detailed implementa\u0002tion in this section. There are two steps in our\n",
       "framework: pre-training and fine-tuning. Dur\u0002ing pre-training, the model is trained on unlabeled\n",
       "data over different pre-training tasks. For fine\u0002tuning, the BERT model is first initialized with\n",
       "the pre-trained parameters, and all of the param\u0002eters are fine-tuned using labeled data from the\n",
       "downstream tasks. Each downstream task has sep\u0002arate fine-tuned models, even though they are ini\u0002tialized with the same pre-trained parameters. The\n",
       "question-answering example in Figure 1 will serve\n",
       "as a running example for this section.\n",
       "A distinctive feature of BERT is its unified ar\u0002chitecture across different tasks. There is mini\u0002mal difference between the pre-trained architec\u0002ture and the final downstream architecture.\n",
       "Model Architecture BERT’s model architec\u0002ture is a multi-layer bidirectional Transformer en\u0002coder based on the original implementation de\u0002scribed in Vaswani et al. (2017) and released in\n",
       "the tensor2tensor library.1 Because the use\n",
       "of Transformers has become common and our im\u0002plementation is almost identical to the original,\n",
       "we will omit an exhaustive background descrip\u0002tion of the model architecture and refer readers to\n",
       "Vaswani et al. (2017) as well as excellent guides\n",
       "such as “The Annotated Transformer.”2\n",
       "In this work, we denote the number of layers\n",
       "(i.e., Transformer blocks) as L, the hidden size as\n",
       "H, and the number of self-attention heads as A.\n",
       "3\n",
       "We primarily report results on two model sizes:\n",
       "BERTBASE (L=12, H=768, A=12, Total Param\u0002eters=110M) and BERTLARGE (L=24, H=1024,\n",
       "A=16, Total Parameters=340M).\n",
       "BERTBASE was chosen to have the same model\n",
       "size as OpenAI GPT for comparison purposes.\n",
       "Critically, however, the BERT Transformer uses\n",
       "bidirectional self-attention, while the GPT Trans\u0002former uses constrained self-attention where every\n",
       "token can only attend to context to its left.4\n",
       "1\n",
       "https://github.com/tensorflow/tensor2tensor\n",
       "2\n",
       "http://nlp.seas.harvard.edu/2018/04/03/attention.html\n",
       "3\n",
       "In all cases we set the feed-forward/filter size to be 4H,\n",
       "i.e., 3072 for the H = 768 and 4096 for the H = 1024.\n",
       "4We note that in the literature the bidirectional Trans-\n"
      ],
      "text/plain": [
       "<IPython.core.display.Markdown object>"
      ]
     },
     "execution_count": 28,
     "metadata": {},
     "output_type": "execute_result"
    }
   ],
   "source": [
    "from IPython.display import Markdown\n",
    "\n",
    "Markdown(pdf[2].page_content)"
   ]
  },
  {
   "cell_type": "code",
   "execution_count": 29,
   "metadata": {
    "colab": {
     "base_uri": "https://localhost:8080/",
     "height": 1000
    },
    "id": "3TXlU9eJBZkD",
    "outputId": "34824648-e757-4feb-a7a3-a74573c0e935"
   },
   "outputs": [
    {
     "data": {
      "text/markdown": [
       "### Page 1\n",
       "\n",
       "Proceedings of NAACL-HLT 2019, pages 4171–4186\n",
       "Minneapolis, Minnesota, June 2 - June 7, 2019. \n",
       "c 2019 Association for Computational Linguistics\n",
       "4171\n",
       "BERT: Pre-training of Deep Bidirectional Transformers for\n",
       "Language Understanding\n",
       "Jacob Devlin Ming-Wei Chang Kenton Lee Kristina Toutanova\n",
       "Google AI Language\n",
       "{jacobdevlin,mingweichang,kentonl,kristout}@google.com\n",
       "Abstract\n",
       "We introduce a new language representa\u0002tion model called BERT, which stands for\n",
       "Bidirectional Encoder Representations from\n",
       "Transformers. Unlike recent language repre\u0002sentation models (Peters et al., 2018a; Rad\u0002ford et al., 2018), BERT is designed to pre\u0002train deep bidirectional representations from\n",
       "unlabeled text by jointly conditioning on both\n",
       "left and right context in all layers. As a re\u0002sult, the pre-trained BERT model can be fine\u0002tuned with just one additional output layer\n",
       "to create state-of-the-art models for a wide\n",
       "range of tasks, such as question answering and\n",
       "language inference, without substantial task\u0002specific architecture modifications.\n",
       "BERT is conceptually simple and empirically\n",
       "powerful. It obtains new state-of-the-art re\u0002sults on eleven natural language processing\n",
       "tasks, including pushing the GLUE score to\n",
       "80.5% (7.7% point absolute improvement),\n",
       "MultiNLI accuracy to 86.7% (4.6% absolute\n",
       "improvement), SQuAD v1.1 question answer\u0002ing Test F1 to 93.2 (1.5 point absolute im\u0002provement) and SQuAD v2.0 Test F1 to 83.1\n",
       "(5.1 point absolute improvement).\n",
       "1 Introduction\n",
       "Language model pre-training has been shown to\n",
       "be effective for improving many natural language\n",
       "processing tasks (Dai and Le, 2015; Peters et al.,\n",
       "2018a; Radford et al., 2018; Howard and Ruder,\n",
       "2018). These include sentence-level tasks such as\n",
       "natural language inference (Bowman et al., 2015;\n",
       "Williams et al., 2018) and paraphrasing (Dolan\n",
       "and Brockett, 2005), which aim to predict the re\u0002lationships between sentences by analyzing them\n",
       "holistically, as well as token-level tasks such as\n",
       "named entity recognition and question answering,\n",
       "where models are required to produce fine-grained\n",
       "output at the token level (Tjong Kim Sang and\n",
       "De Meulder, 2003; Rajpurkar et al., 2016).\n",
       "There are two existing strategies for apply\u0002ing pre-trained language representations to down\u0002stream tasks: feature-based and fine-tuning. The\n",
       "feature-based approach, such as ELMo (Peters\n",
       "et al., 2018a), uses task-specific architectures that\n",
       "include the pre-trained representations as addi\u0002tional features. The fine-tuning approach, such as\n",
       "the Generative Pre-trained Transformer (OpenAI\n",
       "GPT) (Radford et al., 2018), introduces minimal\n",
       "task-specific parameters, and is trained on the\n",
       "downstream tasks by simply fine-tuning all pre\u0002trained parameters. The two approaches share the\n",
       "same objective function during pre-training, where\n",
       "they use unidirectional language models to learn\n",
       "general language representations.\n",
       "We argue that current techniques restrict the\n",
       "power of the pre-trained representations, espe\u0002cially for the fine-tuning approaches. The ma\u0002jor limitation is that standard language models are\n",
       "unidirectional, and this limits the choice of archi\u0002tectures that can be used during pre-training. For\n",
       "example, in OpenAI GPT, the authors use a left-to\u0002right architecture, where every token can only at\u0002tend to previous tokens in the self-attention layers\n",
       "of the Transformer (Vaswani et al., 2017). Such re\u0002strictions are sub-optimal for sentence-level tasks,\n",
       "and could be very harmful when applying fine\u0002tuning based approaches to token-level tasks such\n",
       "as question answering, where it is crucial to incor\u0002porate context from both directions.\n",
       "In this paper, we improve the fine-tuning based\n",
       "approaches by proposing BERT: Bidirectional\n",
       "Encoder Representations from Transformers.\n",
       "BERT alleviates the previously mentioned unidi\u0002rectionality constraint by using a “masked lan\u0002guage model” (MLM) pre-training objective, in\u0002spired by the Cloze task (Taylor, 1953). The\n",
       "masked language model randomly masks some of\n",
       "the tokens from the input, and the objective is to\n",
       "predict the original vocabulary id of the masked\n"
      ],
      "text/plain": [
       "<IPython.core.display.Markdown object>"
      ]
     },
     "metadata": {},
     "output_type": "display_data"
    },
    {
     "data": {
      "text/markdown": [
       "### Page 2\n",
       "\n",
       "4172\n",
       "word based only on its context. Unlike left-to\u0002right language model pre-training, the MLM ob\u0002jective enables the representation to fuse the left\n",
       "and the right context, which allows us to pre\u0002train a deep bidirectional Transformer. In addi\u0002tion to the masked language model, we also use\n",
       "a “next sentence prediction” task that jointly pre\u0002trains text-pair representations. The contributions\n",
       "of our paper are as follows:\n",
       "• We demonstrate the importance of bidirectional\n",
       "pre-training for language representations. Un\u0002like Radford et al. (2018), which uses unidirec\u0002tional language models for pre-training, BERT\n",
       "uses masked language models to enable pre\u0002trained deep bidirectional representations. This\n",
       "is also in contrast to Peters et al. (2018a), which\n",
       "uses a shallow concatenation of independently\n",
       "trained left-to-right and right-to-left LMs.\n",
       "• We show that pre-trained representations reduce\n",
       "the need for many heavily-engineered task\u0002specific architectures. BERT is the first fine\u0002tuning based representation model that achieves\n",
       "state-of-the-art performance on a large suite\n",
       "of sentence-level and token-level tasks, outper\u0002forming many task-specific architectures.\n",
       "• BERT advances the state of the art for eleven\n",
       "NLP tasks. The code and pre-trained mod\u0002els are available at https://github.com/\n",
       "google-research/bert.\n",
       "2 Related Work\n",
       "There is a long history of pre-training general lan\u0002guage representations, and we briefly review the\n",
       "most widely-used approaches in this section.\n",
       "2.1 Unsupervised Feature-based Approaches\n",
       "Learning widely applicable representations of\n",
       "words has been an active area of research for\n",
       "decades, including non-neural (Brown et al., 1992;\n",
       "Ando and Zhang, 2005; Blitzer et al., 2006) and\n",
       "neural (Mikolov et al., 2013; Pennington et al.,\n",
       "2014) methods. Pre-trained word embeddings\n",
       "are an integral part of modern NLP systems, of\u0002fering significant improvements over embeddings\n",
       "learned from scratch (Turian et al., 2010). To pre\u0002train word embedding vectors, left-to-right lan\u0002guage modeling objectives have been used (Mnih\n",
       "and Hinton, 2009), as well as objectives to dis\u0002criminate correct from incorrect words in left and\n",
       "right context (Mikolov et al., 2013).\n",
       "These approaches have been generalized to\n",
       "coarser granularities, such as sentence embed\u0002dings (Kiros et al., 2015; Logeswaran and Lee,\n",
       "2018) or paragraph embeddings (Le and Mikolov,\n",
       "2014). To train sentence representations, prior\n",
       "work has used objectives to rank candidate next\n",
       "sentences (Jernite et al., 2017; Logeswaran and\n",
       "Lee, 2018), left-to-right generation of next sen\u0002tence words given a representation of the previous\n",
       "sentence (Kiros et al., 2015), or denoising auto\u0002encoder derived objectives (Hill et al., 2016).\n",
       "ELMo and its predecessor (Peters et al., 2017,\n",
       "2018a) generalize traditional word embedding re\u0002search along a different dimension. They extract\n",
       "context-sensitive features from a left-to-right and a\n",
       "right-to-left language model. The contextual rep\u0002resentation of each token is the concatenation of\n",
       "the left-to-right and right-to-left representations.\n",
       "When integrating contextual word embeddings\n",
       "with existing task-specific architectures, ELMo\n",
       "advances the state of the art for several major NLP\n",
       "benchmarks (Peters et al., 2018a) including ques\u0002tion answering (Rajpurkar et al., 2016), sentiment\n",
       "analysis (Socher et al., 2013), and named entity\n",
       "recognition (Tjong Kim Sang and De Meulder,\n",
       "2003). Melamud et al. (2016) proposed learning\n",
       "contextual representations through a task to pre\u0002dict a single word from both left and right context\n",
       "using LSTMs. Similar to ELMo, their model is\n",
       "feature-based and not deeply bidirectional. Fedus\n",
       "et al. (2018) shows that the cloze task can be used\n",
       "to improve the robustness of text generation mod\u0002els.\n",
       "2.2 Unsupervised Fine-tuning Approaches\n",
       "As with the feature-based approaches, the first\n",
       "works in this direction only pre-trained word em\u0002bedding parameters from unlabeled text (Col\u0002lobert and Weston, 2008).\n",
       "More recently, sentence or document encoders\n",
       "which produce contextual token representations\n",
       "have been pre-trained from unlabeled text and\n",
       "fine-tuned for a supervised downstream task (Dai\n",
       "and Le, 2015; Howard and Ruder, 2018; Radford\n",
       "et al., 2018). The advantage of these approaches\n",
       "is that few parameters need to be learned from\n",
       "scratch. At least partly due to this advantage,\n",
       "OpenAI GPT (Radford et al., 2018) achieved pre\u0002viously state-of-the-art results on many sentence\u0002level tasks from the GLUE benchmark (Wang\n",
       "et al., 2018a). Left-to-right language model-\n"
      ],
      "text/plain": [
       "<IPython.core.display.Markdown object>"
      ]
     },
     "metadata": {},
     "output_type": "display_data"
    },
    {
     "data": {
      "text/markdown": [
       "### Page 3\n",
       "\n",
       "4173\n",
       "BERT BERT\n",
       "E[CLS] E1\n",
       " E[SEP] ... EN\n",
       "E1’ ... EM’\n",
       "C T1 T[SEP] ... TN\n",
       "T1’ ... TM’\n",
       "[CLS] Tok 1 [SEP] ... Tok N Tok 1 ... TokM\n",
       "Question Paragraph\n",
       "Start/End Span\n",
       "BERT\n",
       "E[CLS] E1\n",
       " E[SEP] ... EN\n",
       "E1’ ... EM’\n",
       "C T1 T[SEP] ... TN\n",
       "T1’ ... TM’\n",
       "[CLS] Tok 1 [SEP] ... Tok N Tok 1 ... TokM\n",
       "Masked Sentence A Masked Sentence B\n",
       "Pre-training Fine-Tuning\n",
       "NSP Mask LM Mask LM\n",
       "Unlabeled Sentence A and B Pair \n",
       "SQuAD\n",
       "Question Answer Pair\n",
       "MNLI NER\n",
       "Figure 1: Overall pre-training and fine-tuning procedures for BERT. Apart from output layers, the same architec\u0002tures are used in both pre-training and fine-tuning. The same pre-trained model parameters are used to initialize\n",
       "models for different down-stream tasks. During fine-tuning, all parameters are fine-tuned. [CLS] is a special\n",
       "symbol added in front of every input example, and [SEP] is a special separator token (e.g. separating ques\u0002tions/answers).\n",
       "ing and auto-encoder objectives have been used\n",
       "for pre-training such models (Howard and Ruder,\n",
       "2018; Radford et al., 2018; Dai and Le, 2015).\n",
       "2.3 Transfer Learning from Supervised Data\n",
       "There has also been work showing effective trans\u0002fer from supervised tasks with large datasets, such\n",
       "as natural language inference (Conneau et al.,\n",
       "2017) and machine translation (McCann et al.,\n",
       "2017). Computer vision research has also demon\u0002strated the importance of transfer learning from\n",
       "large pre-trained models, where an effective recipe\n",
       "is to fine-tune models pre-trained with Ima\u0002geNet (Deng et al., 2009; Yosinski et al., 2014).\n",
       "3 BERT\n",
       "We introduce BERT and its detailed implementa\u0002tion in this section. There are two steps in our\n",
       "framework: pre-training and fine-tuning. Dur\u0002ing pre-training, the model is trained on unlabeled\n",
       "data over different pre-training tasks. For fine\u0002tuning, the BERT model is first initialized with\n",
       "the pre-trained parameters, and all of the param\u0002eters are fine-tuned using labeled data from the\n",
       "downstream tasks. Each downstream task has sep\u0002arate fine-tuned models, even though they are ini\u0002tialized with the same pre-trained parameters. The\n",
       "question-answering example in Figure 1 will serve\n",
       "as a running example for this section.\n",
       "A distinctive feature of BERT is its unified ar\u0002chitecture across different tasks. There is mini\u0002mal difference between the pre-trained architec\u0002ture and the final downstream architecture.\n",
       "Model Architecture BERT’s model architec\u0002ture is a multi-layer bidirectional Transformer en\u0002coder based on the original implementation de\u0002scribed in Vaswani et al. (2017) and released in\n",
       "the tensor2tensor library.1 Because the use\n",
       "of Transformers has become common and our im\u0002plementation is almost identical to the original,\n",
       "we will omit an exhaustive background descrip\u0002tion of the model architecture and refer readers to\n",
       "Vaswani et al. (2017) as well as excellent guides\n",
       "such as “The Annotated Transformer.”2\n",
       "In this work, we denote the number of layers\n",
       "(i.e., Transformer blocks) as L, the hidden size as\n",
       "H, and the number of self-attention heads as A.\n",
       "3\n",
       "We primarily report results on two model sizes:\n",
       "BERTBASE (L=12, H=768, A=12, Total Param\u0002eters=110M) and BERTLARGE (L=24, H=1024,\n",
       "A=16, Total Parameters=340M).\n",
       "BERTBASE was chosen to have the same model\n",
       "size as OpenAI GPT for comparison purposes.\n",
       "Critically, however, the BERT Transformer uses\n",
       "bidirectional self-attention, while the GPT Trans\u0002former uses constrained self-attention where every\n",
       "token can only attend to context to its left.4\n",
       "1\n",
       "https://github.com/tensorflow/tensor2tensor\n",
       "2\n",
       "http://nlp.seas.harvard.edu/2018/04/03/attention.html\n",
       "3\n",
       "In all cases we set the feed-forward/filter size to be 4H,\n",
       "i.e., 3072 for the H = 768 and 4096 for the H = 1024.\n",
       "4We note that in the literature the bidirectional Trans-\n"
      ],
      "text/plain": [
       "<IPython.core.display.Markdown object>"
      ]
     },
     "metadata": {},
     "output_type": "display_data"
    },
    {
     "data": {
      "text/markdown": [
       "### Page 4\n",
       "\n",
       "4174\n",
       "Input/Output Representations To make BERT\n",
       "handle a variety of down-stream tasks, our input\n",
       "representation is able to unambiguously represent\n",
       "both a single sentence and a pair of sentences\n",
       "(e.g., h Question, Answeri) in one token sequence.\n",
       "Throughout this work, a “sentence” can be an arbi\u0002trary span of contiguous text, rather than an actual\n",
       "linguistic sentence. A “sequence” refers to the in\u0002put token sequence to BERT, which may be a sin\u0002gle sentence or two sentences packed together.\n",
       "We use WordPiece embeddings (Wu et al.,\n",
       "2016) with a 30,000 token vocabulary. The first\n",
       "token of every sequence is always a special clas\u0002sification token ([CLS]). The final hidden state\n",
       "corresponding to this token is used as the ag\u0002gregate sequence representation for classification\n",
       "tasks. Sentence pairs are packed together into a\n",
       "single sequence. We differentiate the sentences in\n",
       "two ways. First, we separate them with a special\n",
       "token ([SEP]). Second, we add a learned embed\u0002ding to every token indicating whether it belongs\n",
       "to sentence A or sentence B. As shown in Figure 1,\n",
       "we denote input embedding as E, the final hidden\n",
       "vector of the special [CLS] token as C ∈ R\n",
       "H,\n",
       "and the final hidden vector for the i\n",
       "th input token\n",
       "as Ti ∈ R\n",
       "H.\n",
       "For a given token, its input representation is\n",
       "constructed by summing the corresponding token,\n",
       "segment, and position embeddings. A visualiza\u0002tion of this construction can be seen in Figure 2.\n",
       "3.1 Pre-training BERT\n",
       "Unlike Peters et al. (2018a) and Radford et al.\n",
       "(2018), we do not use traditional left-to-right or\n",
       "right-to-left language models to pre-train BERT.\n",
       "Instead, we pre-train BERT using two unsuper\u0002vised tasks, described in this section. This step\n",
       "is presented in the left part of Figure 1.\n",
       "Task #1: Masked LM Intuitively, it is reason\u0002able to believe that a deep bidirectional model is\n",
       "strictly more powerful than either a left-to-right\n",
       "model or the shallow concatenation of a left-to\u0002right and a right-to-left model. Unfortunately,\n",
       "standard conditional language models can only be\n",
       "trained left-to-right or right-to-left, since bidirec\u0002tional conditioning would allow each word to in\u0002directly “see itself”, and the model could trivially\n",
       "predict the target word in a multi-layered context.\n",
       "former is often referred to as a “Transformer encoder” while\n",
       "the left-context-only version is referred to as a “Transformer\n",
       "decoder” since it can be used for text generation.\n",
       "In order to train a deep bidirectional representa\u0002tion, we simply mask some percentage of the input\n",
       "tokens at random, and then predict those masked\n",
       "tokens. We refer to this procedure as a “masked\n",
       "LM” (MLM), although it is often referred to as a\n",
       "Cloze task in the literature (Taylor, 1953). In this\n",
       "case, the final hidden vectors corresponding to the\n",
       "mask tokens are fed into an output softmax over\n",
       "the vocabulary, as in a standard LM. In all of our\n",
       "experiments, we mask 15% of all WordPiece to\u0002kens in each sequence at random. In contrast to\n",
       "denoising auto-encoders (Vincent et al., 2008), we\n",
       "only predict the masked words rather than recon\u0002structing the entire input.\n",
       "Although this allows us to obtain a bidirec\u0002tional pre-trained model, a downside is that we\n",
       "are creating a mismatch between pre-training and\n",
       "fine-tuning, since the [MASK] token does not ap\u0002pear during fine-tuning. To mitigate this, we do\n",
       "not always replace “masked” words with the ac\u0002tual [MASK] token. The training data generator\n",
       "chooses 15% of the token positions at random for\n",
       "prediction. If the i-th token is chosen, we replace\n",
       "the i-th token with (1) the [MASK] token 80% of\n",
       "the time (2) a random token 10% of the time (3)\n",
       "the unchanged i-th token 10% of the time. Then,\n",
       "Ti will be used to predict the original token with\n",
       "cross entropy loss. We compare variations of this\n",
       "procedure in Appendix C.2.\n",
       "Task #2: Next Sentence Prediction (NSP)\n",
       "Many important downstream tasks such as Ques\u0002tion Answering (QA) and Natural Language Infer\u0002ence (NLI) are based on understanding the rela\u0002tionship between two sentences, which is not di\u0002rectly captured by language modeling. In order\n",
       "to train a model that understands sentence rela\u0002tionships, we pre-train for a binarized next sen\u0002tence prediction task that can be trivially gener\u0002ated from any monolingual corpus. Specifically,\n",
       "when choosing the sentences A and B for each pre\u0002training example, 50% of the time B is the actual\n",
       "next sentence that follows A (labeled as IsNext),\n",
       "and 50% of the time it is a random sentence from\n",
       "the corpus (labeled as NotNext). As we show\n",
       "in Figure 1, C is used for next sentence predic\u0002tion (NSP).5 Despite its simplicity, we demon\u0002strate in Section 5.1 that pre-training towards this\n",
       "task is very beneficial to both QA and NLI. 6\n",
       "5The final model achieves 97%-98% accuracy on NSP.\n",
       "6The vector C is not a meaningful sentence representation\n",
       "without fine-tuning, since it was trained with NSP.\n"
      ],
      "text/plain": [
       "<IPython.core.display.Markdown object>"
      ]
     },
     "metadata": {},
     "output_type": "display_data"
    },
    {
     "data": {
      "text/markdown": [
       "### Page 5\n",
       "\n",
       "4175\n",
       "[CLS] my dog is cute [SEP] he likes play ##ing [SEP] Input\n",
       "E[CLS] Ehe Elikes Eplay E##ing E[SEP] Emy Edog Eis Ecute E[SEP]\n",
       "Token\n",
       "Embeddings\n",
       "EAEBEBEBEBEBEAEAEAEAEA\n",
       "Segment\n",
       "Embeddings\n",
       "E0 E6E7E8E9E10 E1E2E3E4E5\n",
       "Position\n",
       "Embeddings\n",
       "Figure 2: BERT input representation. The input embeddings are the sum of the token embeddings, the segmenta\u0002tion embeddings and the position embeddings.\n",
       "The NSP task is closely related to representation\u0002learning objectives used in Jernite et al. (2017) and\n",
       "Logeswaran and Lee (2018). However, in prior\n",
       "work, only sentence embeddings are transferred to\n",
       "down-stream tasks, where BERT transfers all pa\u0002rameters to initialize end-task model parameters.\n",
       "Pre-training data The pre-training procedure\n",
       "largely follows the existing literature on language\n",
       "model pre-training. For the pre-training corpus we\n",
       "use the BooksCorpus (800M words) (Zhu et al.,\n",
       "2015) and English Wikipedia (2,500M words).\n",
       "For Wikipedia we extract only the text passages\n",
       "and ignore lists, tables, and headers. It is criti\u0002cal to use a document-level corpus rather than a\n",
       "shuffled sentence-level corpus such as the Billion\n",
       "Word Benchmark (Chelba et al., 2013) in order to\n",
       "extract long contiguous sequences.\n",
       "3.2 Fine-tuning BERT\n",
       "Fine-tuning is straightforward since the self\u0002attention mechanism in the Transformer al\u0002lows BERT to model many downstream tasks—\n",
       "whether they involve single text or text pairs—by\n",
       "swapping out the appropriate inputs and outputs.\n",
       "For applications involving text pairs, a common\n",
       "pattern is to independently encode text pairs be\u0002fore applying bidirectional cross attention, such\n",
       "as Parikh et al. (2016); Seo et al. (2017). BERT\n",
       "instead uses the self-attention mechanism to unify\n",
       "these two stages, as encoding a concatenated text\n",
       "pair with self-attention effectively includes bidi\u0002rectional cross attention between two sentences.\n",
       "For each task, we simply plug in the task\u0002specific inputs and outputs into BERT and fine\u0002tune all the parameters end-to-end. At the in\u0002put, sentence A and sentence B from pre-training\n",
       "are analogous to (1) sentence pairs in paraphras\u0002ing, (2) hypothesis-premise pairs in entailment, (3)\n",
       "question-passage pairs in question answering, and\n",
       "(4) a degenerate text-∅ pair in text classification\n",
       "or sequence tagging. At the output, the token rep\u0002resentations are fed into an output layer for token\u0002level tasks, such as sequence tagging or question\n",
       "answering, and the [CLS] representation is fed\n",
       "into an output layer for classification, such as en\u0002tailment or sentiment analysis.\n",
       "Compared to pre-training, fine-tuning is rela\u0002tively inexpensive. All of the results in the pa\u0002per can be replicated in at most 1 hour on a sin\u0002gle Cloud TPU, or a few hours on a GPU, starting\n",
       "from the exact same pre-trained model.7 We de\u0002scribe the task-specific details in the correspond\u0002ing subsections of Section 4. More details can be\n",
       "found in Appendix A.5.\n",
       "4 Experiments\n",
       "In this section, we present BERT fine-tuning re\u0002sults on 11 NLP tasks.\n",
       "4.1 GLUE\n",
       "The General Language Understanding Evaluation\n",
       "(GLUE) benchmark (Wang et al., 2018a) is a col\u0002lection of diverse natural language understanding\n",
       "tasks. Detailed descriptions of GLUE datasets are\n",
       "included in Appendix B.1.\n",
       "To fine-tune on GLUE, we represent the input\n",
       "sequence (for single sentence or sentence pairs)\n",
       "as described in Section 3, and use the final hid\u0002den vector C ∈ R\n",
       "H corresponding to the first\n",
       "input token ([CLS]) as the aggregate representa\u0002tion. The only new parameters introduced during\n",
       "fine-tuning are classification layer weights W ∈\n",
       "R\n",
       "K×H, where K is the number of labels. We com\u0002pute a standard classification loss with C and W,\n",
       "i.e., log(softmax(CWT)).\n",
       "7\n",
       "For example, the BERT SQuAD model can be trained in\n",
       "around 30 minutes on a single Cloud TPU to achieve a Dev\n",
       "F1 score of 91.0%.\n",
       "8\n",
       "See (10) in https://gluebenchmark.com/faq.\n"
      ],
      "text/plain": [
       "<IPython.core.display.Markdown object>"
      ]
     },
     "metadata": {},
     "output_type": "display_data"
    },
    {
     "data": {
      "text/markdown": [
       "### Page 6\n",
       "\n",
       "4176\n",
       "System MNLI-(m/mm) QQP QNLI SST-2 CoLA STS-B MRPC RTE Average\n",
       "392k 363k 108k 67k 8.5k 5.7k 3.5k 2.5k -\n",
       "Pre-OpenAI SOTA 80.6/80.1 66.1 82.3 93.2 35.0 81.0 86.0 61.7 74.0\n",
       "BiLSTM+ELMo+Attn 76.4/76.1 64.8 79.8 90.4 36.0 73.3 84.9 56.8 71.0\n",
       "OpenAI GPT 82.1/81.4 70.3 87.4 91.3 45.4 80.0 82.3 56.0 75.1\n",
       "BERTBASE 84.6/83.4 71.2 90.5 93.5 52.1 85.8 88.9 66.4 79.6\n",
       "BERTLARGE 86.7/85.9 72.1 92.7 94.9 60.5 86.5 89.3 70.1 82.1\n",
       "Table 1: GLUE Test results, scored by the evaluation server (https://gluebenchmark.com/leaderboard).\n",
       "The number below each task denotes the number of training examples. The “Average” column is slightly different\n",
       "than the official GLUE score, since we exclude the problematic WNLI set.8 BERT and OpenAI GPT are single\u0002model, single task. F1 scores are reported for QQP and MRPC, Spearman correlations are reported for STS-B, and\n",
       "accuracy scores are reported for the other tasks. We exclude entries that use BERT as one of their components.\n",
       "We use a batch size of 32 and fine-tune for 3\n",
       "epochs over the data for all GLUE tasks. For each\n",
       "task, we selected the best fine-tuning learning rate\n",
       "(among 5e-5, 4e-5, 3e-5, and 2e-5) on the Dev set.\n",
       "Additionally, for BERTLARGE we found that fine\u0002tuning was sometimes unstable on small datasets,\n",
       "so we ran several random restarts and selected the\n",
       "best model on the Dev set. With random restarts,\n",
       "we use the same pre-trained checkpoint but per\u0002form different fine-tuning data shuffling and clas\u0002sifier layer initialization.9\n",
       "Results are presented in Table 1. Both\n",
       "BERTBASE and BERTLARGE outperform all sys\u0002tems on all tasks by a substantial margin, obtaining\n",
       "4.5% and 7.0% respective average accuracy im\u0002provement over the prior state of the art. Note that\n",
       "BERTBASE and OpenAI GPT are nearly identical\n",
       "in terms of model architecture apart from the at\u0002tention masking. For the largest and most widely\n",
       "reported GLUE task, MNLI, BERT obtains a 4.6%\n",
       "absolute accuracy improvement. On the official\n",
       "GLUE leaderboard10, BERTLARGE obtains a score\n",
       "of 80.5, compared to OpenAI GPT, which obtains\n",
       "72.8 as of the date of writing.\n",
       "We find that BERTLARGE significantly outper\u0002forms BERTBASE across all tasks, especially those\n",
       "with very little training data. The effect of model\n",
       "size is explored more thoroughly in Section 5.2.\n",
       "4.2 SQuAD v1.1\n",
       "The Stanford Question Answering Dataset\n",
       "(SQuAD v1.1) is a collection of 100k crowd\u0002sourced question/answer pairs (Rajpurkar et al.,\n",
       "2016). Given a question and a passage from\n",
       "9The GLUE data set distribution does not include the Test\n",
       "labels, and we only made a single GLUE evaluation server\n",
       "submission for each of BERTBASE and BERTLARGE.\n",
       "10https://gluebenchmark.com/leaderboard\n",
       "Wikipedia containing the answer, the task is to\n",
       "predict the answer text span in the passage.\n",
       "As shown in Figure 1, in the question answer\u0002ing task, we represent the input question and pas\u0002sage as a single packed sequence, with the ques\u0002tion using the A embedding and the passage using\n",
       "the B embedding. We only introduce a start vec\u0002tor S ∈ R\n",
       "H and an end vector E ∈ RH during\n",
       "fine-tuning. The probability of word i being the\n",
       "start of the answer span is computed as a dot prod\u0002uct between Ti and S followed by a softmax over\n",
       "all of the words in the paragraph: Pi =\n",
       "e\n",
       "S·Ti P\n",
       "j\n",
       "e\n",
       "S·Tj\n",
       ".\n",
       "The analogous formula is used for the end of the\n",
       "answer span. The score of a candidate span from\n",
       "position i to position j is defined as S·Ti + E·Tj ,\n",
       "and the maximum scoring span where j ≥ i is\n",
       "used as a prediction. The training objective is the\n",
       "sum of the log-likelihoods of the correct start and\n",
       "end positions. We fine-tune for 3 epochs with a\n",
       "learning rate of 5e-5 and a batch size of 32.\n",
       "Table 2 shows top leaderboard entries as well\n",
       "as results from top published systems (Seo et al.,\n",
       "2017; Clark and Gardner, 2018; Peters et al.,\n",
       "2018a; Hu et al., 2018). The top results from the\n",
       "SQuAD leaderboard do not have up-to-date public\n",
       "system descriptions available,11 and are allowed to\n",
       "use any public data when training their systems.\n",
       "We therefore use modest data augmentation in\n",
       "our system by first fine-tuning on TriviaQA (Joshi\n",
       "et al., 2017) befor fine-tuning on SQuAD.\n",
       "Our best performing system outperforms the top\n",
       "leaderboard system by +1.5 F1 in ensembling and\n",
       "+1.3 F1 as a single system. In fact, our single\n",
       "BERT model outperforms the top ensemble sys\u0002tem in terms of F1 score. Without TriviaQA fine\u000211QANet is described in Yu et al. (2018), but the system\n",
       "has improved substantially after publication.\n"
      ],
      "text/plain": [
       "<IPython.core.display.Markdown object>"
      ]
     },
     "metadata": {},
     "output_type": "display_data"
    },
    {
     "data": {
      "text/markdown": [
       "### Page 7\n",
       "\n",
       "4177\n",
       "System Dev Test\n",
       "EM F1 EM F1\n",
       "Top Leaderboard Systems (Dec 10th, 2018)\n",
       "Human - - 82.3 91.2\n",
       "#1 Ensemble - nlnet - - 86.0 91.7\n",
       "#2 Ensemble - QANet - - 84.5 90.5\n",
       "Published\n",
       "BiDAF+ELMo (Single) - 85.6 - 85.8\n",
       "R.M. Reader (Ensemble) 81.2 87.9 82.3 88.5\n",
       "Ours\n",
       "BERTBASE (Single) 80.8 88.5 - -\n",
       "BERTLARGE (Single) 84.1 90.9 - -\n",
       "BERTLARGE (Ensemble) 85.8 91.8 - -\n",
       "BERTLARGE (Sgl.+TriviaQA) 84.2 91.1 85.1 91.8\n",
       "BERTLARGE (Ens.+TriviaQA) 86.2 92.2 87.4 93.2\n",
       "Table 2: SQuAD 1.1 results. The BERT ensemble\n",
       "is 7x systems which use different pre-training check\u0002points and fine-tuning seeds.\n",
       "System Dev Test\n",
       "EM F1 EM F1\n",
       "Top Leaderboard Systems (Dec 10th, 2018)\n",
       "Human 86.3 89.0 86.9 89.5\n",
       "#1 Single - MIR-MRC (F-Net) - - 74.8 78.0\n",
       "#2 Single - nlnet - - 74.2 77.1\n",
       "Published\n",
       "unet (Ensemble) - - 71.4 74.9\n",
       "SLQA+ (Single) - 71.4 74.4\n",
       "Ours\n",
       "BERTLARGE (Single) 78.7 81.9 80.0 83.1\n",
       "Table 3: SQuAD 2.0 results. We exclude entries that\n",
       "use BERT as one of their components.\n",
       "tuning data, we only lose 0.1-0.4 F1, still outper\u0002forming all existing systems by a wide margin.12\n",
       "4.3 SQuAD v2.0\n",
       "The SQuAD 2.0 task extends the SQuAD 1.1\n",
       "problem definition by allowing for the possibility\n",
       "that no short answer exists in the provided para\u0002graph, making the problem more realistic.\n",
       "We use a simple approach to extend the SQuAD\n",
       "v1.1 BERT model for this task. We treat ques\u0002tions that do not have an answer as having an an\u0002swer span with start and end at the [CLS] to\u0002ken. The probability space for the start and end\n",
       "answer span positions is extended to include the\n",
       "position of the [CLS] token. For prediction, we\n",
       "compare the score of the no-answer span: snull =\n",
       "S·C + E·C to the score of the best non-null span\n",
       "12The TriviaQA data we used consists of paragraphs from\n",
       "TriviaQA-Wiki formed of the first 400 tokens in documents,\n",
       "that contain at least one of the provided possible answers.\n",
       "System Dev Test\n",
       "ESIM+GloVe 51.9 52.7\n",
       "ESIM+ELMo 59.1 59.2\n",
       "OpenAI GPT - 78.0\n",
       "BERTBASE 81.6 -\n",
       "BERTLARGE 86.6 86.3\n",
       "Human (expert)†- 85.0\n",
       "Human (5 annotations)†- 88.0\n",
       "Table 4: SWAG Dev and Test accuracies. †Human per\u0002formance is measured with 100 samples, as reported in\n",
       "the SWAG paper.\n",
       "sˆi,j = maxj≥iS·Ti + E·Tj . We predict a non-null\n",
       "answer when sˆi,j > snull + τ , where the thresh\u0002old τ is selected on the dev set to maximize F1.\n",
       "We did not use TriviaQA data for this model. We\n",
       "fine-tuned for 2 epochs with a learning rate of 5e-5\n",
       "and a batch size of 48.\n",
       "The results compared to prior leaderboard en\u0002tries and top published work (Sun et al., 2018;\n",
       "Wang et al., 2018b) are shown in Table 3, exclud\u0002ing systems that use BERT as one of their com\u0002ponents. We observe a +5.1 F1 improvement over\n",
       "the previous best system.\n",
       "4.4 SWAG\n",
       "The Situations With Adversarial Generations\n",
       "(SWAG) dataset contains 113k sentence-pair com\u0002pletion examples that evaluate grounded common\u0002sense inference (Zellers et al., 2018). Given a sen\u0002tence, the task is to choose the most plausible con\u0002tinuation among four choices.\n",
       "When fine-tuning on the SWAG dataset, we\n",
       "construct four input sequences, each containing\n",
       "the concatenation of the given sentence (sentence\n",
       "A) and a possible continuation (sentence B). The\n",
       "only task-specific parameters introduced is a vec\u0002tor whose dot product with the [CLS] token rep\u0002resentation C denotes a score for each choice\n",
       "which is normalized with a softmax layer.\n",
       "We fine-tune the model for 3 epochs with a\n",
       "learning rate of 2e-5 and a batch size of 16. Re\u0002sults are presented in Table 4. BERTLARGE out\u0002performs the authors’ baseline ESIM+ELMo sys\u0002tem by +27.1% and OpenAI GPT by 8.3%.\n",
       "5 Ablation Studies\n",
       "In this section, we perform ablation experiments\n",
       "over a number of facets of BERT in order to better\n",
       "understand their relative importance. Additional\n"
      ],
      "text/plain": [
       "<IPython.core.display.Markdown object>"
      ]
     },
     "metadata": {},
     "output_type": "display_data"
    },
    {
     "data": {
      "text/markdown": [
       "### Page 8\n",
       "\n",
       "4178\n",
       "Dev Set\n",
       "Tasks MNLI-m QNLI MRPC SST-2 SQuAD\n",
       "(Acc) (Acc) (Acc) (Acc) (F1)\n",
       "BERTBASE 84.4 88.4 86.7 92.7 88.5\n",
       "No NSP 83.9 84.9 86.5 92.6 87.9\n",
       "LTR & No NSP 82.1 84.3 77.5 92.1 77.8\n",
       "+ BiLSTM 82.1 84.1 75.7 91.6 84.9\n",
       "Table 5: Ablation over the pre-training tasks using the\n",
       "BERTBASE architecture. “No NSP” is trained without\n",
       "the next sentence prediction task. “LTR & No NSP” is\n",
       "trained as a left-to-right LM without the next sentence\n",
       "prediction, like OpenAI GPT. “+ BiLSTM” adds a ran\u0002domly initialized BiLSTM on top of the “LTR + No\n",
       "NSP” model during fine-tuning.\n",
       "ablation studies can be found in Appendix C.\n",
       "5.1 Effect of Pre-training Tasks\n",
       "We demonstrate the importance of the deep bidi\u0002rectionality of BERT by evaluating two pre\u0002training objectives using exactly the same pre\u0002training data, fine-tuning scheme, and hyperpa\u0002rameters as BERTBASE:\n",
       "No NSP: A bidirectional model which is trained\n",
       "using the “masked LM” (MLM) but without the\n",
       "“next sentence prediction” (NSP) task.\n",
       "LTR & No NSP: A left-context-only model which\n",
       "is trained using a standard Left-to-Right (LTR)\n",
       "LM, rather than an MLM. The left-only constraint\n",
       "was also applied at fine-tuning, because removing\n",
       "it introduced a pre-train/fine-tune mismatch that\n",
       "degraded downstream performance. Additionally,\n",
       "this model was pre-trained without the NSP task.\n",
       "This is directly comparable to OpenAI GPT, but\n",
       "using our larger training dataset, our input repre\u0002sentation, and our fine-tuning scheme.\n",
       "We first examine the impact brought by the NSP\n",
       "task. In Table 5, we show that removing NSP\n",
       "hurts performance significantly on QNLI, MNLI,\n",
       "and SQuAD 1.1. Next, we evaluate the impact\n",
       "of training bidirectional representations by com\u0002paring “No NSP” to “LTR & No NSP”. The LTR\n",
       "model performs worse than the MLM model on all\n",
       "tasks, with large drops on MRPC and SQuAD.\n",
       "For SQuAD it is intuitively clear that a LTR\n",
       "model will perform poorly at token predictions,\n",
       "since the token-level hidden states have no right\u0002side context. In order to make a good faith at\u0002tempt at strengthening the LTR system, we added\n",
       "a randomly initialized BiLSTM on top. This does\n",
       "significantly improve results on SQuAD, but the\n",
       "results are still far worse than those of the pre\u0002trained bidirectional models. The BiLSTM hurts\n",
       "performance on the GLUE tasks.\n",
       "We recognize that it would also be possible to\n",
       "train separate LTR and RTL models and represent\n",
       "each token as the concatenation of the two mod\u0002els, as ELMo does. However: (a) this is twice as\n",
       "expensive as a single bidirectional model; (b) this\n",
       "is non-intuitive for tasks like QA, since the RTL\n",
       "model would not be able to condition the answer\n",
       "on the question; (c) this it is strictly less powerful\n",
       "than a deep bidirectional model, since it can use\n",
       "both left and right context at every layer.\n",
       "5.2 Effect of Model Size\n",
       "In this section, we explore the effect of model size\n",
       "on fine-tuning task accuracy. We trained a number\n",
       "of BERT models with a differing number of layers,\n",
       "hidden units, and attention heads, while otherwise\n",
       "using the same hyperparameters and training pro\u0002cedure as described previously.\n",
       "Results on selected GLUE tasks are shown in\n",
       "Table 6. In this table, we report the average Dev\n",
       "Set accuracy from 5 random restarts of fine-tuning.\n",
       "We can see that larger models lead to a strict ac\u0002curacy improvement across all four datasets, even\n",
       "for MRPC which only has 3,600 labeled train\u0002ing examples, and is substantially different from\n",
       "the pre-training tasks. It is also perhaps surpris\u0002ing that we are able to achieve such significant\n",
       "improvements on top of models which are al\u0002ready quite large relative to the existing literature.\n",
       "For example, the largest Transformer explored in\n",
       "Vaswani et al. (2017) is (L=6, H=1024, A=16)\n",
       "with 100M parameters for the encoder, and the\n",
       "largest Transformer we have found in the literature\n",
       "is (L=64, H=512, A=2) with 235M parameters\n",
       "(Al-Rfou et al., 2018). By contrast, BERTBASE\n",
       "contains 110M parameters and BERTLARGE con\u0002tains 340M parameters.\n",
       "It has long been known that increasing the\n",
       "model size will lead to continual improvements\n",
       "on large-scale tasks such as machine translation\n",
       "and language modeling, which is demonstrated\n",
       "by the LM perplexity of held-out training data\n",
       "shown in Table 6. However, we believe that\n",
       "this is the first work to demonstrate convinc\u0002ingly that scaling to extreme model sizes also\n",
       "leads to large improvements on very small scale\n",
       "tasks, provided that the model has been suffi\u0002ciently pre-trained. Peters et al. (2018b) presented\n"
      ],
      "text/plain": [
       "<IPython.core.display.Markdown object>"
      ]
     },
     "metadata": {},
     "output_type": "display_data"
    },
    {
     "data": {
      "text/markdown": [
       "### Page 9\n",
       "\n",
       "4179\n",
       "mixed results on the downstream task impact of\n",
       "increasing the pre-trained bi-LM size from two\n",
       "to four layers and Melamud et al. (2016) men\u0002tioned in passing that increasing hidden dimen\u0002sion size from 200 to 600 helped, but increasing\n",
       "further to 1,000 did not bring further improve\u0002ments. Both of these prior works used a feature\u0002based approach — we hypothesize that when the\n",
       "model is fine-tuned directly on the downstream\n",
       "tasks and uses only a very small number of ran\u0002domly initialized additional parameters, the task\u0002specific models can benefit from the larger, more\n",
       "expressive pre-trained representations even when\n",
       "downstream task data is very small.\n",
       "5.3 Feature-based Approach with BERT\n",
       "All of the BERT results presented so far have used\n",
       "the fine-tuning approach, where a simple classifi\u0002cation layer is added to the pre-trained model, and\n",
       "all parameters are jointly fine-tuned on a down\u0002stream task. However, the feature-based approach,\n",
       "where fixed features are extracted from the pre\u0002trained model, has certain advantages. First, not\n",
       "all tasks can be easily represented by a Trans\u0002former encoder architecture, and therefore require\n",
       "a task-specific model architecture to be added.\n",
       "Second, there are major computational benefits\n",
       "to pre-compute an expensive representation of the\n",
       "training data once and then run many experiments\n",
       "with cheaper models on top of this representation.\n",
       "In this section, we compare the two approaches\n",
       "by applying BERT to the CoNLL-2003 Named\n",
       "Entity Recognition (NER) task (Tjong Kim Sang\n",
       "and De Meulder, 2003). In the input to BERT, we\n",
       "use a case-preserving WordPiece model, and we\n",
       "include the maximal document context provided\n",
       "by the data. Following standard practice, we for\u0002mulate this as a tagging task but do not use a CRF\n",
       "Hyperparams Dev Set Accuracy\n",
       "#L #H #A LM (ppl) MNLI-m MRPC SST-2\n",
       "3 768 12 5.84 77.9 79.8 88.4\n",
       "6 768 3 5.24 80.6 82.2 90.7\n",
       "6 768 12 4.68 81.9 84.8 91.3\n",
       "12 768 12 3.99 84.4 86.7 92.9\n",
       "12 1024 16 3.54 85.7 86.9 93.3\n",
       "24 1024 16 3.23 86.6 87.8 93.7\n",
       "Table 6: Ablation over BERT model size. #L = the\n",
       "number of layers; #H = hidden size; #A = number of at\u0002tention heads. “LM (ppl)” is the masked LM perplexity\n",
       "of held-out training data.\n",
       "System Dev F1 Test F1\n",
       "ELMo (Peters et al., 2018a) 95.7 92.2\n",
       "CVT (Clark et al., 2018) - 92.6\n",
       "CSE (Akbik et al., 2018) - 93.1\n",
       "Fine-tuning approach\n",
       "BERTLARGE 96.6 92.8\n",
       "BERTBASE 96.4 92.4\n",
       "Feature-based approach (BERTBASE)\n",
       "Embeddings 91.0 -\n",
       "Second-to-Last Hidden 95.6 -\n",
       "Last Hidden 94.9 -\n",
       "Weighted Sum Last Four Hidden 95.9 -\n",
       "Concat Last Four Hidden 96.1 -\n",
       "Weighted Sum All 12 Layers 95.5 -\n",
       "Table 7: CoNLL-2003 Named Entity Recognition re\u0002sults. Hyperparameters were selected using the Dev\n",
       "set. The reported Dev and Test scores are averaged over\n",
       "5 random restarts using those hyperparameters.\n",
       "layer in the output. We use the representation of\n",
       "the first sub-token as the input to the token-level\n",
       "classifier over the NER label set.\n",
       "To ablate the fine-tuning approach, we apply the\n",
       "feature-based approach by extracting the activa\u0002tions from one or more layers without fine-tuning\n",
       "any parameters of BERT. These contextual em\u0002beddings are used as input to a randomly initial\u0002ized two-layer 768-dimensional BiLSTM before\n",
       "the classification layer.\n",
       "Results are presented in Table 7. BERTLARGE\n",
       "performs competitively with state-of-the-art meth\u0002ods. The best performing method concatenates the\n",
       "token representations from the top four hidden lay\u0002ers of the pre-trained Transformer, which is only\n",
       "0.3 F1 behind fine-tuning the entire model. This\n",
       "demonstrates that BERT is effective for both fine\u0002tuning and feature-based approaches.\n",
       "6 Conclusion\n",
       "Recent empirical improvements due to transfer\n",
       "learning with language models have demonstrated\n",
       "that rich, unsupervised pre-training is an integral\n",
       "part of many language understanding systems. In\n",
       "particular, these results enable even low-resource\n",
       "tasks to benefit from deep unidirectional architec\u0002tures. Our major contribution is further general\u0002izing these findings to deep bidirectional architec\u0002tures, allowing the same pre-trained model to suc\u0002cessfully tackle a broad set of NLP tasks.\n"
      ],
      "text/plain": [
       "<IPython.core.display.Markdown object>"
      ]
     },
     "metadata": {},
     "output_type": "display_data"
    },
    {
     "data": {
      "text/markdown": [
       "### Page 10\n",
       "\n",
       "4180\n",
       "References\n",
       "Alan Akbik, Duncan Blythe, and Roland Vollgraf.\n",
       "2018. Contextual string embeddings for sequence\n",
       "labeling. In Proceedings of the 27th International\n",
       "Conference on Computational Linguistics, pages\n",
       "1638–1649.\n",
       "Rami Al-Rfou, Dokook Choe, Noah Constant, Mandy\n",
       "Guo, and Llion Jones. 2018. Character-level lan\u0002guage modeling with deeper self-attention. arXiv\n",
       "preprint arXiv:1808.04444.\n",
       "Rie Kubota Ando and Tong Zhang. 2005. A framework\n",
       "for learning predictive structures from multiple tasks\n",
       "and unlabeled data. Journal of Machine Learning\n",
       "Research, 6(Nov):1817–1853.\n",
       "Luisa Bentivogli, Bernardo Magnini, Ido Dagan,\n",
       "Hoa Trang Dang, and Danilo Giampiccolo. 2009.\n",
       "The fifth PASCAL recognizing textual entailment\n",
       "challenge. In TAC. NIST.\n",
       "John Blitzer, Ryan McDonald, and Fernando Pereira.\n",
       "2006. Domain adaptation with structural correspon\u0002dence learning. In Proceedings of the 2006 confer\u0002ence on empirical methods in natural language pro\u0002cessing, pages 120–128. Association for Computa\u0002tional Linguistics.\n",
       "Samuel R. Bowman, Gabor Angeli, Christopher Potts,\n",
       "and Christopher D. Manning. 2015. A large anno\u0002tated corpus for learning natural language inference.\n",
       "In EMNLP. Association for Computational Linguis\u0002tics.\n",
       "Peter F Brown, Peter V Desouza, Robert L Mercer,\n",
       "Vincent J Della Pietra, and Jenifer C Lai. 1992.\n",
       "Class-based n-gram models of natural language.\n",
       "Computational linguistics, 18(4):467–479.\n",
       "Daniel Cer, Mona Diab, Eneko Agirre, Inigo Lopez\u0002Gazpio, and Lucia Specia. 2017. Semeval-2017\n",
       "task 1: Semantic textual similarity multilingual and\n",
       "crosslingual focused evaluation. In Proceedings\n",
       "of the 11th International Workshop on Semantic\n",
       "Evaluation (SemEval-2017), pages 1–14, Vancou\u0002ver, Canada. Association for Computational Lin\u0002guistics.\n",
       "Ciprian Chelba, Tomas Mikolov, Mike Schuster, Qi Ge,\n",
       "Thorsten Brants, Phillipp Koehn, and Tony Robin\u0002son. 2013. One billion word benchmark for measur\u0002ing progress in statistical language modeling. arXiv\n",
       "preprint arXiv:1312.3005.\n",
       "Z. Chen, H. Zhang, X. Zhang, and L. Zhao. 2018.\n",
       "Quora question pairs.\n",
       "Christopher Clark and Matt Gardner. 2018. Simple\n",
       "and effective multi-paragraph reading comprehen\u0002sion. In ACL.\n",
       "Kevin Clark, Minh-Thang Luong, Christopher D Man\u0002ning, and Quoc Le. 2018. Semi-supervised se\u0002quence modeling with cross-view training. In Pro\u0002ceedings of the 2018 Conference on Empirical Meth\u0002ods in Natural Language Processing, pages 1914–\n",
       "1925.\n",
       "Ronan Collobert and Jason Weston. 2008. A unified\n",
       "architecture for natural language processing: Deep\n",
       "neural networks with multitask learning. In Pro\u0002ceedings of the 25th international conference on\n",
       "Machine learning, pages 160–167. ACM.\n",
       "Alexis Conneau, Douwe Kiela, Holger Schwenk, Lo¨ıc\n",
       "Barrault, and Antoine Bordes. 2017. Supervised\n",
       "learning of universal sentence representations from\n",
       "natural language inference data. In Proceedings of\n",
       "the 2017 Conference on Empirical Methods in Nat\u0002ural Language Processing, pages 670–680, Copen\u0002hagen, Denmark. Association for Computational\n",
       "Linguistics.\n",
       "Andrew M Dai and Quoc V Le. 2015. Semi-supervised\n",
       "sequence learning. In Advances in neural informa\u0002tion processing systems, pages 3079–3087.\n",
       "J. Deng, W. Dong, R. Socher, L.-J. Li, K. Li, and L. Fei\u0002Fei. 2009. ImageNet: A Large-Scale Hierarchical\n",
       "Image Database. In CVPR09.\n",
       "William B Dolan and Chris Brockett. 2005. Automati\u0002cally constructing a corpus of sentential paraphrases.\n",
       "In Proceedings of the Third International Workshop\n",
       "on Paraphrasing (IWP2005).\n",
       "William Fedus, Ian Goodfellow, and Andrew M Dai.\n",
       "2018. Maskgan: Better text generation via filling in\n",
       "the . arXiv preprint arXiv:1801.07736.\n",
       "Dan Hendrycks and Kevin Gimpel. 2016. Bridging\n",
       "nonlinearities and stochastic regularizers with gaus\u0002sian error linear units. CoRR, abs/1606.08415.\n",
       "Felix Hill, Kyunghyun Cho, and Anna Korhonen. 2016.\n",
       "Learning distributed representations of sentences\n",
       "from unlabelled data. In Proceedings of the 2016\n",
       "Conference of the North American Chapter of the\n",
       "Association for Computational Linguistics: Human\n",
       "Language Technologies. Association for Computa\u0002tional Linguistics.\n",
       "Jeremy Howard and Sebastian Ruder. 2018. Universal\n",
       "language model fine-tuning for text classification. In\n",
       "ACL. Association for Computational Linguistics.\n",
       "Minghao Hu, Yuxing Peng, Zhen Huang, Xipeng Qiu,\n",
       "Furu Wei, and Ming Zhou. 2018. Reinforced\n",
       "mnemonic reader for machine reading comprehen\u0002sion. In IJCAI.\n",
       "Yacine Jernite, Samuel R. Bowman, and David Son\u0002tag. 2017. Discourse-based objectives for fast un\u0002supervised sentence representation learning. CoRR,\n",
       "abs/1705.00557.\n"
      ],
      "text/plain": [
       "<IPython.core.display.Markdown object>"
      ]
     },
     "metadata": {},
     "output_type": "display_data"
    },
    {
     "data": {
      "text/markdown": [
       "### Page 11\n",
       "\n",
       "4181\n",
       "Mandar Joshi, Eunsol Choi, Daniel S Weld, and Luke\n",
       "Zettlemoyer. 2017. Triviaqa: A large scale distantly\n",
       "supervised challenge dataset for reading comprehen\u0002sion. In ACL.\n",
       "Ryan Kiros, Yukun Zhu, Ruslan R Salakhutdinov,\n",
       "Richard Zemel, Raquel Urtasun, Antonio Torralba,\n",
       "and Sanja Fidler. 2015. Skip-thought vectors. In\n",
       "Advances in neural information processing systems,\n",
       "pages 3294–3302.\n",
       "Quoc Le and Tomas Mikolov. 2014. Distributed rep\u0002resentations of sentences and documents. In Inter\u0002national Conference on Machine Learning, pages\n",
       "1188–1196.\n",
       "Hector J Levesque, Ernest Davis, and Leora Morgen\u0002stern. 2011. The winograd schema challenge. In\n",
       "Aaai spring symposium: Logical formalizations of\n",
       "commonsense reasoning, volume 46, page 47.\n",
       "Lajanugen Logeswaran and Honglak Lee. 2018. An\n",
       "efficient framework for learning sentence represen\u0002tations. In International Conference on Learning\n",
       "Representations.\n",
       "Bryan McCann, James Bradbury, Caiming Xiong, and\n",
       "Richard Socher. 2017. Learned in translation: Con\u0002textualized word vectors. In NIPS.\n",
       "Oren Melamud, Jacob Goldberger, and Ido Dagan.\n",
       "2016. context2vec: Learning generic context em\u0002bedding with bidirectional LSTM. In CoNLL.\n",
       "Tomas Mikolov, Ilya Sutskever, Kai Chen, Greg S Cor\u0002rado, and Jeff Dean. 2013. Distributed representa\u0002tions of words and phrases and their compositional\u0002ity. In Advances in Neural Information Processing\n",
       "Systems 26, pages 3111–3119. Curran Associates,\n",
       "Inc.\n",
       "Andriy Mnih and Geoffrey E Hinton. 2009. A scal\u0002able hierarchical distributed language model. In\n",
       "D. Koller, D. Schuurmans, Y. Bengio, and L. Bot\u0002tou, editors, Advances in Neural Information Pro\u0002cessing Systems 21, pages 1081–1088. Curran As\u0002sociates, Inc.\n",
       "Ankur P Parikh, Oscar Tackstr ¨ om, Dipanjan Das, and ¨\n",
       "Jakob Uszkoreit. 2016. A decomposable attention\n",
       "model for natural language inference. In EMNLP.\n",
       "Jeffrey Pennington, Richard Socher, and Christo\u0002pher D. Manning. 2014. Glove: Global vectors for\n",
       "word representation. In Empirical Methods in Nat\u0002ural Language Processing (EMNLP), pages 1532–\n",
       "1543.\n",
       "Matthew Peters, Waleed Ammar, Chandra Bhagavat\u0002ula, and Russell Power. 2017. Semi-supervised se\u0002quence tagging with bidirectional language models.\n",
       "In ACL.\n",
       "Matthew Peters, Mark Neumann, Mohit Iyyer, Matt\n",
       "Gardner, Christopher Clark, Kenton Lee, and Luke\n",
       "Zettlemoyer. 2018a. Deep contextualized word rep\u0002resentations. In NAACL.\n",
       "Matthew Peters, Mark Neumann, Luke Zettlemoyer,\n",
       "and Wen-tau Yih. 2018b. Dissecting contextual\n",
       "word embeddings: Architecture and representation.\n",
       "In Proceedings of the 2018 Conference on Empiri\u0002cal Methods in Natural Language Processing, pages\n",
       "1499–1509.\n",
       "Alec Radford, Karthik Narasimhan, Tim Salimans, and\n",
       "Ilya Sutskever. 2018. Improving language under\u0002standing with unsupervised learning. Technical re\u0002port, OpenAI.\n",
       "Pranav Rajpurkar, Jian Zhang, Konstantin Lopyrev, and\n",
       "Percy Liang. 2016. Squad: 100,000+ questions for\n",
       "machine comprehension of text. In Proceedings of\n",
       "the 2016 Conference on Empirical Methods in Nat\u0002ural Language Processing, pages 2383–2392.\n",
       "Minjoon Seo, Aniruddha Kembhavi, Ali Farhadi, and\n",
       "Hannaneh Hajishirzi. 2017. Bidirectional attention\n",
       "flow for machine comprehension. In ICLR.\n",
       "Richard Socher, Alex Perelygin, Jean Wu, Jason\n",
       "Chuang, Christopher D Manning, Andrew Ng, and\n",
       "Christopher Potts. 2013. Recursive deep models\n",
       "for semantic compositionality over a sentiment tree\u0002bank. In Proceedings of the 2013 conference on\n",
       "empirical methods in natural language processing,\n",
       "pages 1631–1642.\n",
       "Fu Sun, Linyang Li, Xipeng Qiu, and Yang Liu.\n",
       "2018. U-net: Machine reading comprehension\n",
       "with unanswerable questions. arXiv preprint\n",
       "arXiv:1810.06638.\n",
       "Wilson L Taylor. 1953. Cloze procedure: A new\n",
       "tool for measuring readability. Journalism Bulletin,\n",
       "30(4):415–433.\n",
       "Erik F Tjong Kim Sang and Fien De Meulder.\n",
       "2003. Introduction to the conll-2003 shared task:\n",
       "Language-independent named entity recognition. In\n",
       "CoNLL.\n",
       "Joseph Turian, Lev Ratinov, and Yoshua Bengio. 2010.\n",
       "Word representations: A simple and general method\n",
       "for semi-supervised learning. In Proceedings of the\n",
       "48th Annual Meeting of the Association for Compu\u0002tational Linguistics, ACL ’10, pages 384–394.\n",
       "Ashish Vaswani, Noam Shazeer, Niki Parmar, Jakob\n",
       "Uszkoreit, Llion Jones, Aidan N Gomez, Lukasz\n",
       "Kaiser, and Illia Polosukhin. 2017. Attention is all\n",
       "you need. In Advances in Neural Information Pro\u0002cessing Systems, pages 6000–6010.\n",
       "Pascal Vincent, Hugo Larochelle, Yoshua Bengio, and\n",
       "Pierre-Antoine Manzagol. 2008. Extracting and\n",
       "composing robust features with denoising autoen\u0002coders. In Proceedings of the 25th international\n",
       "conference on Machine learning, pages 1096–1103.\n",
       "ACM.\n",
       "Alex Wang, Amanpreet Singh, Julian Michael, Fe\u0002lix Hill, Omer Levy, and Samuel Bowman. 2018a.\n",
       "Glue: A multi-task benchmark and analysis platform\n"
      ],
      "text/plain": [
       "<IPython.core.display.Markdown object>"
      ]
     },
     "metadata": {},
     "output_type": "display_data"
    },
    {
     "data": {
      "text/markdown": [
       "### Page 12\n",
       "\n",
       "4182\n",
       "for natural language understanding. In Proceedings\n",
       "of the 2018 EMNLP Workshop BlackboxNLP: An\u0002alyzing and Interpreting Neural Networks for NLP,\n",
       "pages 353–355.\n",
       "Wei Wang, Ming Yan, and Chen Wu. 2018b. Multi\u0002granularity hierarchical attention fusion networks\n",
       "for reading comprehension and question answering.\n",
       "In Proceedings of the 56th Annual Meeting of the As\u0002sociation for Computational Linguistics (Volume 1:\n",
       "Long Papers). Association for Computational Lin\u0002guistics.\n",
       "Alex Warstadt, Amanpreet Singh, and Samuel R Bow\u0002man. 2018. Neural network acceptability judg\u0002ments. arXiv preprint arXiv:1805.12471.\n",
       "Adina Williams, Nikita Nangia, and Samuel R Bow\u0002man. 2018. A broad-coverage challenge corpus\n",
       "for sentence understanding through inference. In\n",
       "NAACL.\n",
       "Yonghui Wu, Mike Schuster, Zhifeng Chen, Quoc V\n",
       "Le, Mohammad Norouzi, Wolfgang Macherey,\n",
       "Maxim Krikun, Yuan Cao, Qin Gao, Klaus\n",
       "Macherey, et al. 2016. Google’s neural ma\u0002chine translation system: Bridging the gap between\n",
       "human and machine translation. arXiv preprint\n",
       "arXiv:1609.08144.\n",
       "Jason Yosinski, Jeff Clune, Yoshua Bengio, and Hod\n",
       "Lipson. 2014. How transferable are features in deep\n",
       "neural networks? In Advances in neural information\n",
       "processing systems, pages 3320–3328.\n",
       "Adams Wei Yu, David Dohan, Minh-Thang Luong, Rui\n",
       "Zhao, Kai Chen, Mohammad Norouzi, and Quoc V\n",
       "Le. 2018. QANet: Combining local convolution\n",
       "with global self-attention for reading comprehen\u0002sion. In ICLR.\n",
       "Rowan Zellers, Yonatan Bisk, Roy Schwartz, and Yejin\n",
       "Choi. 2018. Swag: A large-scale adversarial dataset\n",
       "for grounded commonsense inference. In Proceed\u0002ings of the 2018 Conference on Empirical Methods\n",
       "in Natural Language Processing (EMNLP).\n",
       "Yukun Zhu, Ryan Kiros, Rich Zemel, Ruslan Salakhut\u0002dinov, Raquel Urtasun, Antonio Torralba, and Sanja\n",
       "Fidler. 2015. Aligning books and movies: Towards\n",
       "story-like visual explanations by watching movies\n",
       "and reading books. In Proceedings of the IEEE\n",
       "international conference on computer vision, pages\n",
       "19–27.\n",
       "Appendix for “BERT: Pre-training of\n",
       "Deep Bidirectional Transformers for\n",
       "Language Understanding”\n",
       "We organize the appendix into three sections:\n",
       "• Additional implementation details for BERT\n",
       "are presented in Appendix A;\n",
       "• Additional details for our experiments are\n",
       "presented in Appendix B; and\n",
       "• Additional ablation studies are presented in\n",
       "Appendix C.\n",
       "We present additional ablation studies for\n",
       "BERT including:\n",
       "– Effect of Number of Training Steps; and\n",
       "– Ablation for Different Masking Proce\u0002dures.\n",
       "A Additional Details for BERT\n",
       "A.1 Illustration of the Pre-training Tasks\n",
       "We provide examples of the pre-training tasks in\n",
       "the following.\n",
       "Masked LM and the Masking Procedure As\u0002suming the unlabeled sentence is my dog is\n",
       "hairy, and during the random masking procedure\n",
       "we chose the 4-th token (which corresponding to\n",
       "hairy), our masking procedure can be further il\u0002lustrated by\n",
       "• 80% of the time: Replace the word with the\n",
       "[MASK] token, e.g., my dog is hairy →\n",
       "my dog is [MASK]\n",
       "• 10% of the time: Replace the word with a\n",
       "random word, e.g., my dog is hairy → my\n",
       "dog is apple\n",
       "• 10% of the time: Keep the word un\u0002changed, e.g., my dog is hairy → my dog\n",
       "is hairy. The purpose of this is to bias the\n",
       "representation towards the actual observed\n",
       "word.\n",
       "The advantage of this procedure is that the\n",
       "Transformer encoder does not know which words\n",
       "it will be asked to predict or which have been re\u0002placed by random words, so it is forced to keep\n",
       "a distributional contextual representation of ev\u0002ery input token. Additionally, because random\n",
       "replacement only occurs for 1.5% of all tokens\n",
       "(i.e., 10% of 15%), this does not seem to harm\n",
       "the model’s language understanding capability. In\n",
       "Section C.2, we evaluate the impact this proce\u0002dure.\n",
       "Compared to standard langauge model training,\n",
       "the masked LM only make predictions on 15% of\n",
       "tokens in each batch, which suggests that more\n",
       "pre-training steps may be required for the model\n"
      ],
      "text/plain": [
       "<IPython.core.display.Markdown object>"
      ]
     },
     "metadata": {},
     "output_type": "display_data"
    },
    {
     "data": {
      "text/markdown": [
       "### Page 13\n",
       "\n",
       "4183\n",
       "BERT (Ours)\n",
       "Trm Trm Trm\n",
       "Trm Trm Trm\n",
       "...\n",
       "...\n",
       "Trm Trm Trm\n",
       "Trm Trm Trm\n",
       "...\n",
       "...\n",
       "OpenAI GPT\n",
       "Lstm\n",
       "ELMo\n",
       "Lstm Lstm\n",
       "Lstm Lstm Lstm\n",
       "Lstm Lstm Lstm\n",
       "Lstm Lstm Lstm\n",
       " T1 T2\n",
       " TN\n",
       "...\n",
       "...\n",
       "...\n",
       "...\n",
       "...\n",
       " E1 E2\n",
       " EN\n",
       "...\n",
       " T1 T2 TN\n",
       "...\n",
       " E1 E2\n",
       " E ... N\n",
       " T1 T2\n",
       " TN\n",
       "...\n",
       " E1 E2\n",
       " EN\n",
       "...\n",
       "Figure 3: Differences in pre-training model architectures. BERT uses a bidirectional Transformer. OpenAI GPT\n",
       "uses a left-to-right Transformer. ELMo uses the concatenation of independently trained left-to-right and right-to\u0002left LSTMs to generate features for downstream tasks. Among the three, only BERT representations are jointly\n",
       "conditioned on both left and right context in all layers. In addition to the architecture differences, BERT and\n",
       "OpenAI GPT are fine-tuning approaches, while ELMo is a feature-based approach.\n",
       "to converge. In Section C.1 we demonstrate that\n",
       "MLM does converge marginally slower than a left\u0002to-right model (which predicts every token), but\n",
       "the empirical improvements of the MLM model\n",
       "far outweigh the increased training cost.\n",
       "Next Sentence Prediction The next sentence\n",
       "prediction task can be illustrated in the following\n",
       "examples.\n",
       "Input = [CLS] the man went to [MASK] store [SEP]\n",
       "he bought a gallon [MASK] milk [SEP]\n",
       "Label = IsNext\n",
       "Input = [CLS] the man [MASK] to the store [SEP]\n",
       "penguin [MASK] are flight ##less birds [SEP]\n",
       "Label = NotNext\n",
       "A.2 Pre-training Procedure\n",
       "To generate each training input sequence, we sam\u0002ple two spans of text from the corpus, which we\n",
       "refer to as “sentences” even though they are typ\u0002ically much longer than single sentences (but can\n",
       "be shorter also). The first sentence receives the A\n",
       "embedding and the second receives the B embed\u0002ding. 50% of the time B is the actual next sentence\n",
       "that follows A and 50% of the time it is a random\n",
       "sentence, which is done for the “next sentence pre\u0002diction” task. They are sampled such that the com\u0002bined length is ≤ 512 tokens. The LM masking is\n",
       "applied after WordPiece tokenization with a uni\u0002form masking rate of 15%, and no special consid\u0002eration given to partial word pieces.\n",
       "We train with batch size of 256 sequences (256\n",
       "sequences * 512 tokens = 128,000 tokens/batch)\n",
       "for 1,000,000 steps, which is approximately 40\n",
       "epochs over the 3.3 billion word corpus. We\n",
       "use Adam with learning rate of 1e-4, β1 = 0.9,\n",
       "β2 = 0.999, L2 weight decay of 0.01, learning\n",
       "rate warmup over the first 10,000 steps, and linear\n",
       "decay of the learning rate. We use a dropout prob\u0002ability of 0.1 on all layers. We use a gelu acti\u0002vation (Hendrycks and Gimpel, 2016) rather than\n",
       "the standard relu, following OpenAI GPT. The\n",
       "training loss is the sum of the mean masked LM\n",
       "likelihood and the mean next sentence prediction\n",
       "likelihood.\n",
       "Training of BERTBASE was performed on 4\n",
       "Cloud TPUs in Pod configuration (16 TPU chips\n",
       "total).13 Training of BERTLARGE was performed\n",
       "on 16 Cloud TPUs (64 TPU chips total). Each pre\u0002training took 4 days to complete.\n",
       "Longer sequences are disproportionately expen\u0002sive because attention is quadratic to the sequence\n",
       "length. To speed up pretraing in our experiments,\n",
       "we pre-train the model with sequence length of\n",
       "128 for 90% of the steps. Then, we train the rest\n",
       "10% of the steps of sequence of 512 to learn the\n",
       "positional embeddings.\n",
       "A.3 Fine-tuning Procedure\n",
       "For fine-tuning, most model hyperparameters are\n",
       "the same as in pre-training, with the exception of\n",
       "the batch size, learning rate, and number of train\u0002ing epochs. The dropout probability was always\n",
       "kept at 0.1. The optimal hyperparameter values\n",
       "are task-specific, but we found the following range\n",
       "of possible values to work well across all tasks:\n",
       "• Batch size: 16, 32\n",
       "13https://cloudplatform.googleblog.com/2018/06/Cloud\u0002TPU-now-offers-preemptible-pricing-and-global\u0002availability.html\n"
      ],
      "text/plain": [
       "<IPython.core.display.Markdown object>"
      ]
     },
     "metadata": {},
     "output_type": "display_data"
    },
    {
     "data": {
      "text/markdown": [
       "### Page 14\n",
       "\n",
       "4184\n",
       "• Learning rate (Adam): 5e-5, 3e-5, 2e-5\n",
       "• Number of epochs: 2, 3, 4\n",
       "We also observed that large data sets (e.g.,\n",
       "100k+ labeled training examples) were far less\n",
       "sensitive to hyperparameter choice than small data\n",
       "sets. Fine-tuning is typically very fast, so it is rea\u0002sonable to simply run an exhaustive search over\n",
       "the above parameters and choose the model that\n",
       "performs best on the development set.\n",
       "A.4 Comparison of BERT, ELMo ,and\n",
       "OpenAI GPT\n",
       "Here we studies the differences in recent popular\n",
       "representation learning models including ELMo,\n",
       "OpenAI GPT and BERT. The comparisons be\u0002tween the model architectures are shown visually\n",
       "in Figure 3. Note that in addition to the architec\u0002ture differences, BERT and OpenAI GPT are fine\u0002tuning approaches, while ELMo is a feature-based\n",
       "approach.\n",
       "The most comparable existing pre-training\n",
       "method to BERT is OpenAI GPT, which trains a\n",
       "left-to-right Transformer LM on a large text cor\u0002pus. In fact, many of the design decisions in BERT\n",
       "were intentionally made to make it as close to\n",
       "GPT as possible so that the two methods could be\n",
       "minimally compared. The core argument of this\n",
       "work is that the bi-directionality and the two pre\u0002training tasks presented in Section 3.1 account for\n",
       "the majority of the empirical improvements, but\n",
       "we do note that there are several other differences\n",
       "between how BERT and GPT were trained:\n",
       "• GPT is trained on the BooksCorpus (800M\n",
       "words); BERT is trained on the BooksCor\u0002pus (800M words) and Wikipedia (2,500M\n",
       "words).\n",
       "• GPT uses a sentence separator ([SEP]) and\n",
       "classifier token ([CLS]) which are only in\u0002troduced at fine-tuning time; BERT learns\n",
       "[SEP], [CLS] and sentence A/B embed\u0002dings during pre-training.\n",
       "• GPT was trained for 1M steps with a batch\n",
       "size of 32,000 words; BERT was trained for\n",
       "1M steps with a batch size of 128,000 words.\n",
       "• GPT used the same learning rate of 5e-5 for\n",
       "all fine-tuning experiments; BERT chooses a\n",
       "task-specific fine-tuning learning rate which\n",
       "performs the best on the development set.\n",
       "To isolate the effect of these differences, we per\u0002form ablation experiments in Section 5.1 which\n",
       "demonstrate that the majority of the improvements\n",
       "are in fact coming from the two pre-training tasks\n",
       "and the bidirectionality they enable.\n",
       "A.5 Illustrations of Fine-tuning on Different\n",
       "Tasks\n",
       "The illustration of fine-tuning BERT on different\n",
       "tasks can be seen in Figure 4. Our task-specific\n",
       "models are formed by incorporating BERT with\n",
       "one additional output layer, so a minimal num\u0002ber of parameters need to be learned from scratch.\n",
       "Among the tasks, (a) and (b) are sequence-level\n",
       "tasks while (c) and (d) are token-level tasks. In\n",
       "the figure, E represents the input embedding, Ti\n",
       "represents the contextual representation of token i,\n",
       "[CLS] is the special symbol for classification out\u0002put, and [SEP] is the special symbol to separate\n",
       "non-consecutive token sequences.\n",
       "B Detailed Experimental Setup\n",
       "B.1 Detailed Descriptions for the GLUE\n",
       "Benchmark Experiments.\n",
       "The GLUE benchmark includes the following\n",
       "datasets, the descriptions of which were originally\n",
       "summarized in Wang et al. (2018a):\n",
       "MNLI Multi-Genre Natural Language Inference\n",
       "is a large-scale, crowdsourced entailment classifi\u0002cation task (Williams et al., 2018). Given a pair of\n",
       "sentences, the goal is to predict whether the sec\u0002ond sentence is an entailment, contradiction, or\n",
       "neutral with respect to the first one.\n",
       "QQP Quora Question Pairs is a binary classifi\u0002cation task where the goal is to determine if two\n",
       "questions asked on Quora are semantically equiv\u0002alent (Chen et al., 2018).\n",
       "QNLI Question Natural Language Inference is\n",
       "a version of the Stanford Question Answering\n",
       "Dataset (Rajpurkar et al., 2016) which has been\n",
       "converted to a binary classification task (Wang\n",
       "et al., 2018a). The positive examples are (ques\u0002tion, sentence) pairs which do contain the correct\n",
       "answer, and the negative examples are (question,\n",
       "sentence) from the same paragraph which do not\n",
       "contain the answer.\n",
       "SST-2 The Stanford Sentiment Treebank is a\n",
       "binary single-sentence classification task consist\u0002ing of sentences extracted from movie reviews\n"
      ],
      "text/plain": [
       "<IPython.core.display.Markdown object>"
      ]
     },
     "metadata": {},
     "output_type": "display_data"
    },
    {
     "data": {
      "text/markdown": [
       "### Page 15\n",
       "\n",
       "4185\n",
       "BERT\n",
       "E[CLS] E1\n",
       " E[SEP] ... EN\n",
       "E1’ ... EM’\n",
       "C T1 T[SEP] ... TN\n",
       "T1’ ... TM’\n",
       "[CLS] Tok \n",
       "1\n",
       "... [SEP] Tok \n",
       "N\n",
       "Tok \n",
       "1\n",
       "... Tok\n",
       "M\n",
       "Question Paragraph\n",
       "BERT\n",
       "E[CLS] E1 E2\n",
       " EN\n",
       "C T1 T2\n",
       " TN\n",
       "Single Sentence \n",
       "...\n",
       "...\n",
       "BERT\n",
       "[CLS] Tok 1 Tok 2 ... Tok N\n",
       "E[CLS] E1 E2\n",
       " EN\n",
       "C T1 T2\n",
       " TN\n",
       "Single Sentence \n",
       "O B-PER O\n",
       "...\n",
       "E ... [CLS] E1\n",
       " E[SEP]\n",
       "Class \n",
       "Label\n",
       "... EN\n",
       "E1’ ... EM’\n",
       "C T1 T[SEP] ... TN\n",
       "T1’ ... TM’\n",
       "Start/End Span\n",
       "Class \n",
       "Label\n",
       "BERT\n",
       "[CLS] Tok [CLS] Tok 1 Tok 2 ... Tok N\n",
       "1\n",
       "... [SEP] Tok \n",
       "N\n",
       "Tok \n",
       "1\n",
       "... Tok\n",
       "M\n",
       "Sentence 1\n",
       "...\n",
       "Sentence 2\n",
       "Figure 4: Illustrations of Fine-tuning BERT on Different Tasks.\n",
       "with human annotations of their sentiment (Socher\n",
       "et al., 2013).\n",
       "CoLA The Corpus of Linguistic Acceptability is\n",
       "a binary single-sentence classification task, where\n",
       "the goal is to predict whether an English sentence\n",
       "is linguistically “acceptable” or not (Warstadt\n",
       "et al., 2018).\n",
       "STS-B The Semantic Textual Similarity Bench\u0002mark is a collection of sentence pairs drawn from\n",
       "news headlines and other sources (Cer et al.,\n",
       "2017). They were annotated with a score from 1\n",
       "to 5 denoting how similar the two sentences are in\n",
       "terms of semantic meaning.\n",
       "MRPC Microsoft Research Paraphrase Corpus\n",
       "consists of sentence pairs automatically extracted\n",
       "from online news sources, with human annotations\n",
       "for whether the sentences in the pair are semanti\u0002cally equivalent (Dolan and Brockett, 2005).\n",
       "RTE Recognizing Textual Entailment is a bi\u0002nary entailment task similar to MNLI, but with\n",
       "much less training data (Bentivogli et al., 2009).14\n",
       "WNLI Winograd NLI is a small natural lan\u0002guage inference dataset (Levesque et al., 2011).\n",
       "The GLUE webpage notes that there are issues\n",
       "with the construction of this dataset, 15 and every\n",
       "trained system that’s been submitted to GLUE has\n",
       "performed worse than the 65.1 baseline accuracy\n",
       "of predicting the majority class. We therefore ex\u0002clude this set to be fair to OpenAI GPT. For our\n",
       "GLUE submission, we always predicted the ma\u0002jority class.\n",
       "14Note that we only report single-task fine-tuning results\n",
       "in this paper. A multitask fine-tuning approach could poten\u0002tially push the performance even further. For example, we\n",
       "did observe substantial improvements on RTE from multi\u0002task training with MNLI.\n",
       "15https://gluebenchmark.com/faq\n"
      ],
      "text/plain": [
       "<IPython.core.display.Markdown object>"
      ]
     },
     "metadata": {},
     "output_type": "display_data"
    },
    {
     "data": {
      "text/markdown": [
       "### Page 16\n",
       "\n",
       "4186\n",
       "C Additional Ablation Studies\n",
       "C.1 Effect of Number of Training Steps\n",
       "Figure 5 presents MNLI Dev accuracy after fine\u0002tuning from a checkpoint that has been pre-trained\n",
       "for k steps. This allows us to answer the following\n",
       "questions:\n",
       "1. Question: Does BERT really need such\n",
       "a large amount of pre-training (128,000\n",
       "words/batch * 1,000,000 steps) to achieve\n",
       "high fine-tuning accuracy?\n",
       "Answer: Yes, BERTBASE achieves almost\n",
       "1.0% additional accuracy on MNLI when\n",
       "trained on 1M steps compared to 500k steps.\n",
       "2. Question: Does MLM pre-training converge\n",
       "slower than LTR pre-training, since only 15%\n",
       "of words are predicted in each batch rather\n",
       "than every word?\n",
       "Answer: The MLM model does converge\n",
       "slightly slower than the LTR model. How\u0002ever, in terms of absolute accuracy the MLM\n",
       "model begins to outperform the LTR model\n",
       "almost immediately.\n",
       "C.2 Ablation for Different Masking\n",
       "Procedures\n",
       "In Section 3.1, we mention that BERT uses a\n",
       "mixed strategy for masking the target tokens when\n",
       "pre-training with the masked language model\n",
       "(MLM) objective. The following is an ablation\n",
       "study to evaluate the effect of different masking\n",
       "strategies.\n",
       "Note that the purpose of the masking strategies\n",
       "is to reduce the mismatch between pre-training\n",
       "200 400 600 800 1,000\n",
       "76\n",
       "78\n",
       "80\n",
       "82\n",
       "84\n",
       "Pre-training Steps (Thousands)\n",
       "MNLI Dev Accuracy\n",
       "BERTBASE (Masked LM)\n",
       "BERTBASE (Left-to-Right)\n",
       "Figure 5: Ablation over number of training steps. This\n",
       "shows the MNLI accuracy after fine-tuning, starting\n",
       "from model parameters that have been pre-trained for\n",
       "k steps. The x-axis is the value of k.\n",
       "and fine-tuning, as the [MASK] symbol never ap\u0002pears during the fine-tuning stage. We report the\n",
       "Dev results for both MNLI and NER. For NER,\n",
       "we report both fine-tuning and feature-based ap\u0002proaches, as we expect the mismatch will be am\u0002plified for the feature-based approach as the model\n",
       "will not have the chance to adjust the representa\u0002tions.\n",
       "Masking Rates Dev Set Results\n",
       "MASK SAME RND MNLI NER\n",
       "Fine-tune Fine-tune Feature-based\n",
       "80% 10% 10% 84.2 95.4 94.9\n",
       "100% 0% 0% 84.3 94.9 94.0\n",
       "80% 0% 20% 84.1 95.2 94.6\n",
       "80% 20% 0% 84.4 95.2 94.7\n",
       "0% 20% 80% 83.7 94.8 94.6\n",
       "0% 0% 100% 83.6 94.9 94.6\n",
       "Table 8: Ablation over different masking strategies.\n",
       "The results are presented in Table 8. In the table,\n",
       "MASK means that we replace the target token with\n",
       "the [MASK] symbol for MLM; SAME means that\n",
       "we keep the target token as is; RND means that\n",
       "we replace the target token with another random\n",
       "token.\n",
       "The numbers in the left part of the table repre\u0002sent the probabilities of the specific strategies used\n",
       "during MLM pre-training (BERT uses 80%, 10%,\n",
       "10%). The right part of the paper represents the\n",
       "Dev set results. For the feature-based approach,\n",
       "we concatenate the last 4 layers of BERT as the\n",
       "features, which was shown to be the best approach\n",
       "in Section 5.3.\n",
       "From the table it can be seen that fine-tuning is\n",
       "surprisingly robust to different masking strategies.\n",
       "However, as expected, using only the MASK strat\u0002egy was problematic when applying the feature\u0002based approach to NER. Interestingly, using only\n",
       "the RND strategy performs much worse than our\n",
       "strategy as well.\n"
      ],
      "text/plain": [
       "<IPython.core.display.Markdown object>"
      ]
     },
     "metadata": {},
     "output_type": "display_data"
    }
   ],
   "source": [
    "\n",
    "# all pages\n",
    "\n",
    "\n",
    "\n",
    "\n",
    "\n",
    "\n",
    "\n",
    "from IPython.display import Markdown, display\n",
    "\n",
    "for i, d in enumerate(pdf, start=1):\n",
    "    display(Markdown(f\"### Page {i}\\n\\n{d.page_content}\"))\n",
    "\n",
    "\n"
   ]
  },
  {
   "cell_type": "markdown",
   "metadata": {
    "id": "WLQ1j_JrOF57"
   },
   "source": [
    "### Document Splitter"
   ]
  },
  {
   "cell_type": "code",
   "execution_count": 30,
   "metadata": {
    "id": "nnQvcywhfUuY"
   },
   "outputs": [],
   "source": [
    "from langchain.text_splitter import RecursiveCharacterTextSplitter #CharacterTextSplitter\n",
    "\n",
    "\n",
    "def chunk_data(docs, chunk_size=1000, chunk_overlap=200):\n",
    "    text_splitter = RecursiveCharacterTextSplitter(chunk_size=chunk_size,\n",
    "                                                   chunk_overlap=chunk_overlap)\n",
    "    # each chunk will be a maximum of 1000 characters long# each chunk will share a 200-character overlap with the previous chunk to maintain context\n",
    "    pdf = text_splitter.split_documents(docs)\n",
    "    return pdf\n",
    "\n",
    "\n",
    "\n",
    "# This code splits documents into chunks using the RecursiveCharacterTextSplitter class from the langchain library.\n",
    "\n",
    "# A function named chunk_data is defined, which takes a document or a collection of documents (docs) as input. It also takes two parameters:\n",
    "# chunk_size and chunk_overlap. chunk_size specifies the maximum number of characters in each chunk, while chunk_overlap determines the amount of\n",
    "# overlap between consecutive chunks.\n",
    "\n",
    "# The function divides the documents into chunks based on these parameters using the RecursiveCharacterTextSplitter class. Consequently, each chunk contains chunk_size characters, with an overlap of chunk_overlap characters between consecutive chunks.\n",
    "\n",
    "# As a result, the documents are segmented into chunks of specified sizes, and these chunks are returned.\n",
    "\n",
    "# The chunk_overlap parameter is used to specify the sharing of characters between consecutive chunks. In other words, it ensures that the characters at\n",
    "# the end of one chunk reappear at the beginning of the next chunk. This prevents the loss of information when the text is segmented or divided and\n",
    "# helps preserve a certain context. Especially, overlap can be used to maintain important contextual relationships within a specific text and sustain meaning across chunks."
   ]
  },
  {
   "cell_type": "code",
   "execution_count": 31,
   "metadata": {
    "colab": {
     "base_uri": "https://localhost:8080/"
    },
    "id": "jMcIghO6zw7z",
    "outputId": "039342fd-4a8f-4ea8-fe31-19091dd76ac8"
   },
   "outputs": [
    {
     "data": {
      "text/plain": [
       "83"
      ]
     },
     "execution_count": 31,
     "metadata": {},
     "output_type": "execute_result"
    }
   ],
   "source": [
    "pdf_doc = chunk_data(docs=pdf)\n",
    "\n",
    "len(pdf_doc)"
   ]
  },
  {
   "cell_type": "code",
   "execution_count": 32,
   "metadata": {
    "colab": {
     "base_uri": "https://localhost:8080/"
    },
    "id": "u2xxgQHgzw4z",
    "outputId": "3ed7f1ca-9e05-4c93-f35c-8e9ec0822a14"
   },
   "outputs": [
    {
     "data": {
      "text/plain": [
       "[Document(metadata={'producer': 'pdfTeX-1.40.18', 'creator': 'LaTeX with hyperref package', 'creationdate': '2019-04-29T17:36:03+00:00', 'title': 'BERT: Pre-training of Deep Bidirectional Transformers for Language Understanding', 'author': 'Jacob Devlin ; Ming-Wei Chang ; Kenton Lee ; Kristina Toutanova', 'subject': 'N19-1 2019', 'keywords': '', 'moddate': '2019-04-29T17:36:03+00:00', 'source': '/content/drive/MyDrive/nlp/bert_article.pdf', 'total_pages': 16, 'page': 0}, page_content='Proceedings of NAACL-HLT 2019, pages 4171–4186\\nMinneapolis, Minnesota, June 2 - June 7, 2019. \\nc 2019 Association for Computational Linguistics\\n4171\\nBERT: Pre-training of Deep Bidirectional Transformers for\\nLanguage Understanding\\nJacob Devlin Ming-Wei Chang Kenton Lee Kristina Toutanova\\nGoogle AI Language\\n{jacobdevlin,mingweichang,kentonl,kristout}@google.com\\nAbstract\\nWe introduce a new language representa\\x02tion model called BERT, which stands for\\nBidirectional Encoder Representations from\\nTransformers. Unlike recent language repre\\x02sentation models (Peters et al., 2018a; Rad\\x02ford et al., 2018), BERT is designed to pre\\x02train deep bidirectional representations from\\nunlabeled text by jointly conditioning on both\\nleft and right context in all layers. As a re\\x02sult, the pre-trained BERT model can be fine\\x02tuned with just one additional output layer\\nto create state-of-the-art models for a wide\\nrange of tasks, such as question answering and'),\n",
       " Document(metadata={'producer': 'pdfTeX-1.40.18', 'creator': 'LaTeX with hyperref package', 'creationdate': '2019-04-29T17:36:03+00:00', 'title': 'BERT: Pre-training of Deep Bidirectional Transformers for Language Understanding', 'author': 'Jacob Devlin ; Ming-Wei Chang ; Kenton Lee ; Kristina Toutanova', 'subject': 'N19-1 2019', 'keywords': '', 'moddate': '2019-04-29T17:36:03+00:00', 'source': '/content/drive/MyDrive/nlp/bert_article.pdf', 'total_pages': 16, 'page': 0}, page_content='to create state-of-the-art models for a wide\\nrange of tasks, such as question answering and\\nlanguage inference, without substantial task\\x02specific architecture modifications.\\nBERT is conceptually simple and empirically\\npowerful. It obtains new state-of-the-art re\\x02sults on eleven natural language processing\\ntasks, including pushing the GLUE score to\\n80.5% (7.7% point absolute improvement),\\nMultiNLI accuracy to 86.7% (4.6% absolute\\nimprovement), SQuAD v1.1 question answer\\x02ing Test F1 to 93.2 (1.5 point absolute im\\x02provement) and SQuAD v2.0 Test F1 to 83.1\\n(5.1 point absolute improvement).\\n1 Introduction\\nLanguage model pre-training has been shown to\\nbe effective for improving many natural language\\nprocessing tasks (Dai and Le, 2015; Peters et al.,\\n2018a; Radford et al., 2018; Howard and Ruder,\\n2018). These include sentence-level tasks such as\\nnatural language inference (Bowman et al., 2015;\\nWilliams et al., 2018) and paraphrasing (Dolan')]"
      ]
     },
     "execution_count": 32,
     "metadata": {},
     "output_type": "execute_result"
    }
   ],
   "source": [
    "pdf_doc[0:2]"
   ]
  },
  {
   "cell_type": "code",
   "execution_count": 33,
   "metadata": {
    "colab": {
     "base_uri": "https://localhost:8080/",
     "height": 133
    },
    "id": "qq7FbKrKntIh",
    "outputId": "83aa68eb-4698-40ee-fccb-94f66bbeea68"
   },
   "outputs": [
    {
     "data": {
      "text/markdown": [
       "MASK means that we replace the target token with\n",
       "the [MASK] symbol for MLM; SAME means that\n",
       "we keep the target token as is; RND means that\n",
       "we replace the target token with another random\n",
       "token.\n",
       "The numbers in the left part of the table repre\u0002sent the probabilities of the specific strategies used\n",
       "during MLM pre-training (BERT uses 80%, 10%,\n",
       "10%). The right part of the paper represents the\n",
       "Dev set results. For the feature-based approach,\n",
       "we concatenate the last 4 layers of BERT as the\n",
       "features, which was shown to be the best approach\n",
       "in Section 5.3.\n",
       "From the table it can be seen that fine-tuning is\n",
       "surprisingly robust to different masking strategies.\n",
       "However, as expected, using only the MASK strat\u0002egy was problematic when applying the feature\u0002based approach to NER. Interestingly, using only\n",
       "the RND strategy performs much worse than our\n",
       "strategy as well."
      ],
      "text/plain": [
       "<IPython.core.display.Markdown object>"
      ]
     },
     "execution_count": 33,
     "metadata": {},
     "output_type": "execute_result"
    }
   ],
   "source": [
    "Markdown(pdf_doc[82].page_content)"
   ]
  },
  {
   "cell_type": "markdown",
   "metadata": {
    "id": "4ENim_5MOT9O"
   },
   "source": [
    "### 1. Creating A Embedding Model\n",
    "### 2. Convert the Each Chunk of The Split Document to Embedding Vectors\n",
    "### 3. Storing of The Embedding Vectors to Vectorstore\n",
    "### 4. Save the Vectorstore to Your Drive"
   ]
  },
  {
   "cell_type": "code",
   "execution_count": 34,
   "metadata": {
    "colab": {
     "base_uri": "https://localhost:8080/"
    },
    "id": "VqZ7XBwoa0ee",
    "outputId": "816b33ff-8ff6-4956-e51b-d8457e1d9e2b"
   },
   "outputs": [
    {
     "data": {
      "text/plain": [
       "OpenAIEmbeddings(client=<openai.resources.embeddings.Embeddings object at 0x7e260d54f800>, async_client=<openai.resources.embeddings.AsyncEmbeddings object at 0x7e260908dfd0>, model='text-embedding-3-large', dimensions=3072, deployment='text-embedding-ada-002', openai_api_version=None, openai_api_base=None, openai_api_type=None, openai_proxy=None, embedding_ctx_length=8191, openai_api_key=SecretStr('**********'), openai_organization=None, allowed_special=None, disallowed_special=None, chunk_size=1000, max_retries=2, request_timeout=None, headers=None, tiktoken_enabled=True, tiktoken_model_name=None, show_progress_bar=False, model_kwargs={}, skip_empty=False, default_headers=None, default_query=None, retry_min_seconds=4, retry_max_seconds=20, http_client=None, http_async_client=None, check_embedding_ctx_length=True)"
      ]
     },
     "execution_count": 34,
     "metadata": {},
     "output_type": "execute_result"
    }
   ],
   "source": [
    "from langchain_openai import OpenAIEmbeddings\n",
    "\n",
    "embeddings = OpenAIEmbeddings(model=\"text-embedding-3-large\",\n",
    "                              dimensions=3072)  # dimensions=256, 1024, 3072\n",
    "embeddings\n",
    "\n",
    "# As the embedding model, we use Openai's latest introduced text-embedding-3-large model.\n",
    "# dimensions of text-embedding-3-large are 256, 1024 and 3072"
   ]
  },
  {
   "cell_type": "code",
   "execution_count": 35,
   "metadata": {
    "id": "96nLFF1ja0k_"
   },
   "outputs": [],
   "source": [
    "# the \"Embed\" step of the RAG (Retrieval Augmented Generation) pipeline.\n",
    "# This is the third stage in the indexing process, after \"Load\" and \"Split\"."
   ]
  },
  {
   "cell_type": "code",
   "execution_count": 36,
   "metadata": {
    "id": "8lTAzJVT25sR"
   },
   "outputs": [],
   "source": [
    "# store the embedding vectors."
   ]
  },
  {
   "cell_type": "code",
   "execution_count": 37,
   "metadata": {
    "id": "7UBX15GL25pZ"
   },
   "outputs": [],
   "source": [
    "!pip install -qU langchain-chroma\n",
    "from langchain_chroma import Chroma\n",
    "\n",
    "\n",
    "# VectorStore object\n",
    "# Embeds each Document in pdf_doc using the embeddings function. Stores vectors + metadata in a Chroma vector database\n",
    "index = Chroma.from_documents(documents=pdf_doc,\n",
    "                              embedding=embeddings,\n",
    "                              persist_directory=\"./chroma_store_bert_z\")  # persist_directory, saves in the directory\n",
    "\n",
    "# Create a retriever object from our Chroma vector store (index). Wraps the vector store as a Retriever that returns the k most relevant chunks for a query.\n",
    "retriever = index.as_retriever()  # for using agents #index.as_retriever(search_kwargs={\"k\": 4})\n",
    "\n"
   ]
  },
  {
   "cell_type": "code",
   "execution_count": 38,
   "metadata": {
    "id": "UzxjHr1h25jp"
   },
   "outputs": [],
   "source": [
    "# refinement of the \"Retrieval\" step in a RAG system.\n",
    "# to retrieve the four most relevant pieces of information from the indexed PDF\n",
    "\n",
    "retriever = index.as_retriever(search_kwargs={\"k\": 4})\n",
    "\n",
    "#\n",
    "#\n"
   ]
  },
  {
   "cell_type": "code",
   "execution_count": 39,
   "metadata": {
    "colab": {
     "base_uri": "https://localhost:8080/"
    },
    "id": "btd6TEY04kce",
    "outputId": "712c6493-6b75-4915-aa48-0ae457ba6462"
   },
   "outputs": [
    {
     "data": {
      "text/plain": [
       "[Document(id='10ffc67d-9f78-408d-9d50-9acf62d59031', metadata={'subject': 'N19-1 2019', 'producer': 'pdfTeX-1.40.18', 'creationdate': '2019-04-29T17:36:03+00:00', 'page': 2, 'author': 'Jacob Devlin ; Ming-Wei Chang ; Kenton Lee ; Kristina Toutanova', 'source': '/content/drive/MyDrive/nlp/bert_article.pdf', 'keywords': '', 'moddate': '2019-04-29T17:36:03+00:00', 'total_pages': 16, 'creator': 'LaTeX with hyperref package', 'title': 'BERT: Pre-training of Deep Bidirectional Transformers for Language Understanding'}, page_content='framework: pre-training and fine-tuning. Dur\\x02ing pre-training, the model is trained on unlabeled\\ndata over different pre-training tasks. For fine\\x02tuning, the BERT model is first initialized with\\nthe pre-trained parameters, and all of the param\\x02eters are fine-tuned using labeled data from the\\ndownstream tasks. Each downstream task has sep\\x02arate fine-tuned models, even though they are ini\\x02tialized with the same pre-trained parameters. The\\nquestion-answering example in Figure 1 will serve\\nas a running example for this section.\\nA distinctive feature of BERT is its unified ar\\x02chitecture across different tasks. There is mini\\x02mal difference between the pre-trained architec\\x02ture and the final downstream architecture.\\nModel Architecture BERT’s model architec\\x02ture is a multi-layer bidirectional Transformer en\\x02coder based on the original implementation de\\x02scribed in Vaswani et al. (2017) and released in\\nthe tensor2tensor library.1 Because the use'),\n",
       " Document(id='db0bae0a-9e10-424b-b65e-c29e35d64163', metadata={'creationdate': '2019-04-29T17:36:03+00:00', 'keywords': '', 'producer': 'pdfTeX-1.40.18', 'moddate': '2019-04-29T17:36:03+00:00', 'creator': 'LaTeX with hyperref package', 'title': 'BERT: Pre-training of Deep Bidirectional Transformers for Language Understanding', 'author': 'Jacob Devlin ; Ming-Wei Chang ; Kenton Lee ; Kristina Toutanova', 'source': '/content/drive/MyDrive/nlp/bert_article.pdf', 'subject': 'N19-1 2019', 'page': 2, 'total_pages': 16}, page_content='4173\\nBERT BERT\\nE[CLS] E1\\n E[SEP] ... EN\\nE1’ ... EM’\\nC T1 T[SEP] ... TN\\nT1’ ... TM’\\n[CLS] Tok 1 [SEP] ... Tok N Tok 1 ... TokM\\nQuestion Paragraph\\nStart/End Span\\nBERT\\nE[CLS] E1\\n E[SEP] ... EN\\nE1’ ... EM’\\nC T1 T[SEP] ... TN\\nT1’ ... TM’\\n[CLS] Tok 1 [SEP] ... Tok N Tok 1 ... TokM\\nMasked Sentence A Masked Sentence B\\nPre-training Fine-Tuning\\nNSP Mask LM Mask LM\\nUnlabeled Sentence A and B Pair \\nSQuAD\\nQuestion Answer Pair\\nMNLI NER\\nFigure 1: Overall pre-training and fine-tuning procedures for BERT. Apart from output layers, the same architec\\x02tures are used in both pre-training and fine-tuning. The same pre-trained model parameters are used to initialize\\nmodels for different down-stream tasks. During fine-tuning, all parameters are fine-tuned. [CLS] is a special\\nsymbol added in front of every input example, and [SEP] is a special separator token (e.g. separating ques\\x02tions/answers).\\ning and auto-encoder objectives have been used\\nfor pre-training such models (Howard and Ruder,'),\n",
       " Document(id='b94e7da0-751b-47e0-ab26-94e0e1289db6', metadata={'moddate': '2019-04-29T17:36:03+00:00', 'source': '/content/drive/MyDrive/nlp/bert_article.pdf', 'total_pages': 16, 'author': 'Jacob Devlin ; Ming-Wei Chang ; Kenton Lee ; Kristina Toutanova', 'keywords': '', 'creationdate': '2019-04-29T17:36:03+00:00', 'creator': 'LaTeX with hyperref package', 'subject': 'N19-1 2019', 'title': 'BERT: Pre-training of Deep Bidirectional Transformers for Language Understanding', 'producer': 'pdfTeX-1.40.18', 'page': 0}, page_content='to create state-of-the-art models for a wide\\nrange of tasks, such as question answering and\\nlanguage inference, without substantial task\\x02specific architecture modifications.\\nBERT is conceptually simple and empirically\\npowerful. It obtains new state-of-the-art re\\x02sults on eleven natural language processing\\ntasks, including pushing the GLUE score to\\n80.5% (7.7% point absolute improvement),\\nMultiNLI accuracy to 86.7% (4.6% absolute\\nimprovement), SQuAD v1.1 question answer\\x02ing Test F1 to 93.2 (1.5 point absolute im\\x02provement) and SQuAD v2.0 Test F1 to 83.1\\n(5.1 point absolute improvement).\\n1 Introduction\\nLanguage model pre-training has been shown to\\nbe effective for improving many natural language\\nprocessing tasks (Dai and Le, 2015; Peters et al.,\\n2018a; Radford et al., 2018; Howard and Ruder,\\n2018). These include sentence-level tasks such as\\nnatural language inference (Bowman et al., 2015;\\nWilliams et al., 2018) and paraphrasing (Dolan'),\n",
       " Document(id='01826491-be9a-4ad6-8e8b-d51e7bd6fa6f', metadata={'total_pages': 16, 'moddate': '2019-04-29T17:36:03+00:00', 'creationdate': '2019-04-29T17:36:03+00:00', 'keywords': '', 'source': '/content/drive/MyDrive/nlp/bert_article.pdf', 'page': 0, 'subject': 'N19-1 2019', 'author': 'Jacob Devlin ; Ming-Wei Chang ; Kenton Lee ; Kristina Toutanova', 'producer': 'pdfTeX-1.40.18', 'creator': 'LaTeX with hyperref package', 'title': 'BERT: Pre-training of Deep Bidirectional Transformers for Language Understanding'}, page_content='example, in OpenAI GPT, the authors use a left-to\\x02right architecture, where every token can only at\\x02tend to previous tokens in the self-attention layers\\nof the Transformer (Vaswani et al., 2017). Such re\\x02strictions are sub-optimal for sentence-level tasks,\\nand could be very harmful when applying fine\\x02tuning based approaches to token-level tasks such\\nas question answering, where it is crucial to incor\\x02porate context from both directions.\\nIn this paper, we improve the fine-tuning based\\napproaches by proposing BERT: Bidirectional\\nEncoder Representations from Transformers.\\nBERT alleviates the previously mentioned unidi\\x02rectionality constraint by using a “masked lan\\x02guage model” (MLM) pre-training objective, in\\x02spired by the Cloze task (Taylor, 1953). The\\nmasked language model randomly masks some of\\nthe tokens from the input, and the objective is to\\npredict the original vocabulary id of the masked')]"
      ]
     },
     "execution_count": 39,
     "metadata": {},
     "output_type": "execute_result"
    }
   ],
   "source": [
    "retriever.invoke(\"Describe BERT model architecture\")"
   ]
  },
  {
   "cell_type": "code",
   "execution_count": 39,
   "metadata": {
    "id": "Dard5uTA4kZP"
   },
   "outputs": [],
   "source": []
  },
  {
   "cell_type": "code",
   "execution_count": 39,
   "metadata": {
    "id": "943vaKAk4kTG"
   },
   "outputs": [],
   "source": []
  },
  {
   "cell_type": "code",
   "execution_count": 39,
   "metadata": {
    "id": "WWK9aRCG25gS"
   },
   "outputs": [],
   "source": []
  },
  {
   "cell_type": "markdown",
   "metadata": {
    "id": "y2tMqUthPchD"
   },
   "source": [
    "### Load Vectorstore(index) From Your Drive"
   ]
  },
  {
   "cell_type": "code",
   "execution_count": 40,
   "metadata": {
    "id": "5pjKXmO6a3En"
   },
   "outputs": [],
   "source": [
    "# Initiates the Chroma class, which serves as our vector database.\n",
    "\n",
    "loaded_from_drive_index = Chroma(persist_directory=\"/content/drive/MyDrive/nlp/bert_article_chroma_store\",\n",
    "                      embedding_function=embeddings)\n",
    "#/chroma_store_bert_z"
   ]
  },
  {
   "cell_type": "code",
   "execution_count": 40,
   "metadata": {
    "id": "AXQwX35ha282"
   },
   "outputs": [],
   "source": []
  },
  {
   "cell_type": "code",
   "execution_count": 41,
   "metadata": {
    "colab": {
     "base_uri": "https://localhost:8080/"
    },
    "id": "KRH-FWEua5Fn",
    "outputId": "9980daff-0ffe-4fac-e687-dd45d35ef44a"
   },
   "outputs": [
    {
     "data": {
      "text/plain": [
       "VectorStoreRetriever(tags=['Chroma', 'OpenAIEmbeddings'], vectorstore=<langchain_chroma.vectorstores.Chroma object at 0x7e260cfa34d0>, search_kwargs={'k': 5})"
      ]
     },
     "execution_count": 41,
     "metadata": {},
     "output_type": "execute_result"
    }
   ],
   "source": [
    "load_retriver = loaded_from_drive_index.as_retriever(search_kwargs={\"k\": 5})\n",
    "load_retriver"
   ]
  },
  {
   "cell_type": "code",
   "execution_count": 42,
   "metadata": {
    "id": "80TWdFk6a4-3"
   },
   "outputs": [],
   "source": [
    "# bonus ... yukardakilerin kisa hali .\n",
    "\n",
    "\n",
    "\n",
    "\n",
    "\n",
    "\n",
    "\n",
    "def retrieve_query(query, k=4):\n",
    "    retriever = index.as_retriever(search_kwargs={\"k\": k})  # loaded_index\n",
    "    return retriever.invoke(query)\n",
    "\n",
    "# The query we ask is first converted into an embedding vector. Then, using the cosine similarity metric, the similarity scores between this vector and the embedding vectors in the vector store are calculated and sorted. The top 4 most similar texts are returned"
   ]
  },
  {
   "cell_type": "code",
   "execution_count": 43,
   "metadata": {
    "colab": {
     "base_uri": "https://localhost:8080/"
    },
    "id": "kC-F1LP56FXM",
    "outputId": "bbd8474a-8c5a-4ebb-bd92-788e4b53f5db"
   },
   "outputs": [
    {
     "data": {
      "text/plain": [
       "[Document(id='10ffc67d-9f78-408d-9d50-9acf62d59031', metadata={'keywords': '', 'creator': 'LaTeX with hyperref package', 'moddate': '2019-04-29T17:36:03+00:00', 'subject': 'N19-1 2019', 'total_pages': 16, 'creationdate': '2019-04-29T17:36:03+00:00', 'producer': 'pdfTeX-1.40.18', 'page': 2, 'source': '/content/drive/MyDrive/nlp/bert_article.pdf', 'author': 'Jacob Devlin ; Ming-Wei Chang ; Kenton Lee ; Kristina Toutanova', 'title': 'BERT: Pre-training of Deep Bidirectional Transformers for Language Understanding'}, page_content='framework: pre-training and fine-tuning. Dur\\x02ing pre-training, the model is trained on unlabeled\\ndata over different pre-training tasks. For fine\\x02tuning, the BERT model is first initialized with\\nthe pre-trained parameters, and all of the param\\x02eters are fine-tuned using labeled data from the\\ndownstream tasks. Each downstream task has sep\\x02arate fine-tuned models, even though they are ini\\x02tialized with the same pre-trained parameters. The\\nquestion-answering example in Figure 1 will serve\\nas a running example for this section.\\nA distinctive feature of BERT is its unified ar\\x02chitecture across different tasks. There is mini\\x02mal difference between the pre-trained architec\\x02ture and the final downstream architecture.\\nModel Architecture BERT’s model architec\\x02ture is a multi-layer bidirectional Transformer en\\x02coder based on the original implementation de\\x02scribed in Vaswani et al. (2017) and released in\\nthe tensor2tensor library.1 Because the use'),\n",
       " Document(id='db0bae0a-9e10-424b-b65e-c29e35d64163', metadata={'page': 2, 'total_pages': 16, 'source': '/content/drive/MyDrive/nlp/bert_article.pdf', 'keywords': '', 'author': 'Jacob Devlin ; Ming-Wei Chang ; Kenton Lee ; Kristina Toutanova', 'creationdate': '2019-04-29T17:36:03+00:00', 'subject': 'N19-1 2019', 'title': 'BERT: Pre-training of Deep Bidirectional Transformers for Language Understanding', 'creator': 'LaTeX with hyperref package', 'producer': 'pdfTeX-1.40.18', 'moddate': '2019-04-29T17:36:03+00:00'}, page_content='4173\\nBERT BERT\\nE[CLS] E1\\n E[SEP] ... EN\\nE1’ ... EM’\\nC T1 T[SEP] ... TN\\nT1’ ... TM’\\n[CLS] Tok 1 [SEP] ... Tok N Tok 1 ... TokM\\nQuestion Paragraph\\nStart/End Span\\nBERT\\nE[CLS] E1\\n E[SEP] ... EN\\nE1’ ... EM’\\nC T1 T[SEP] ... TN\\nT1’ ... TM’\\n[CLS] Tok 1 [SEP] ... Tok N Tok 1 ... TokM\\nMasked Sentence A Masked Sentence B\\nPre-training Fine-Tuning\\nNSP Mask LM Mask LM\\nUnlabeled Sentence A and B Pair \\nSQuAD\\nQuestion Answer Pair\\nMNLI NER\\nFigure 1: Overall pre-training and fine-tuning procedures for BERT. Apart from output layers, the same architec\\x02tures are used in both pre-training and fine-tuning. The same pre-trained model parameters are used to initialize\\nmodels for different down-stream tasks. During fine-tuning, all parameters are fine-tuned. [CLS] is a special\\nsymbol added in front of every input example, and [SEP] is a special separator token (e.g. separating ques\\x02tions/answers).\\ning and auto-encoder objectives have been used\\nfor pre-training such models (Howard and Ruder,'),\n",
       " Document(id='b94e7da0-751b-47e0-ab26-94e0e1289db6', metadata={'creationdate': '2019-04-29T17:36:03+00:00', 'title': 'BERT: Pre-training of Deep Bidirectional Transformers for Language Understanding', 'total_pages': 16, 'moddate': '2019-04-29T17:36:03+00:00', 'producer': 'pdfTeX-1.40.18', 'subject': 'N19-1 2019', 'keywords': '', 'page': 0, 'source': '/content/drive/MyDrive/nlp/bert_article.pdf', 'author': 'Jacob Devlin ; Ming-Wei Chang ; Kenton Lee ; Kristina Toutanova', 'creator': 'LaTeX with hyperref package'}, page_content='to create state-of-the-art models for a wide\\nrange of tasks, such as question answering and\\nlanguage inference, without substantial task\\x02specific architecture modifications.\\nBERT is conceptually simple and empirically\\npowerful. It obtains new state-of-the-art re\\x02sults on eleven natural language processing\\ntasks, including pushing the GLUE score to\\n80.5% (7.7% point absolute improvement),\\nMultiNLI accuracy to 86.7% (4.6% absolute\\nimprovement), SQuAD v1.1 question answer\\x02ing Test F1 to 93.2 (1.5 point absolute im\\x02provement) and SQuAD v2.0 Test F1 to 83.1\\n(5.1 point absolute improvement).\\n1 Introduction\\nLanguage model pre-training has been shown to\\nbe effective for improving many natural language\\nprocessing tasks (Dai and Le, 2015; Peters et al.,\\n2018a; Radford et al., 2018; Howard and Ruder,\\n2018). These include sentence-level tasks such as\\nnatural language inference (Bowman et al., 2015;\\nWilliams et al., 2018) and paraphrasing (Dolan'),\n",
       " Document(id='01826491-be9a-4ad6-8e8b-d51e7bd6fa6f', metadata={'producer': 'pdfTeX-1.40.18', 'keywords': '', 'source': '/content/drive/MyDrive/nlp/bert_article.pdf', 'total_pages': 16, 'title': 'BERT: Pre-training of Deep Bidirectional Transformers for Language Understanding', 'creator': 'LaTeX with hyperref package', 'moddate': '2019-04-29T17:36:03+00:00', 'author': 'Jacob Devlin ; Ming-Wei Chang ; Kenton Lee ; Kristina Toutanova', 'page': 0, 'creationdate': '2019-04-29T17:36:03+00:00', 'subject': 'N19-1 2019'}, page_content='example, in OpenAI GPT, the authors use a left-to\\x02right architecture, where every token can only at\\x02tend to previous tokens in the self-attention layers\\nof the Transformer (Vaswani et al., 2017). Such re\\x02strictions are sub-optimal for sentence-level tasks,\\nand could be very harmful when applying fine\\x02tuning based approaches to token-level tasks such\\nas question answering, where it is crucial to incor\\x02porate context from both directions.\\nIn this paper, we improve the fine-tuning based\\napproaches by proposing BERT: Bidirectional\\nEncoder Representations from Transformers.\\nBERT alleviates the previously mentioned unidi\\x02rectionality constraint by using a “masked lan\\x02guage model” (MLM) pre-training objective, in\\x02spired by the Cloze task (Taylor, 1953). The\\nmasked language model randomly masks some of\\nthe tokens from the input, and the objective is to\\npredict the original vocabulary id of the masked'),\n",
       " Document(id='5f41bdb1-c98b-4358-8658-14d97c0722cb', metadata={'subject': 'N19-1 2019', 'title': 'BERT: Pre-training of Deep Bidirectional Transformers for Language Understanding', 'creationdate': '2019-04-29T17:36:03+00:00', 'page': 2, 'moddate': '2019-04-29T17:36:03+00:00', 'producer': 'pdfTeX-1.40.18', 'total_pages': 16, 'keywords': '', 'source': '/content/drive/MyDrive/nlp/bert_article.pdf', 'author': 'Jacob Devlin ; Ming-Wei Chang ; Kenton Lee ; Kristina Toutanova', 'creator': 'LaTeX with hyperref package'}, page_content='the tensor2tensor library.1 Because the use\\nof Transformers has become common and our im\\x02plementation is almost identical to the original,\\nwe will omit an exhaustive background descrip\\x02tion of the model architecture and refer readers to\\nVaswani et al. (2017) as well as excellent guides\\nsuch as “The Annotated Transformer.”2\\nIn this work, we denote the number of layers\\n(i.e., Transformer blocks) as L, the hidden size as\\nH, and the number of self-attention heads as A.\\n3\\nWe primarily report results on two model sizes:\\nBERTBASE (L=12, H=768, A=12, Total Param\\x02eters=110M) and BERTLARGE (L=24, H=1024,\\nA=16, Total Parameters=340M).\\nBERTBASE was chosen to have the same model\\nsize as OpenAI GPT for comparison purposes.\\nCritically, however, the BERT Transformer uses\\nbidirectional self-attention, while the GPT Trans\\x02former uses constrained self-attention where every\\ntoken can only attend to context to its left.4\\n1\\nhttps://github.com/tensorflow/tensor2tensor\\n2')]"
      ]
     },
     "execution_count": 43,
     "metadata": {},
     "output_type": "execute_result"
    }
   ],
   "source": [
    "our_query = \"Describe BERT model architecture\"\n",
    "\n",
    "doc_search = retrieve_query(our_query, k=5)  # first 5 most similar texts are returned\n",
    "doc_search"
   ]
  },
  {
   "cell_type": "code",
   "execution_count": 44,
   "metadata": {
    "id": "zpDVOLr-6FQD"
   },
   "outputs": [],
   "source": [
    "\n",
    "\n",
    "\n",
    "\n",
    "\n",
    "\n",
    "# for now we only saw our pdf relevant parts, llm was not involved in ...\n",
    "\n",
    "\n",
    "\n",
    "\n",
    "\n",
    "\n"
   ]
  },
  {
   "cell_type": "code",
   "execution_count": 44,
   "metadata": {
    "id": "BWJl5BLJ6FGJ"
   },
   "outputs": [],
   "source": []
  },
  {
   "cell_type": "markdown",
   "metadata": {
    "id": "-G8R4V7BROkz"
   },
   "source": [
    "### Generating an Answer Based on The Similar Chunks"
   ]
  },
  {
   "cell_type": "code",
   "execution_count": 45,
   "metadata": {
    "id": "XNDU0jcma7HB"
   },
   "outputs": [],
   "source": [
    "# vital bridge between the \"Retrieval\" and \"Generation\" phases of our RAG pipeline\n",
    "# relevant information retrieved from our vector store (doc_search) and formats it, along with the user's question, into a clean and structured prompt that can be understood and used by an LLM to generate a final, coherent answer."
   ]
  },
  {
   "cell_type": "code",
   "execution_count": 45,
   "metadata": {
    "id": "lHYC8MYbBjF8"
   },
   "outputs": [],
   "source": []
  },
  {
   "cell_type": "code",
   "execution_count": 45,
   "metadata": {
    "id": "Xb66AB_VBjBF"
   },
   "outputs": [],
   "source": []
  },
  {
   "cell_type": "code",
   "execution_count": 45,
   "metadata": {
    "id": "PMuorJgTBi-S"
   },
   "outputs": [],
   "source": []
  },
  {
   "cell_type": "markdown",
   "metadata": {
    "id": "sy4fmzsWLayT"
   },
   "source": [
    "### Pipeline For RAG"
   ]
  },
  {
   "cell_type": "code",
   "execution_count": 46,
   "metadata": {
    "id": "SiVANHT4ozPB"
   },
   "outputs": [],
   "source": [
    "\n"
   ]
  },
  {
   "cell_type": "code",
   "execution_count": 60,
   "metadata": {
    "id": "qju0A4HT7RTo"
   },
   "outputs": [],
   "source": [
    "  # 1. chatbot qa yapisi prompt kismi\n",
    "\n",
    "\n",
    "from langchain.prompts import ChatPromptTemplate\n",
    "from langchain_openai import ChatOpenAI\n",
    "from langchain_core.output_parsers import StrOutputParser\n",
    "from langchain.chains.question_answering import load_qa_chain\n",
    "from IPython.display import Markdown\n",
    "\n",
    "# Role-based chat prompt\n",
    "chat_template = ChatPromptTemplate.from_messages([\n",
    "    (\n",
    "        \"system\",\n",
    "        \"You are a scientific QA assistant. Use only the provided context. \"\n",
    "        \"Always cite page numbers. If uncertain, say 'I don't know.' \"\n",
    "        \"Keep answers short, neutral, and evidence-based.\"\n",
    "    ),\n",
    "    (\n",
    "        \"system\",\n",
    "        \"Return output as a markdown block with sections:\\n\"\n",
    "        \"# Answer\\n\"\n",
    "        \"## Key Points (with page cites)\\n\"\n",
    "        \"### Sources\\n\"\n",
    "        \"### Confidence\"\n",
    "    ),\n",
    "    (\n",
    "        \"human\",\n",
    "        # We inject both the raw context and a compact citations map the model can quote.\n",
    "        \"Context:\\n{context}\\n\\n\"\n",
    "        \"Citations Map (use these for page refs):\\n{citations}\\n\\n\"\n",
    "        \"Question: {question}\"\n",
    "    )\n",
    "])\n",
    "\n",
    "# For map_reduce you also need a combine prompt (roles preserved)\n",
    "combine_prompt = ChatPromptTemplate.from_messages([\n",
    "    (\"system\",\n",
    "     \"You are a scientific QA assistant. Combine the partial answers below into a single, consistent answer. \"\n",
    "     \"Resolve conflicts conservatively; if evidence is insufficient, say 'I don't know.' \"\n",
    "     \"Keep the tone neutral and cite page numbers where available.\"),\n",
    "    (\"system\",\n",
    "     \"Return markdown with sections:\\n\"\n",
    "     \"### Answer\\n\"\n",
    "     \"### Key Points (with page cites)\\n\"\n",
    "     \"### Sources\\n\"\n",
    "     \"### Confidence\"),\n",
    "    (\"human\",\n",
    "     \"Partial answers from multiple chunks:\\n{summaries}\\n\\nProduce the final answer.\")\n",
    "])\n",
    "\n",
    "\n",
    "\n",
    "             # 1. chatbot qa yapisi\n",
    "\n",
    "\n",
    "#get_answers, consolidates all the previous steps of the Retrieval Augmented Generation (RAG) pipeline into a single, cohesive unit.\n",
    "\n",
    "#This function represents the complete workflow from receiving a user's question to generating a final, coherent answer.\n",
    "\n",
    "\n",
    "def get_answers(query, k=4):\n",
    "    from langchain_openai import ChatOpenAI\n",
    "    from langchain_core.output_parsers import StrOutputParser\n",
    "    from IPython.display import Markdown\n",
    "\n",
    "    # 1) Retrieve top-k documents\n",
    "    docs = retriever.invoke(query, k=k)\n",
    "\n",
    "    # 2) Build context\n",
    "    context = \"\\n\\n\".join(d.page_content for d in docs)\n",
    "\n",
    "    # 3) Build a citations map the model can quote in output\n",
    "    #    (ensures it actually has page numbers available)\n",
    "    citations = \"\\n\".join(\n",
    "        f\"[{i+1}] {d.metadata.get('source','unknown')} — p.{d.metadata.get('page','?')}\"\n",
    "        for i, d in enumerate(docs)\n",
    "    )\n",
    "\n",
    "    # 4) LLM\n",
    "    llm = ChatOpenAI(model_name=\"gpt-4o-mini\", temperature=0, max_tokens=256)\n",
    "    # max_tokens=1024)\n",
    "\n",
    "    # 5) Chain\n",
    "    chain = chat_template | llm | StrOutputParser()\n",
    "\n",
    "    # 6) Invoke\n",
    "    answer = chain.invoke({\"question\": query, \"context\": context, \"citations\": citations})\n",
    "\n",
    "    # 7) Return (avoid adding another Sources block — model already includes it)\n",
    "    return Markdown(answer)"
   ]
  },
  {
   "cell_type": "code",
   "execution_count": 61,
   "metadata": {
    "colab": {
     "base_uri": "https://localhost:8080/",
     "height": 411
    },
    "id": "TtGnjJsGBjMl",
    "outputId": "340fc57d-fa8f-4ffe-c338-cfef40c456f3"
   },
   "outputs": [
    {
     "data": {
      "text/markdown": [
       "# Answer\n",
       "The two pre-training tasks used in BERT are:\n",
       "\n",
       "1. **Masked Language Model (MLM)**: This task involves masking a percentage of the input tokens and training the model to predict these masked tokens based on their context. It allows the model to learn bidirectional representations by considering both left and right context.\n",
       "\n",
       "2. **Next Sentence Prediction (NSP)**: This task trains the model to predict whether a given sentence B follows sentence A in the original text. It helps the model understand the relationship between sentence pairs.\n",
       "\n",
       "## Key Points (with page cites)\n",
       "- BERT uses two unsupervised tasks for pre-training: Masked Language Model (MLM) and Next Sentence Prediction (NSP) (p.3).\n",
       "- MLM trains the model to predict masked tokens in a sentence (p.3).\n",
       "- NSP trains the model to determine if one sentence follows another (p.3).\n",
       "\n",
       "### Sources\n",
       "- [1] /content/drive/MyDrive/nlp/bert_article.pdf — p.3\n",
       "\n",
       "### Confidence\n",
       "High"
      ],
      "text/plain": [
       "<IPython.core.display.Markdown object>"
      ]
     },
     "execution_count": 61,
     "metadata": {},
     "output_type": "execute_result"
    }
   ],
   "source": [
    "our_query = \"What are the two pre-training tasks used in BERT, and what does each one train the model to do?\"\n",
    "\n",
    "answer = get_answers(our_query, k=5)\n",
    "answer"
   ]
  },
  {
   "cell_type": "code",
   "execution_count": 62,
   "metadata": {
    "colab": {
     "base_uri": "https://localhost:8080/",
     "height": 46
    },
    "id": "I77FBDWaNHVu",
    "outputId": "d337c32c-7326-4692-9c14-b8609f4dacf9"
   },
   "outputs": [
    {
     "data": {
      "text/markdown": [
       "I don't know."
      ],
      "text/plain": [
       "<IPython.core.display.Markdown object>"
      ]
     },
     "execution_count": 62,
     "metadata": {},
     "output_type": "execute_result"
    }
   ],
   "source": [
    "our_query = \"What ROUGE-L score does BERT report on CNN/DailyMail abstractive summarization using a pointer-generator\"\n",
    "\n",
    "answer = get_answers(our_query, k=5)\n",
    "answer"
   ]
  },
  {
   "cell_type": "code",
   "execution_count": 64,
   "metadata": {
    "colab": {
     "base_uri": "https://localhost:8080/",
     "height": 391
    },
    "id": "-Zarvi2TFCJA",
    "outputId": "f7e40055-224a-4636-9003-b396e0248e7a"
   },
   "outputs": [
    {
     "data": {
      "text/markdown": [
       "# Answer\n",
       "The minimal number of parameters that need to be randomly initialized when incorporating BERT with an extra output layer is very small, as the task-specific models are formed by adding only one additional output layer to the pre-trained model. \n",
       "\n",
       "## Key Points (with page cites)\n",
       "- The task-specific models incorporate BERT with one additional output layer, requiring only a minimal number of parameters to be learned from scratch (page 4184).\n",
       "\n",
       "### Sources\n",
       "- [1] /content/drive/MyDrive/nlp/bert_article.pdf — p.8\n",
       "- [2] /content/drive/MyDrive/nlp/bert_article.pdf — p.12\n",
       "- [3] /content/drive/MyDrive/nlp/bert_article.pdf — p.13\n",
       "- [4] /content/drive/MyDrive/nlp/bert_article.pdf — p.13\n",
       "- [5] /content/drive/MyDrive/nlp/bert_article.pdf — p.2\n",
       "\n",
       "### Confidence\n",
       "High"
      ],
      "text/plain": [
       "<IPython.core.display.Markdown object>"
      ]
     },
     "execution_count": 64,
     "metadata": {},
     "output_type": "execute_result"
    }
   ],
   "source": [
    "our_query = \"In the context of fine-tuning, what minimal number of parameters need to be randomly initialized when incorporating BERT with an extra output layer?\"\n",
    "\n",
    "answer = get_answers(our_query, k=5)\n",
    "answer\n",
    "\n"
   ]
  },
  {
   "cell_type": "code",
   "execution_count": null,
   "metadata": {
    "id": "7zpK_y7dFCGv"
   },
   "outputs": [],
   "source": []
  },
  {
   "cell_type": "code",
   "execution_count": null,
   "metadata": {
    "id": "QAs_vxYHFCEg"
   },
   "outputs": [],
   "source": []
  },
  {
   "cell_type": "code",
   "execution_count": null,
   "metadata": {
    "id": "wTpWzeA8FCBw"
   },
   "outputs": [],
   "source": []
  },
  {
   "cell_type": "code",
   "execution_count": null,
   "metadata": {
    "id": "V0J8voHdFB_T"
   },
   "outputs": [],
   "source": []
  },
  {
   "cell_type": "code",
   "execution_count": 50,
   "metadata": {
    "id": "SG9hHPrkYlDD"
   },
   "outputs": [],
   "source": [
    "# some question\n",
    "\n",
    "\n",
    "# Relevant\n",
    "\n",
    "# What are the two pre-training tasks used in BERT, and what does each one train the model to do?\n",
    "# How do BERTBASE and BERTLARGE differ in L (layers), H (hidden size), A (attention heads), and total parameters?\n",
    "\n",
    "\n",
    "# Irrelevant\n",
    "\n",
    "# 3) What is the chemical formula of water?\n",
    "# 4) What is the tallest mountain in South America?\n",
    "\n",
    "\n",
    "#What ROUGE-L score does BERT report on CNN/DailyMail abstractive summarization using a pointer-generator\n",
    "\n",
    "\n",
    "\n"
   ]
  },
  {
   "cell_type": "code",
   "execution_count": 51,
   "metadata": {
    "id": "bmyQ9aTAYlAl"
   },
   "outputs": [],
   "source": [
    "#                         works well  but may not be cost effective\n",
    "\n",
    "\n",
    "\n",
    "from langchain.chains import RetrievalQA\n",
    "from langchain_core.prompts import ChatPromptTemplate\n",
    "from langchain_openai import ChatOpenAI\n",
    "\n",
    "llm = ChatOpenAI(model=\"gpt-4o-mini\", temperature=0)\n",
    "\n",
    "\n",
    "QUESTION_PROMPT = ChatPromptTemplate.from_template(\n",
    "    \"\"\"You are an data scientist assistant answering a user question using ONLY the provided context.\n",
    "\n",
    "REQUIREMENTS\n",
    "- If the context is insufficient, say: \"I don't know based on the provided context.\"\n",
    "- Be precise and neutral; do not speculate.\n",
    "- Keep the main answer within 3–8 sentences unless explicitly asked for more.\n",
    "- Cite support in brackets using metadata if available.\n",
    "\n",
    "CONTEXT\n",
    "{context}\n",
    "\n",
    "QUESTION\n",
    "{question}\n",
    "\n",
    "ANSWER\"\"\"\n",
    ")\n",
    "\n",
    "COMBINE_PROMPT = ChatPromptTemplate.from_template(\n",
    "    \"\"\"You receive multiple candidate answers synthesized from different context chunks.\n",
    "\n",
    "TASK\n",
    "- Produce ONE final answer.\n",
    "- Prefer statements directly supported by the context; drop anything weakly supported.\n",
    "- If candidates conflict and evidence is unclear, state the uncertainty or contraversaries.\n",
    "- Keep the main answer within 5–12 sentences.\n",
    "- Consolidate citations in brackets if metadata is present.\n",
    "\n",
    "CANDIDATE ANSWERS\n",
    "{summaries}\n",
    "\n",
    "FINAL ANSWER\"\"\"\n",
    ")\n",
    "\n",
    "# RetrievalQA icinde retriever en alakalı döküman parçalarını çeker,seçtiğin chain_type’a göre bu parçalar prompt’a yerleştirilir, LLM cevabı üretir\n",
    "\n",
    "def get_answers(query, k=5):\n",
    "    retriever = index.as_retriever(search_kwargs={\"k\": k})\n",
    "    qa = RetrievalQA.from_chain_type(                        ####################\n",
    "        llm=llm,\n",
    "        retriever=retriever,\n",
    "        chain_type=\"map_reduce\",   # or \"stuff\" for simpler\n",
    "        chain_type_kwargs={\n",
    "            \"question_prompt\": QUESTION_PROMPT,\n",
    "            \"combine_prompt\": COMBINE_PROMPT\n",
    "        },\n",
    "        return_source_documents=True,\n",
    "    )\n",
    "    out = qa.invoke({\"query\": query})   # in LC 0.2+, key is \"query\"\n",
    "    return out['result']\n"
   ]
  },
  {
   "cell_type": "code",
   "execution_count": 52,
   "metadata": {
    "colab": {
     "base_uri": "https://localhost:8080/",
     "height": 87
    },
    "id": "Kng6oD-_Yk9z",
    "outputId": "245e87c4-2961-4631-970e-7453ddc893fb"
   },
   "outputs": [
    {
     "data": {
      "application/vnd.google.colaboratory.intrinsic+json": {
       "type": "string"
      },
      "text/plain": [
       "'The two pre-training tasks used in BERT are the Masked Language Model (MLM) and Next Sentence Prediction (NSP). The MLM involves masking a percentage of the input tokens and training the model to predict these masked tokens based on their context, allowing the model to learn deep bidirectional representations. The NSP task trains the model to determine if a given sentence logically follows another, which helps in understanding the relationship between sentences and is crucial for tasks requiring context comprehension across multiple sentences [Figure 1].'"
      ]
     },
     "execution_count": 52,
     "metadata": {},
     "output_type": "execute_result"
    }
   ],
   "source": [
    "our_query = \" What are the two pre-training tasks used in BERT, and what does each one train the model to do?\"\n",
    "\n",
    "answer = get_answers(our_query, k=7)\n",
    "answer"
   ]
  },
  {
   "cell_type": "code",
   "execution_count": 53,
   "metadata": {
    "colab": {
     "base_uri": "https://localhost:8080/",
     "height": 98
    },
    "id": "2XBA1bcbYk7A",
    "outputId": "8590bec3-5314-46d4-d2d0-9f66373f7359"
   },
   "outputs": [
    {
     "data": {
      "text/markdown": [
       "The two pre-training tasks used in BERT are the Masked Language Model (MLM) and Next Sentence Prediction (NSP). The MLM involves masking a percentage of the input tokens and training the model to predict these masked tokens based on their context, allowing the model to learn deep bidirectional representations. The NSP task trains the model to determine if a given sentence logically follows another, which helps in understanding the relationship between sentences and is crucial for tasks requiring context comprehension across multiple sentences [Figure 1]."
      ],
      "text/plain": [
       "<IPython.core.display.Markdown object>"
      ]
     },
     "execution_count": 53,
     "metadata": {},
     "output_type": "execute_result"
    }
   ],
   "source": [
    "Markdown(answer)"
   ]
  },
  {
   "cell_type": "code",
   "execution_count": 54,
   "metadata": {
    "colab": {
     "base_uri": "https://localhost:8080/",
     "height": 46
    },
    "id": "o-viCEouWB7i",
    "outputId": "4fb8d2b0-58ed-495c-d53c-a9f4177c78b8"
   },
   "outputs": [
    {
     "data": {
      "text/markdown": [
       "Based on the provided context, there is insufficient information to formulate a definitive answer."
      ],
      "text/plain": [
       "<IPython.core.display.Markdown object>"
      ]
     },
     "execution_count": 54,
     "metadata": {},
     "output_type": "execute_result"
    }
   ],
   "source": [
    "our_query = \"what is the relation between bert and tpu?\"\n",
    "\n",
    "answer = get_answers(our_query, k=5)\n",
    "Markdown(answer)"
   ]
  },
  {
   "cell_type": "code",
   "execution_count": 59,
   "metadata": {
    "colab": {
     "base_uri": "https://localhost:8080/",
     "height": 81
    },
    "id": "_4CuDqXDA6tL",
    "outputId": "b17b9759-22d8-4382-d6bb-db688e8b7bf4"
   },
   "outputs": [
    {
     "data": {
      "text/markdown": [
       "In the context of fine-tuning BERT with an additional output layer, the minimal number of parameters that need to be learned from scratch is the number of parameters in the new output layer itself. All other parameters of the pre-trained BERT model are typically retained and fine-tuned rather than initialized randomly. Therefore, only the parameters specific to the additional output layer would be initialized randomly."
      ],
      "text/plain": [
       "<IPython.core.display.Markdown object>"
      ]
     },
     "execution_count": 59,
     "metadata": {},
     "output_type": "execute_result"
    }
   ],
   "source": [
    "\n",
    "\n",
    "our_query = \"In the context of fine-tuning, what minimal number of parameters need to be randomly initialized when incorporating BERT with an extra output layer?\"\n",
    "\n",
    "answer = get_answers(our_query, k=5)\n",
    "Markdown(answer)\n",
    "\n",
    "\n",
    "\n"
   ]
  },
  {
   "cell_type": "code",
   "execution_count": 56,
   "metadata": {
    "id": "1DuuwCpaWB18"
   },
   "outputs": [],
   "source": [
    "def chat(k=5):\n",
    "    from IPython.display import display\n",
    "    while True:\n",
    "        q = input(\"Q (blank/quit to exit): \").strip()\n",
    "        if not q or q.lower() in {\"q\", \"quit\", \"exit\"}:\n",
    "            break\n",
    "        display(get_answers(q, k=k))\n",
    "        print(\"-\" * 80)"
   ]
  },
  {
   "cell_type": "code",
   "execution_count": 57,
   "metadata": {
    "colab": {
     "base_uri": "https://localhost:8080/"
    },
    "id": "HrKupzTOWBzY",
    "outputId": "3506018c-f502-45c5-f5f4-3229216d3a46"
   },
   "outputs": [
    {
     "name": "stdout",
     "output_type": "stream",
     "text": [
      "Q (blank/quit to exit): q\n"
     ]
    }
   ],
   "source": [
    "chat()"
   ]
  },
  {
   "cell_type": "code",
   "execution_count": 57,
   "metadata": {
    "id": "8dwMWQYGWBwg"
   },
   "outputs": [],
   "source": []
  },
  {
   "cell_type": "code",
   "execution_count": 57,
   "metadata": {
    "id": "SQ9dFV2zWBtm"
   },
   "outputs": [],
   "source": []
  },
  {
   "cell_type": "code",
   "execution_count": null,
   "metadata": {
    "id": "Sq6ignaJfX06"
   },
   "outputs": [],
   "source": []
  },
  {
   "cell_type": "code",
   "execution_count": null,
   "metadata": {
    "id": "9p2gJlHofXxq"
   },
   "outputs": [],
   "source": []
  },
  {
   "cell_type": "code",
   "execution_count": null,
   "metadata": {
    "id": "pYN2VVBPfXvJ"
   },
   "outputs": [],
   "source": []
  },
  {
   "cell_type": "code",
   "execution_count": null,
   "metadata": {
    "id": "v1AyF-MpfXlF"
   },
   "outputs": [],
   "source": []
  }
 ],
 "metadata": {
  "colab": {
   "provenance": []
  },
  "kernelspec": {
   "display_name": "Python 3 (ipykernel)",
   "language": "python",
   "name": "python3"
  },
  "language_info": {
   "codemirror_mode": {
    "name": "ipython",
    "version": 3
   },
   "file_extension": ".py",
   "mimetype": "text/x-python",
   "name": "python",
   "nbconvert_exporter": "python",
   "pygments_lexer": "ipython3",
   "version": "3.10.0"
  }
 },
 "nbformat": 4,
 "nbformat_minor": 4
}
